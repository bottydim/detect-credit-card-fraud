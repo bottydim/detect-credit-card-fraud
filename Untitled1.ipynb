{
 "cells": [
  {
   "cell_type": "code",
   "execution_count": 3,
   "metadata": {
    "collapsed": false,
    "scrolled": true
   },
   "outputs": [
    {
     "name": "stderr",
     "output_type": "stream",
     "text": [
      "Using Theano backend.\n",
      "Using gpu device 0: GeForce GTX 980 (CNMeM is disabled, cuDNN 5103)\n",
      "/usr/local/lib/python2.7/dist-packages/theano/sandbox/cuda/__init__.py:600: UserWarning:\n",
      "\n",
      "Your cuDNN version is more recent than the one Theano officially supports. If you see any problems, try updating Theano or downgrading cuDNN to version 5.\n",
      "\n"
     ]
    }
   ],
   "source": [
    "import h5py\n",
    "import numpy as np\n",
    "from ccfd_dnn.model import *\n",
    "from ccfd_dnn.model_eval import *"
   ]
  },
  {
   "cell_type": "code",
   "execution_count": 4,
   "metadata": {
    "collapsed": true
   },
   "outputs": [],
   "source": [
    "table = 'data_little_enc'\n",
    "w_id = 1"
   ]
  },
  {
   "cell_type": "code",
   "execution_count": 5,
   "metadata": {
    "collapsed": false
   },
   "outputs": [
    {
     "name": "stdout",
     "output_type": "stream",
     "text": [
      "Model LOADED!\n"
     ]
    }
   ],
   "source": [
    "    disk_engine = get_engine()\n",
    "    ml = ModelLoader(table,w_id)\n",
    "    model = ml.model\n",
    "    title = 'BiRNN-DO3-DLE'"
   ]
  },
  {
   "cell_type": "code",
   "execution_count": 6,
   "metadata": {
    "collapsed": false
   },
   "outputs": [
    {
     "data": {
      "text/plain": [
       "{'_function_kwargs': {},\n",
       " '_output_mask_cache': {'140177944842064_140177756121744': All{2}.0,\n",
       "  '140177944842064_9545840': All{2}.0},\n",
       " '_output_shape_cache': {'(None, 60, 44)': (None, 60, 3)},\n",
       " '_output_tensor_cache': {'140177944842064_9545840': Reshape{3}.0},\n",
       " 'built': True,\n",
       " 'container_nodes': {'gru_1_ib-0',\n",
       "  'gru_2_ib-0',\n",
       "  'gru_3_ib-0',\n",
       "  'gru_4_ib-0',\n",
       "  'gru_5_ib-0',\n",
       "  'gru_6_ib-0',\n",
       "  'gru_7_ib-0',\n",
       "  'gru_8_ib-0',\n",
       "  'main_input_ib-0',\n",
       "  'masking_1_ib-0',\n",
       "  'merge_1_ib-0',\n",
       "  'merge_2_ib-0',\n",
       "  'merge_3_ib-0',\n",
       "  'merge_4_ib-0',\n",
       "  'timedistributed_1_ib-0'},\n",
       " 'inbound_nodes': [<keras.engine.topology.Node at 0x7f7dad5d20d0>],\n",
       " 'input_layers': [<keras.engine.topology.InputLayer at 0x7f7db89b8f90>],\n",
       " 'input_layers_node_indices': [0],\n",
       " 'input_layers_tensor_indices': [0],\n",
       " 'input_names': ['main_input'],\n",
       " 'inputs': [main_input],\n",
       " 'internal_input_shapes': [(None, 60, 44)],\n",
       " 'internal_output_shapes': [(None, 60, 3)],\n",
       " 'layers': [<keras.engine.topology.InputLayer at 0x7f7db89b8f90>,\n",
       "  <keras.layers.core.Masking at 0x7f7db88ae150>,\n",
       "  <keras.layers.recurrent.GRU at 0x7f7db88ae190>,\n",
       "  <keras.layers.recurrent.GRU at 0x7f7db890cdd0>,\n",
       "  <keras.engine.topology.Merge at 0x7f7db8372350>,\n",
       "  <keras.layers.recurrent.GRU at 0x7f7db828ca90>,\n",
       "  <keras.layers.recurrent.GRU at 0x7f7db82ae310>,\n",
       "  <keras.engine.topology.Merge at 0x7f7db80cf1d0>,\n",
       "  <keras.layers.recurrent.GRU at 0x7f7db80461d0>,\n",
       "  <keras.layers.recurrent.GRU at 0x7f7db8046990>,\n",
       "  <keras.engine.topology.Merge at 0x7f7db02ddc10>,\n",
       "  <keras.layers.recurrent.GRU at 0x7f7db00bbd50>,\n",
       "  <keras.layers.recurrent.GRU at 0x7f7db00c1550>,\n",
       "  <keras.engine.topology.Merge at 0x7f7db0072290>,\n",
       "  <keras.layers.wrappers.TimeDistributed at 0x7f7db888a690>],\n",
       " 'layers_by_depth': {0: [<keras.layers.wrappers.TimeDistributed at 0x7f7db888a690>],\n",
       "  1: [<keras.engine.topology.Merge at 0x7f7db0072290>],\n",
       "  2: [<keras.layers.recurrent.GRU at 0x7f7db00bbd50>,\n",
       "   <keras.layers.recurrent.GRU at 0x7f7db00c1550>],\n",
       "  3: [<keras.engine.topology.Merge at 0x7f7db02ddc10>],\n",
       "  4: [<keras.layers.recurrent.GRU at 0x7f7db80461d0>,\n",
       "   <keras.layers.recurrent.GRU at 0x7f7db8046990>],\n",
       "  5: [<keras.engine.topology.Merge at 0x7f7db80cf1d0>],\n",
       "  6: [<keras.layers.recurrent.GRU at 0x7f7db828ca90>,\n",
       "   <keras.layers.recurrent.GRU at 0x7f7db82ae310>],\n",
       "  7: [<keras.engine.topology.Merge at 0x7f7db8372350>],\n",
       "  8: [<keras.layers.recurrent.GRU at 0x7f7db88ae190>,\n",
       "   <keras.layers.recurrent.GRU at 0x7f7db890cdd0>],\n",
       "  9: [<keras.layers.core.Masking at 0x7f7db88ae150>],\n",
       "  10: [<keras.engine.topology.InputLayer at 0x7f7db89b8f90>]},\n",
       " 'loss': 'sparse_categorical_crossentropy',\n",
       " 'loss_functions': [<function keras.objectives.sparse_categorical_crossentropy>],\n",
       " 'loss_weights': None,\n",
       " 'metrics': [mean],\n",
       " 'metrics_names': ['loss', 'acc'],\n",
       " 'name': 'model_1',\n",
       " 'nodes_by_depth': {0: [<keras.engine.topology.Node at 0x7f7dad57a5d0>],\n",
       "  1: [<keras.engine.topology.Node at 0x7f7dad5bead0>],\n",
       "  2: [<keras.engine.topology.Node at 0x7f7db0005e50>,\n",
       "   <keras.engine.topology.Node at 0x7f7dad5c5690>],\n",
       "  3: [<keras.engine.topology.Node at 0x7f7db00c1350>],\n",
       "  4: [<keras.engine.topology.Node at 0x7f7db00bb990>,\n",
       "   <keras.engine.topology.Node at 0x7f7db02dd7d0>],\n",
       "  5: [<keras.engine.topology.Node at 0x7f7db8046790>],\n",
       "  6: [<keras.engine.topology.Node at 0x7f7db03f4dd0>,\n",
       "   <keras.engine.topology.Node at 0x7f7db80c2d90>],\n",
       "  7: [<keras.engine.topology.Node at 0x7f7db82ae110>],\n",
       "  8: [<keras.engine.topology.Node at 0x7f7db828c6d0>,\n",
       "   <keras.engine.topology.Node at 0x7f7db836ded0>],\n",
       "  9: [<keras.engine.topology.Node at 0x7f7db890cf90>],\n",
       "  10: [<keras.engine.topology.Node at 0x7f7db88ae110>]},\n",
       " 'optimizer': <keras.optimizers.RMSprop at 0x7f7dad57a650>,\n",
       " 'outbound_nodes': [],\n",
       " 'output_layers': [<keras.layers.wrappers.TimeDistributed at 0x7f7db888a690>],\n",
       " 'output_layers_node_indices': [0],\n",
       " 'output_layers_tensor_indices': [0],\n",
       " 'output_names': ['timedistributed_1'],\n",
       " 'outputs': [Reshape{3}.0],\n",
       " 'predict_function': None,\n",
       " 'sample_weight_mode': 'temporal',\n",
       " 'sample_weight_modes': ['temporal'],\n",
       " 'sample_weights': [timedistributed_1_sample_weights],\n",
       " 'supports_masking': False,\n",
       " 'targets': [timedistributed_1_target],\n",
       " 'test_function': None,\n",
       " 'total_loss': Elemwise{mul,no_inplace}.0,\n",
       " 'train_function': None}"
      ]
     },
     "execution_count": 6,
     "metadata": {},
     "output_type": "execute_result"
    }
   ],
   "source": [
    "model.__dict__"
   ]
  },
  {
   "cell_type": "code",
   "execution_count": null,
   "metadata": {
    "collapsed": true
   },
   "outputs": [],
   "source": []
  }
 ],
 "metadata": {
  "kernelspec": {
   "display_name": "Python 2",
   "language": "python",
   "name": "python2"
  },
  "language_info": {
   "codemirror_mode": {
    "name": "ipython",
    "version": 2
   },
   "file_extension": ".py",
   "mimetype": "text/x-python",
   "name": "python",
   "nbconvert_exporter": "python",
   "pygments_lexer": "ipython2",
   "version": "2.7.6"
  }
 },
 "nbformat": 4,
 "nbformat_minor": 0
}
