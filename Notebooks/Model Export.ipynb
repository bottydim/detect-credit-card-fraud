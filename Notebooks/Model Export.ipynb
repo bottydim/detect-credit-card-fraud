{
 "cells": [
  {
   "cell_type": "code",
   "execution_count": 1,
   "metadata": {
    "collapsed": false,
    "scrolled": true
   },
   "outputs": [
    {
     "name": "stderr",
     "output_type": "stream",
     "text": [
      "Using Theano backend.\n",
      "Using gpu device 0: GeForce GTX 980 (CNMeM is disabled, cuDNN 5103)\n",
      "/usr/local/lib/python2.7/dist-packages/theano/sandbox/cuda/__init__.py:600: UserWarning:\n",
      "\n",
      "Your cuDNN version is more recent than the one Theano officially supports. If you see any problems, try updating Theano or downgrading cuDNN to version 5.\n",
      "\n"
     ]
    }
   ],
   "source": [
    "import h5py\n",
    "import numpy as np\n",
    "from ccfd_dnn.model import *\n",
    "from ccfd_dnn.model_eval import *"
   ]
  },
  {
   "cell_type": "code",
   "execution_count": 2,
   "metadata": {
    "collapsed": true
   },
   "outputs": [],
   "source": [
    "from keras.engine.training import *"
   ]
  },
  {
   "cell_type": "code",
   "execution_count": 3,
   "metadata": {
    "collapsed": true
   },
   "outputs": [],
   "source": [
    "h5py.enable_ipython_completer()"
   ]
  },
  {
   "cell_type": "code",
   "execution_count": 4,
   "metadata": {
    "collapsed": true
   },
   "outputs": [],
   "source": [
    "table = 'data_little_enc'\n",
    "w_id = 1"
   ]
  },
  {
   "cell_type": "code",
   "execution_count": 5,
   "metadata": {
    "collapsed": false
   },
   "outputs": [
    {
     "name": "stdout",
     "output_type": "stream",
     "text": [
      "Model Architecture LOADED!\n"
     ]
    }
   ],
   "source": [
    "    disk_engine = get_engine()\n",
    "    ml = ModelLoader(table,w_id)\n",
    "    model = ml.model\n",
    "    title = 'BiRNN-DO3-DLE'"
   ]
  },
  {
   "cell_type": "code",
   "execution_count": 6,
   "metadata": {
    "collapsed": false,
    "scrolled": true
   },
   "outputs": [
    {
     "data": {
      "text/plain": [
       "{'_function_kwargs': {},\n",
       " '_output_mask_cache': {'140706648166992_140706630112336': All{2}.0,\n",
       "  '140706648166992_9545840': All{2}.0},\n",
       " '_output_shape_cache': {'(None, 60, 44)': (None, 60, 3)},\n",
       " '_output_tensor_cache': {'140706648166992_9545840': Reshape{3}.0},\n",
       " 'built': True,\n",
       " 'container_nodes': {'gru_1_ib-0',\n",
       "  'gru_2_ib-0',\n",
       "  'gru_3_ib-0',\n",
       "  'gru_4_ib-0',\n",
       "  'gru_5_ib-0',\n",
       "  'gru_6_ib-0',\n",
       "  'gru_7_ib-0',\n",
       "  'gru_8_ib-0',\n",
       "  'main_input_ib-0',\n",
       "  'masking_1_ib-0',\n",
       "  'merge_1_ib-0',\n",
       "  'merge_2_ib-0',\n",
       "  'merge_3_ib-0',\n",
       "  'merge_4_ib-0',\n",
       "  'timedistributed_1_ib-0'},\n",
       " 'inbound_nodes': [<keras.engine.topology.Node at 0x7ff8d0b49310>],\n",
       " 'input_layers': [<keras.engine.topology.InputLayer at 0x7ff8d1c81410>],\n",
       " 'input_layers_node_indices': [0],\n",
       " 'input_layers_tensor_indices': [0],\n",
       " 'input_names': ['main_input'],\n",
       " 'inputs': [main_input],\n",
       " 'internal_input_shapes': [(None, 60, 44)],\n",
       " 'internal_output_shapes': [(None, 60, 3)],\n",
       " 'layers': [<keras.engine.topology.InputLayer at 0x7ff8d1c81410>,\n",
       "  <keras.layers.core.Masking at 0x7ff8d1bf2710>,\n",
       "  <keras.layers.recurrent.GRU at 0x7ff8d1bf26d0>,\n",
       "  <keras.layers.recurrent.GRU at 0x7ff8d1c46210>,\n",
       "  <keras.engine.topology.Merge at 0x7ff8d1231250>,\n",
       "  <keras.layers.recurrent.GRU at 0x7ff8d11922d0>,\n",
       "  <keras.layers.recurrent.GRU at 0x7ff8d1192b10>,\n",
       "  <keras.engine.topology.Merge at 0x7ff8d1113050>,\n",
       "  <keras.layers.recurrent.GRU at 0x7ff8d0e7e090>,\n",
       "  <keras.layers.recurrent.GRU at 0x7ff8d0e74650>,\n",
       "  <keras.engine.topology.Merge at 0x7ff8d0d17e50>,\n",
       "  <keras.layers.recurrent.GRU at 0x7ff8d0b9d390>,\n",
       "  <keras.layers.recurrent.GRU at 0x7ff8d0b9db50>,\n",
       "  <keras.engine.topology.Merge at 0x7ff8d0af81d0>,\n",
       "  <keras.layers.wrappers.TimeDistributed at 0x7ff8d1738890>],\n",
       " 'layers_by_depth': {0: [<keras.layers.wrappers.TimeDistributed at 0x7ff8d1738890>],\n",
       "  1: [<keras.engine.topology.Merge at 0x7ff8d0af81d0>],\n",
       "  2: [<keras.layers.recurrent.GRU at 0x7ff8d0b9d390>,\n",
       "   <keras.layers.recurrent.GRU at 0x7ff8d0b9db50>],\n",
       "  3: [<keras.engine.topology.Merge at 0x7ff8d0d17e50>],\n",
       "  4: [<keras.layers.recurrent.GRU at 0x7ff8d0e7e090>,\n",
       "   <keras.layers.recurrent.GRU at 0x7ff8d0e74650>],\n",
       "  5: [<keras.engine.topology.Merge at 0x7ff8d1113050>],\n",
       "  6: [<keras.layers.recurrent.GRU at 0x7ff8d11922d0>,\n",
       "   <keras.layers.recurrent.GRU at 0x7ff8d1192b10>],\n",
       "  7: [<keras.engine.topology.Merge at 0x7ff8d1231250>],\n",
       "  8: [<keras.layers.recurrent.GRU at 0x7ff8d1bf26d0>,\n",
       "   <keras.layers.recurrent.GRU at 0x7ff8d1c46210>],\n",
       "  9: [<keras.layers.core.Masking at 0x7ff8d1bf2710>],\n",
       "  10: [<keras.engine.topology.InputLayer at 0x7ff8d1c81410>]},\n",
       " 'loss': 'sparse_categorical_crossentropy',\n",
       " 'loss_functions': [<function keras.objectives.sparse_categorical_crossentropy>],\n",
       " 'loss_weights': None,\n",
       " 'metrics': [mean],\n",
       " 'metrics_names': ['loss', 'acc'],\n",
       " 'name': 'model_1',\n",
       " 'nodes_by_depth': {0: [<keras.engine.topology.Node at 0x7ff8ce193a10>],\n",
       "  1: [<keras.engine.topology.Node at 0x7ff8d0b49390>],\n",
       "  2: [<keras.engine.topology.Node at 0x7ff8d0b49bd0>,\n",
       "   <keras.engine.topology.Node at 0x7ff8d0aeed90>],\n",
       "  3: [<keras.engine.topology.Node at 0x7ff8d0b9d950>],\n",
       "  4: [<keras.engine.topology.Node at 0x7ff8d0d17a50>,\n",
       "   <keras.engine.topology.Node at 0x7ff8d0c13f90>],\n",
       "  5: [<keras.engine.topology.Node at 0x7ff8d0e749d0>],\n",
       "  6: [<keras.engine.topology.Node at 0x7ff8d0e7e5d0>,\n",
       "   <keras.engine.topology.Node at 0x7ff8d1176750>],\n",
       "  7: [<keras.engine.topology.Node at 0x7ff8d1192910>],\n",
       "  8: [<keras.engine.topology.Node at 0x7ff8d1188ed0>,\n",
       "   <keras.engine.topology.Node at 0x7ff8d122bdd0>],\n",
       "  9: [<keras.engine.topology.Node at 0x7ff8d1c4ce90>],\n",
       "  10: [<keras.engine.topology.Node at 0x7ff8d1bf2110>]},\n",
       " 'optimizer': <keras.optimizers.RMSprop at 0x7ff8ce193a90>,\n",
       " 'outbound_nodes': [],\n",
       " 'output_layers': [<keras.layers.wrappers.TimeDistributed at 0x7ff8d1738890>],\n",
       " 'output_layers_node_indices': [0],\n",
       " 'output_layers_tensor_indices': [0],\n",
       " 'output_names': ['timedistributed_1'],\n",
       " 'outputs': [Reshape{3}.0],\n",
       " 'predict_function': None,\n",
       " 'sample_weight_mode': 'temporal',\n",
       " 'sample_weight_modes': ['temporal'],\n",
       " 'sample_weights': [timedistributed_1_sample_weights],\n",
       " 'supports_masking': False,\n",
       " 'targets': [timedistributed_1_target],\n",
       " 'test_function': None,\n",
       " 'total_loss': Elemwise{mul,no_inplace}.0,\n",
       " 'train_function': None}"
      ]
     },
     "execution_count": 6,
     "metadata": {},
     "output_type": "execute_result"
    }
   ],
   "source": [
    "model.__dict__"
   ]
  },
  {
   "cell_type": "code",
   "execution_count": 7,
   "metadata": {
    "collapsed": false
   },
   "outputs": [
    {
     "data": {
      "text/plain": [
       "{'inbound_layers': [],\n",
       " 'input_masks': [None],\n",
       " 'input_shapes': [(None, 60, 44)],\n",
       " 'input_tensors': [main_input],\n",
       " 'node_indices': [],\n",
       " 'outbound_layer': <keras.engine.topology.InputLayer at 0x7ff8d1c81410>,\n",
       " 'output_masks': [None],\n",
       " 'output_shapes': [(None, 60, 44)],\n",
       " 'output_tensors': [main_input],\n",
       " 'tensor_indices': []}"
      ]
     },
     "execution_count": 7,
     "metadata": {},
     "output_type": "execute_result"
    }
   ],
   "source": [
    "model.layers[0].inbound_nodes[0].__dict__"
   ]
  },
  {
   "cell_type": "code",
   "execution_count": 8,
   "metadata": {
    "collapsed": false
   },
   "outputs": [
    {
     "data": {
      "text/plain": [
       "{'U': gru_1_U,\n",
       " 'U_regularizer': None,\n",
       " 'W': gru_1_W,\n",
       " 'W_regularizer': None,\n",
       " 'activation': <function keras.activations.tanh>,\n",
       " 'b': gru_1_b,\n",
       " 'b_regularizer': None,\n",
       " 'batch_input_shape': (None, None, 44),\n",
       " 'built': True,\n",
       " 'constraints': {},\n",
       " 'consume_less': 'gpu',\n",
       " 'dropout_U': 0.0,\n",
       " 'dropout_W': 0.3,\n",
       " 'go_backwards': False,\n",
       " 'inbound_nodes': [<keras.engine.topology.Node at 0x7ff8d122bdd0>],\n",
       " 'init': <function keras.initializations.glorot_uniform>,\n",
       " 'initial_weights': None,\n",
       " 'inner_activation': <function keras.activations.hard_sigmoid>,\n",
       " 'inner_init': <function keras.initializations.orthogonal>,\n",
       " 'input_dim': 44,\n",
       " 'input_dtype': 'float32',\n",
       " 'input_length': None,\n",
       " 'input_spec': [<keras.engine.topology.InputSpec at 0x7ff8d1c46250>],\n",
       " 'name': 'gru_1',\n",
       " 'non_trainable_weights': [],\n",
       " 'outbound_nodes': [<keras.engine.topology.Node at 0x7ff8d1192910>],\n",
       " 'output_dim': 320,\n",
       " 'regularizers': [],\n",
       " 'return_sequences': True,\n",
       " 'stateful': False,\n",
       " 'states': [None],\n",
       " 'supports_masking': True,\n",
       " 'trainable': True,\n",
       " 'trainable_weights': [gru_1_W, gru_1_U, gru_1_b],\n",
       " 'unroll': False,\n",
       " 'uses_learning_phase': True}"
      ]
     },
     "execution_count": 8,
     "metadata": {},
     "output_type": "execute_result"
    }
   ],
   "source": [
    "model.layers[2].__dict__"
   ]
  },
  {
   "cell_type": "code",
   "execution_count": 9,
   "metadata": {
    "collapsed": false,
    "scrolled": true
   },
   "outputs": [
    {
     "name": "stdout",
     "output_type": "stream",
     "text": [
      "{'layers': None, 'regularizers': [], 'outbound_nodes': [<keras.engine.topology.Node object at 0x7ff8d1176750>, <keras.engine.topology.Node object at 0x7ff8d0e7e5d0>], 'trainable_weights': [], 'name': 'merge_1', 'concat_axis': -1, 'supports_masking': True, 'uses_learning_phase': False, 'non_trainable_weights': [], 'dot_axes': [-1, -1], '_output_shape': None, 'mode': 'concat', 'built': True, '_output_mask': None, 'inbound_nodes': [<keras.engine.topology.Node object at 0x7ff8d1192910>], 'input_spec': None, 'node_indices': None, 'constraints': {}}\n",
      "{'layers': None, 'regularizers': [], 'outbound_nodes': [<keras.engine.topology.Node object at 0x7ff8d0d17a50>, <keras.engine.topology.Node object at 0x7ff8d0c13f90>], 'trainable_weights': [], 'name': 'merge_2', 'concat_axis': -1, 'supports_masking': True, 'uses_learning_phase': False, 'non_trainable_weights': [], 'dot_axes': [-1, -1], '_output_shape': None, 'mode': 'concat', 'built': True, '_output_mask': None, 'inbound_nodes': [<keras.engine.topology.Node object at 0x7ff8d0e749d0>], 'input_spec': None, 'node_indices': None, 'constraints': {}}\n",
      "{'layers': None, 'regularizers': [], 'outbound_nodes': [<keras.engine.topology.Node object at 0x7ff8d0aeed90>, <keras.engine.topology.Node object at 0x7ff8d0b49bd0>], 'trainable_weights': [], 'name': 'merge_3', 'concat_axis': -1, 'supports_masking': True, 'uses_learning_phase': False, 'non_trainable_weights': [], 'dot_axes': [-1, -1], '_output_shape': None, 'mode': 'concat', 'built': True, '_output_mask': None, 'inbound_nodes': [<keras.engine.topology.Node object at 0x7ff8d0b9d950>], 'input_spec': None, 'node_indices': None, 'constraints': {}}\n",
      "{'layers': None, 'regularizers': [], 'outbound_nodes': [<keras.engine.topology.Node object at 0x7ff8ce193a10>], 'trainable_weights': [], 'name': 'merge_4', 'concat_axis': -1, 'supports_masking': True, 'uses_learning_phase': False, 'non_trainable_weights': [], 'dot_axes': [-1, -1], '_output_shape': None, 'mode': 'concat', 'built': True, '_output_mask': None, 'inbound_nodes': [<keras.engine.topology.Node object at 0x7ff8d0b49390>], 'input_spec': None, 'node_indices': None, 'constraints': {}}\n"
     ]
    }
   ],
   "source": [
    "inter_models = []\n",
    "for layer in model.layers:\n",
    "    if type(layer) == keras.engine.topology.Merge:\n",
    "        print layer.__dict__\n",
    "        inter_models.append(Model(input=model.inputs, output=layer.output))"
   ]
  },
  {
   "cell_type": "code",
   "execution_count": 28,
   "metadata": {
    "collapsed": false,
    "scrolled": true
   },
   "outputs": [
    {
     "ename": "AttributeError",
     "evalue": "'Model' object has no attribute 'merge_1_ib'",
     "output_type": "error",
     "traceback": [
      "\u001b[1;31m---------------------------------------------------------------------------\u001b[0m",
      "\u001b[1;31mAttributeError\u001b[0m                            Traceback (most recent call last)",
      "\u001b[1;32m<ipython-input-28-1d0d327b58fe>\u001b[0m in \u001b[0;36m<module>\u001b[1;34m()\u001b[0m\n\u001b[0;32m      1\u001b[0m \u001b[0minter_models\u001b[0m \u001b[1;33m=\u001b[0m \u001b[1;33m[\u001b[0m\u001b[1;33m]\u001b[0m\u001b[1;33m\u001b[0m\u001b[0m\n\u001b[1;32m----> 2\u001b[1;33m \u001b[1;32mfor\u001b[0m \u001b[0mlayer\u001b[0m \u001b[1;32min\u001b[0m \u001b[0mmodel\u001b[0m\u001b[1;33m.\u001b[0m\u001b[0mmerge_1_ib\u001b[0m\u001b[1;33m-\u001b[0m\u001b[1;36m0\u001b[0m\u001b[1;33m:\u001b[0m\u001b[1;33m\u001b[0m\u001b[0m\n\u001b[0m\u001b[0;32m      3\u001b[0m     \u001b[1;32mif\u001b[0m \u001b[0mtype\u001b[0m\u001b[1;33m(\u001b[0m\u001b[0mlayer\u001b[0m\u001b[1;33m)\u001b[0m \u001b[1;33m==\u001b[0m \u001b[0mkeras\u001b[0m\u001b[1;33m.\u001b[0m\u001b[0mengine\u001b[0m\u001b[1;33m.\u001b[0m\u001b[0mtopology\u001b[0m\u001b[1;33m.\u001b[0m\u001b[0mMerge\u001b[0m\u001b[1;33m:\u001b[0m\u001b[1;33m\u001b[0m\u001b[0m\n\u001b[0;32m      4\u001b[0m         \u001b[1;32mprint\u001b[0m \u001b[0mlayer\u001b[0m\u001b[1;33m.\u001b[0m\u001b[0m__dict__\u001b[0m\u001b[1;33m\u001b[0m\u001b[0m\n\u001b[0;32m      5\u001b[0m         \u001b[1;32mprint\u001b[0m \u001b[0mtype\u001b[0m\u001b[1;33m(\u001b[0m\u001b[0mlayer\u001b[0m\u001b[1;33m(\u001b[0m\u001b[1;33m)\u001b[0m\u001b[1;33m)\u001b[0m\u001b[1;33m\u001b[0m\u001b[0m\n",
      "\u001b[1;31mAttributeError\u001b[0m: 'Model' object has no attribute 'merge_1_ib'"
     ]
    }
   ],
   "source": [
    "inter_models = []\n",
    "for layer in model.merge_1_ib-0:\n",
    "    if type(layer) == keras.engine.topology.Merge:\n",
    "        print layer.__dict__\n",
    "        print type(layer())\n",
    "        inter_models.append(Model(input=model.inputs, output=layer.output))"
   ]
  },
  {
   "cell_type": "code",
   "execution_count": 18,
   "metadata": {
    "collapsed": false
   },
   "outputs": [
    {
     "data": {
      "text/plain": [
       "theano.tensor.var.TensorVariable"
      ]
     },
     "execution_count": 18,
     "metadata": {},
     "output_type": "execute_result"
    }
   ],
   "source": [
    "test_layer = Input(shape=(None,60,44),name='test')\n",
    "type(test_layer)"
   ]
  },
  {
   "cell_type": "code",
   "execution_count": 20,
   "metadata": {
    "collapsed": false
   },
   "outputs": [
    {
     "ename": "Exception",
     "evalue": "Input 0 is incompatible with layer dense_1: expected ndim=2, found ndim=4",
     "output_type": "error",
     "traceback": [
      "\u001b[1;31m---------------------------------------------------------------------------\u001b[0m",
      "\u001b[1;31mException\u001b[0m                                 Traceback (most recent call last)",
      "\u001b[1;32m<ipython-input-20-09dd718ac33a>\u001b[0m in \u001b[0;36m<module>\u001b[1;34m()\u001b[0m\n\u001b[1;32m----> 1\u001b[1;33m \u001b[0mmask\u001b[0m \u001b[1;33m=\u001b[0m\u001b[0mDense\u001b[0m\u001b[1;33m(\u001b[0m\u001b[1;36m64\u001b[0m\u001b[1;33m,\u001b[0m \u001b[0mactivation\u001b[0m\u001b[1;33m=\u001b[0m\u001b[1;34m'relu'\u001b[0m\u001b[1;33m)\u001b[0m\u001b[1;33m(\u001b[0m\u001b[0mtest_layer\u001b[0m\u001b[1;33m)\u001b[0m\u001b[1;33m\u001b[0m\u001b[0m\n\u001b[0m\u001b[0;32m      2\u001b[0m \u001b[0mtype\u001b[0m\u001b[1;33m(\u001b[0m\u001b[0mmask\u001b[0m\u001b[1;33m)\u001b[0m\u001b[1;33m\u001b[0m\u001b[0m\n",
      "\u001b[1;32m/usr/local/lib/python2.7/dist-packages/keras/engine/topology.pyc\u001b[0m in \u001b[0;36m__call__\u001b[1;34m(self, x, mask)\u001b[0m\n\u001b[0;32m    439\u001b[0m             \u001b[1;31m# raise exceptions in case the input is not compatible\u001b[0m\u001b[1;33m\u001b[0m\u001b[1;33m\u001b[0m\u001b[0m\n\u001b[0;32m    440\u001b[0m             \u001b[1;31m# with the input_spec specified in the layer constructor\u001b[0m\u001b[1;33m\u001b[0m\u001b[1;33m\u001b[0m\u001b[0m\n\u001b[1;32m--> 441\u001b[1;33m             \u001b[0mself\u001b[0m\u001b[1;33m.\u001b[0m\u001b[0massert_input_compatibility\u001b[0m\u001b[1;33m(\u001b[0m\u001b[0mx\u001b[0m\u001b[1;33m)\u001b[0m\u001b[1;33m\u001b[0m\u001b[0m\n\u001b[0m\u001b[0;32m    442\u001b[0m \u001b[1;33m\u001b[0m\u001b[0m\n\u001b[0;32m    443\u001b[0m             \u001b[1;31m# collect input shapes to build layer\u001b[0m\u001b[1;33m\u001b[0m\u001b[1;33m\u001b[0m\u001b[0m\n",
      "\u001b[1;32m/usr/local/lib/python2.7/dist-packages/keras/engine/topology.pyc\u001b[0m in \u001b[0;36massert_input_compatibility\u001b[1;34m(self, input)\u001b[0m\n\u001b[0;32m    380\u001b[0m                                         \u001b[0mself\u001b[0m\u001b[1;33m.\u001b[0m\u001b[0mname\u001b[0m \u001b[1;33m+\u001b[0m \u001b[1;34m': expected ndim='\u001b[0m \u001b[1;33m+\u001b[0m\u001b[1;33m\u001b[0m\u001b[0m\n\u001b[0;32m    381\u001b[0m                                         \u001b[0mstr\u001b[0m\u001b[1;33m(\u001b[0m\u001b[0mspec\u001b[0m\u001b[1;33m.\u001b[0m\u001b[0mndim\u001b[0m\u001b[1;33m)\u001b[0m \u001b[1;33m+\u001b[0m \u001b[1;34m', found ndim='\u001b[0m \u001b[1;33m+\u001b[0m\u001b[1;33m\u001b[0m\u001b[0m\n\u001b[1;32m--> 382\u001b[1;33m                                         str(K.ndim(x)))\n\u001b[0m\u001b[0;32m    383\u001b[0m             \u001b[1;32mif\u001b[0m \u001b[0mspec\u001b[0m\u001b[1;33m.\u001b[0m\u001b[0mdtype\u001b[0m \u001b[1;32mis\u001b[0m \u001b[1;32mnot\u001b[0m \u001b[0mNone\u001b[0m\u001b[1;33m:\u001b[0m\u001b[1;33m\u001b[0m\u001b[0m\n\u001b[0;32m    384\u001b[0m                 \u001b[1;32mif\u001b[0m \u001b[0mK\u001b[0m\u001b[1;33m.\u001b[0m\u001b[0mdtype\u001b[0m\u001b[1;33m(\u001b[0m\u001b[0mx\u001b[0m\u001b[1;33m)\u001b[0m \u001b[1;33m!=\u001b[0m \u001b[0mspec\u001b[0m\u001b[1;33m.\u001b[0m\u001b[0mdtype\u001b[0m\u001b[1;33m:\u001b[0m\u001b[1;33m\u001b[0m\u001b[0m\n",
      "\u001b[1;31mException\u001b[0m: Input 0 is incompatible with layer dense_1: expected ndim=2, found ndim=4"
     ]
    }
   ],
   "source": [
    "mask = Masking(mask_value=0)(test_layer)\n",
    "type(mask)"
   ]
  },
  {
   "cell_type": "code",
   "execution_count": null,
   "metadata": {
    "collapsed": true
   },
   "outputs": [],
   "source": [
    "input_layer = Input(shape=(int(seq_len_param), 44),name='main_input')\n",
    "mask = Masking(mask_value=0)(input_layer)\n",
    "\n"
   ]
  },
  {
   "cell_type": "code",
   "execution_count": 12,
   "metadata": {
    "collapsed": false
   },
   "outputs": [],
   "source": [
    "t_mid = dt.datetime.now()"
   ]
  },
  {
   "cell_type": "code",
   "execution_count": 41,
   "metadata": {
    "collapsed": false
   },
   "outputs": [
    {
     "data": {
      "text/plain": [
       "datetime.timedelta(0, 118, 773899)"
      ]
     },
     "execution_count": 41,
     "metadata": {},
     "output_type": "execute_result"
    }
   ],
   "source": [
    "(dt.datetime.now() - t_mid)"
   ]
  },
  {
   "cell_type": "code",
   "execution_count": 42,
   "metadata": {
    "collapsed": false
   },
   "outputs": [
    {
     "ename": "AttributeError",
     "evalue": "'datetime.timedelta' object has no attribute 'hours'",
     "output_type": "error",
     "traceback": [
      "\u001b[1;31m---------------------------------------------------------------------------\u001b[0m",
      "\u001b[1;31mAttributeError\u001b[0m                            Traceback (most recent call last)",
      "\u001b[1;32m<ipython-input-42-90dcc186405e>\u001b[0m in \u001b[0;36m<module>\u001b[1;34m()\u001b[0m\n\u001b[0;32m      1\u001b[0m \u001b[0mobj\u001b[0m \u001b[1;33m=\u001b[0m \u001b[1;33m(\u001b[0m\u001b[0mdt\u001b[0m\u001b[1;33m.\u001b[0m\u001b[0mdatetime\u001b[0m\u001b[1;33m.\u001b[0m\u001b[0mnow\u001b[0m\u001b[1;33m(\u001b[0m\u001b[1;33m)\u001b[0m \u001b[1;33m-\u001b[0m \u001b[0mt_mid\u001b[0m\u001b[1;33m)\u001b[0m\u001b[1;33m\u001b[0m\u001b[0m\n\u001b[1;32m----> 2\u001b[1;33m \u001b[0mobj\u001b[0m\u001b[1;33m.\u001b[0m\u001b[0mhours\u001b[0m\u001b[1;33m\u001b[0m\u001b[0m\n\u001b[0m",
      "\u001b[1;31mAttributeError\u001b[0m: 'datetime.timedelta' object has no attribute 'hours'"
     ]
    }
   ],
   "source": [
    "obj = (dt.datetime.now() - t_mid)\n"
   ]
  },
  {
   "cell_type": "code",
   "execution_count": 10,
   "metadata": {
    "collapsed": true
   },
   "outputs": [],
   "source": [
    "def days_hours_minutes_seconds(td):\n",
    "    return td.days, td.seconds//3600, (td.seconds//60)%60, td.seconds%60"
   ]
  },
  {
   "cell_type": "code",
   "execution_count": 55,
   "metadata": {
    "collapsed": false,
    "scrolled": false
   },
   "outputs": [
    {
     "ename": "TypeError",
     "evalue": "sequence item 0: expected string, int found",
     "output_type": "error",
     "traceback": [
      "\u001b[1;31m---------------------------------------------------------------------------\u001b[0m",
      "\u001b[1;31mTypeError\u001b[0m                                 Traceback (most recent call last)",
      "\u001b[1;32m<ipython-input-55-2a3fc9cf33dc>\u001b[0m in \u001b[0;36m<module>\u001b[1;34m()\u001b[0m\n\u001b[1;32m----> 1\u001b[1;33m \u001b[1;34m':'\u001b[0m\u001b[1;33m.\u001b[0m\u001b[0mjoin\u001b[0m\u001b[1;33m(\u001b[0m\u001b[0mdays_hours_minutes\u001b[0m\u001b[1;33m(\u001b[0m\u001b[0mobj\u001b[0m\u001b[1;33m)\u001b[0m\u001b[1;33m)\u001b[0m\u001b[1;33m\u001b[0m\u001b[0m\n\u001b[0m",
      "\u001b[1;31mTypeError\u001b[0m: sequence item 0: expected string, int found"
     ]
    }
   ],
   "source": [
    "':'.join(days_hours_minutes(obj))"
   ]
  },
  {
   "cell_type": "code",
   "execution_count": 13,
   "metadata": {
    "collapsed": false
   },
   "outputs": [
    {
     "name": "stdout",
     "output_type": "stream",
     "text": [
      "time taken: (0, 0, 0, 4)\n"
     ]
    }
   ],
   "source": [
    "print 'time taken: {time}'.format(time=days_hours_minutes_seconds(dt.datetime.now()-t_mid))"
   ]
  },
  {
   "cell_type": "code",
   "execution_count": 58,
   "metadata": {
    "collapsed": false
   },
   "outputs": [],
   "source": [
    "dir_child = '/home/botty/Documents/Add_Data/05childbook/'\n",
    "f_child = 'states.h5'\n",
    "f = h5py.File(dir_child+f_child, \"r\")"
   ]
  },
  {
   "cell_type": "code",
   "execution_count": 62,
   "metadata": {
    "collapsed": false
   },
   "outputs": [
    {
     "data": {
      "text/plain": [
       "[u'output1', u'states1']"
      ]
     },
     "execution_count": 62,
     "metadata": {},
     "output_type": "execute_result"
    }
   ],
   "source": [
    "f.keys()"
   ]
  },
  {
   "cell_type": "code",
   "execution_count": 63,
   "metadata": {
    "collapsed": false
   },
   "outputs": [
    {
     "data": {
      "text/plain": [
       "(1271900, 200)"
      ]
     },
     "execution_count": 63,
     "metadata": {},
     "output_type": "execute_result"
    }
   ],
   "source": [
    "np.array(f.get('states1')).shape"
   ]
  },
  {
   "cell_type": "code",
   "execution_count": 48,
   "metadata": {
    "collapsed": false
   },
   "outputs": [],
   "source": [
    "def export_generator(model, generator, val_samples, max_q_size=10000,remove_pad=False):\n",
    "    processed_samples = 0\n",
    "    wait_time = 0.01\n",
    "    all_outs = []\n",
    "    all_y_r = []\n",
    "    all_y_hat = []\n",
    "    x_exp = []\n",
    "    y_exp = []\n",
    "    y_hat_exp = []\n",
    "    data_gen_queue, _stop = generator_queue(generator, max_q_size=max_q_size)\n",
    "\n",
    "    while processed_samples < val_samples:\n",
    "        print 'insdie'\n",
    "        generator_output = None\n",
    "        while not _stop.is_set():\n",
    "            if not data_gen_queue.empty():\n",
    "                generator_output = data_gen_queue.get()\n",
    "                break\n",
    "            else:\n",
    "                time.sleep(wait_time)\n",
    "\n",
    "        if isinstance(generator_output, tuple):\n",
    "            if len(generator_output) == 2:\n",
    "                x, y = generator_output\n",
    "                sample_weight = None\n",
    "            elif len(generator_output) == 3:\n",
    "                x, y, sample_weight = generator_output\n",
    "            else:\n",
    "                _stop.set()\n",
    "                raise Exception('output of generator should be a tuple '\n",
    "                                '(x, y, sample_weight) '\n",
    "                                'or (x, y). Found: ' + str(generator_output))\n",
    "        else:\n",
    "            _stop.set()\n",
    "            raise Exception('output of generator should be a tuple '\n",
    "                                '(x, y, sample_weight) '\n",
    "                                'or (x, y). Found: ' + str(generator_output))\n",
    "\n",
    "        try:\n",
    "            if x.size != 0:\n",
    "                print 'x',x.shape\n",
    "                print 'y',y.shape\n",
    "                y_hat = model.predict_on_batch(x)\n",
    "                \n",
    "                \n",
    "                x_re = x.reshape(-1, x.shape[-1])\n",
    "                y_re = y.reshape(-1, y.shape[-1])\n",
    "                y_hat_re = y_hat.reshape(-1, y_hat.shape[-1])\n",
    "\n",
    "                #####padding is not excluded in this version\n",
    "                if remove_pad:\n",
    "                    pad_ids = np.where(y_re[:,0]!=2)[0]\n",
    "                    x_re = x_re[pad_ids,:]\n",
    "                    y_re = y_re[pad_ids,:]\n",
    "                    y_hat_re = y_hat_re[pad_ids,:]\n",
    "                    \n",
    "                print 'x',x_re.shape\n",
    "                print 'y',y_re.shape\n",
    "                print 'y_hat',y_hat_re.shape\n",
    "                x_exp.extend(x_re)\n",
    "                y_exp.extend(y_re)\n",
    "                y_hat_exp.extend(y_hat_re)\n",
    "        except:\n",
    "            _stop.set()\n",
    "            raise\n",
    "        nb_samples = x.shape[0]   \n",
    "\n",
    "        processed_samples += nb_samples\n",
    "\n",
    "    _stop.set()\n",
    "    x_exp = np.array(x_exp,dtype=np.dtype(float))\n",
    "    y_exp = np.array(y_exp,dtype=np.dtype(float))\n",
    "    y_hat_exp = np.array(y_hat_exp,dtype=np.dtype(float))\n",
    "    print x_exp.shape\n",
    "    print y_exp.shape\n",
    "    print y_hat_exp.shape"
   ]
  },
  {
   "cell_type": "code",
   "execution_count": 50,
   "metadata": {
    "collapsed": false,
    "scrolled": true
   },
   "outputs": [
    {
     "name": "stdout",
     "output_type": "stream",
     "text": [
      "insdie\n",
      "x (101, 60, 44)\n",
      "y (101, 60, 1)\n",
      "x (3057, 44)\n",
      "y (3057, 1)\n",
      "y_hat (3057, 640)\n",
      "insdie\n",
      "x (103, 60, 44)\n",
      "y (103, 60, 1)\n",
      "x (3269, 44)\n",
      "y (3269, 1)\n",
      "y_hat (3269, 640)\n",
      "(6326, 44)\n",
      "(6326, 1)\n",
      "(6326, 640)\n"
     ]
    },
    {
     "name": "stderr",
     "output_type": "stream",
     "text": [
      "Exception in thread Thread-20:\n",
      "Traceback (most recent call last):\n",
      "  File \"/usr/lib/python2.7/threading.py\", line 810, in __bootstrap_inner\n",
      "    self.run()\n",
      "  File \"/usr/lib/python2.7/threading.py\", line 763, in run\n",
      "    self.__target(*self.__args, **self.__kwargs)\n",
      "  File \"/usr/local/lib/python2.7/dist-packages/keras/engine/training.py\", line 416, in data_generator_task\n",
      "    generator_output = next(generator)\n",
      "  File \"<ipython-input-24-e7724c813ca0>\", line 4, in dummy_gen\n",
      "    yield dummy_list[i]\n",
      "IndexError: list index out of range\n",
      "\n"
     ]
    }
   ],
   "source": [
    "export_generator(inter_models[0], dummy_gen(), val_samples,max_q_size=1,remove_pad=True)"
   ]
  },
  {
   "cell_type": "code",
   "execution_count": 22,
   "metadata": {
    "collapsed": false
   },
   "outputs": [
    {
     "name": "stdout",
     "output_type": "stream",
     "text": [
      "insdie\n",
      "last date\n",
      "0    1396683949000000000\n",
      "Name: authzn_rqst_proc_tm, dtype: int64\n",
      "last_date calculated!\n",
      "Users generator\n",
      "new users\n",
      "User List acquired\n",
      "total # users: 8043\n",
      "e.g. users [939010, 244963, 553865, 538125, 491888, 846899, 998746, 198975, 863803, 1192947]\n",
      "total # unique users: 8043\n",
      "total # sequences: 12263.0\n",
      "used # sequences: 8084.0\n",
      "return set cardinality: 5388\n",
      "USERGEN: user set sequence length:  100.0\n",
      "USERGEN: user set cardinality:  57\n",
      "Number of users: 57\n"
     ]
    },
    {
     "name": "stderr",
     "output_type": "stream",
     "text": [
      "[==========================================================] 100% Time: 0:00:01\n"
     ]
    },
    {
     "name": "stdout",
     "output_type": "stream",
     "text": [
      "sequence acquired in: 1.95530319214\n",
      "x (102, 60, 44)\n",
      "y (102, 60, 1)\n",
      "new users\n",
      "USERGEN: user set sequence length:  100.0\n",
      "USERGEN: user set cardinality:  74\n",
      "Number of users: 74\n"
     ]
    },
    {
     "name": "stderr",
     "output_type": "stream",
     "text": [
      "[                                                         ]   0% ETA:  --:--:--\r"
     ]
    },
    {
     "ename": "ValueError",
     "evalue": "total size of new array must be unchanged",
     "output_type": "error",
     "traceback": [
      "\u001b[1;31m---------------------------------------------------------------------------\u001b[0m",
      "\u001b[1;31mValueError\u001b[0m                                Traceback (most recent call last)",
      "\u001b[1;32m<ipython-input-22-2940095325c3>\u001b[0m in \u001b[0;36m<module>\u001b[1;34m()\u001b[0m\n\u001b[0;32m      9\u001b[0m generator = data_generator(user_mode,trans_mode,disk_engine,encoders,table=table,\n\u001b[0;32m     10\u001b[0m                          batch_size=batch_size,usr_ratio=80, class_weight=None,lbl_pad_val = 2, pad_val = -1,events_tbl=events_tbl)\n\u001b[1;32m---> 11\u001b[1;33m \u001b[0mexport_generator\u001b[0m\u001b[1;33m(\u001b[0m\u001b[0minter_models\u001b[0m\u001b[1;33m[\u001b[0m\u001b[1;36m0\u001b[0m\u001b[1;33m]\u001b[0m\u001b[1;33m,\u001b[0m \u001b[0mgenerator\u001b[0m\u001b[1;33m,\u001b[0m \u001b[0mval_samples\u001b[0m\u001b[1;33m,\u001b[0m\u001b[0mmax_q_size\u001b[0m\u001b[1;33m=\u001b[0m\u001b[1;36m1\u001b[0m\u001b[1;33m)\u001b[0m\u001b[1;33m\u001b[0m\u001b[0m\n\u001b[0m",
      "\u001b[1;32m<ipython-input-21-0a592263f00b>\u001b[0m in \u001b[0;36mexport_generator\u001b[1;34m(model, generator, val_samples, max_q_size)\u001b[0m\n\u001b[0;32m     44\u001b[0m \u001b[1;33m\u001b[0m\u001b[0m\n\u001b[0;32m     45\u001b[0m \u001b[1;33m\u001b[0m\u001b[0m\n\u001b[1;32m---> 46\u001b[1;33m                 \u001b[0mx\u001b[0m \u001b[1;33m=\u001b[0m \u001b[0mx\u001b[0m\u001b[1;33m.\u001b[0m\u001b[0mreshape\u001b[0m\u001b[1;33m(\u001b[0m\u001b[1;33m-\u001b[0m\u001b[1;36m1\u001b[0m\u001b[1;33m,\u001b[0m \u001b[0marr\u001b[0m\u001b[1;33m.\u001b[0m\u001b[0mshape\u001b[0m\u001b[1;33m[\u001b[0m\u001b[1;33m-\u001b[0m\u001b[1;36m1\u001b[0m\u001b[1;33m]\u001b[0m\u001b[1;33m)\u001b[0m\u001b[1;33m\u001b[0m\u001b[0m\n\u001b[0m\u001b[0;32m     47\u001b[0m                 \u001b[0my\u001b[0m \u001b[1;33m=\u001b[0m \u001b[0my\u001b[0m\u001b[1;33m.\u001b[0m\u001b[0mreshape\u001b[0m\u001b[1;33m(\u001b[0m\u001b[1;33m-\u001b[0m\u001b[1;36m1\u001b[0m\u001b[1;33m,\u001b[0m \u001b[0marr\u001b[0m\u001b[1;33m.\u001b[0m\u001b[0mshape\u001b[0m\u001b[1;33m[\u001b[0m\u001b[1;33m-\u001b[0m\u001b[1;36m1\u001b[0m\u001b[1;33m]\u001b[0m\u001b[1;33m)\u001b[0m\u001b[1;33m\u001b[0m\u001b[0m\n\u001b[0;32m     48\u001b[0m                 \u001b[0my_hat\u001b[0m \u001b[1;33m=\u001b[0m \u001b[0my_hat\u001b[0m\u001b[1;33m.\u001b[0m\u001b[0mreshape\u001b[0m\u001b[1;33m(\u001b[0m\u001b[1;33m-\u001b[0m\u001b[1;36m1\u001b[0m\u001b[1;33m,\u001b[0m \u001b[0marr\u001b[0m\u001b[1;33m.\u001b[0m\u001b[0mshape\u001b[0m\u001b[1;33m[\u001b[0m\u001b[1;33m-\u001b[0m\u001b[1;36m1\u001b[0m\u001b[1;33m]\u001b[0m\u001b[1;33m)\u001b[0m\u001b[1;33m\u001b[0m\u001b[0m\n",
      "\u001b[1;31mValueError\u001b[0m: total size of new array must be unchanged"
     ]
    },
    {
     "name": "stderr",
     "output_type": "stream",
     "text": [
      "[==========================================================] 100% Time: 0:00:01\n"
     ]
    },
    {
     "name": "stdout",
     "output_type": "stream",
     "text": [
      "sequence acquired in: 1.19768595695\n"
     ]
    }
   ],
   "source": [
    "user_mode = 'train'\n",
    "trans_mode = 'train'\n",
    "disk_engine = get_engine()\n",
    "table = 'data_little_enc'\n",
    "batch_size = 100\n",
    "val_samples = 200\n",
    "encoders = None\n",
    "events_tbl = None\n",
    "generator = data_generator(user_mode,trans_mode,disk_engine,encoders,table=table,\n",
    "                         batch_size=batch_size,usr_ratio=80, class_weight=None,lbl_pad_val = 2, pad_val = -1,events_tbl=events_tbl)\n"
   ]
  },
  {
   "cell_type": "code",
   "execution_count": 17,
   "metadata": {
    "collapsed": false
   },
   "outputs": [],
   "source": [
    "arr = np.zeros((102, 60, 640))\n",
    "new_arr = arr.reshape(-1, arr.shape[-1])"
   ]
  },
  {
   "cell_type": "code",
   "execution_count": 23,
   "metadata": {
    "collapsed": false
   },
   "outputs": [
    {
     "name": "stdout",
     "output_type": "stream",
     "text": [
      "new users\n",
      "USERGEN: user set sequence length:  100.0\n",
      "USERGEN: user set cardinality:  76\n",
      "Number of users: 76\n"
     ]
    },
    {
     "name": "stderr",
     "output_type": "stream",
     "text": [
      "[==========================================================] 100% Time: 0:00:01\n"
     ]
    },
    {
     "name": "stdout",
     "output_type": "stream",
     "text": [
      "sequence acquired in: 1.57875800133\n",
      "new users\n",
      "USERGEN: user set sequence length:  101.0\n",
      "USERGEN: user set cardinality:  69\n",
      "Number of users: 69\n"
     ]
    },
    {
     "name": "stderr",
     "output_type": "stream",
     "text": []
    },
    {
     "name": "stdout",
     "output_type": "stream",
     "text": [
      "sequence acquired in: 0.998779058456\n"
     ]
    },
    {
     "name": "stderr",
     "output_type": "stream",
     "text": [
      "[====================================================      ]  91% ETA:  0:00:00\r",
      "[=====================================================     ]  92% ETA:  0:00:00\r",
      "[======================================================    ]  94% ETA:  0:00:00\r",
      "[=======================================================   ]  95% ETA:  0:00:00\r",
      "[========================================================  ]  97% ETA:  0:00:00\r",
      "[========================================================= ]  98% ETA:  0:00:00\r",
      "[==========================================================] 100% ETA:  0:00:00\r",
      "[==========================================================] 100% Time: 0:00:00\r\n"
     ]
    }
   ],
   "source": [
    "dummy_list = []\n",
    "dummy_list.append(next(generator))\n",
    "dummy_list.append(next(generator))"
   ]
  },
  {
   "cell_type": "code",
   "execution_count": 24,
   "metadata": {
    "collapsed": true
   },
   "outputs": [],
   "source": [
    "def dummy_gen():\n",
    "    i=0\n",
    "    while True:\n",
    "        yield dummy_list[i]\n",
    "        i+=1"
   ]
  },
  {
   "cell_type": "code",
   "execution_count": 18,
   "metadata": {
    "collapsed": false
   },
   "outputs": [
    {
     "data": {
      "text/plain": [
       "(6120, 640)"
      ]
     },
     "execution_count": 18,
     "metadata": {},
     "output_type": "execute_result"
    }
   ],
   "source": [
    "new_arr.shape"
   ]
  },
  {
   "cell_type": "code",
   "execution_count": null,
   "metadata": {
    "collapsed": true
   },
   "outputs": [],
   "source": []
  }
 ],
 "metadata": {
  "kernelspec": {
   "display_name": "Python 2",
   "language": "python",
   "name": "python2"
  },
  "language_info": {
   "codemirror_mode": {
    "name": "ipython",
    "version": 2
   },
   "file_extension": ".py",
   "mimetype": "text/x-python",
   "name": "python",
   "nbconvert_exporter": "python",
   "pygments_lexer": "ipython2",
   "version": "2.7.6"
  }
 },
 "nbformat": 4,
 "nbformat_minor": 0
}
