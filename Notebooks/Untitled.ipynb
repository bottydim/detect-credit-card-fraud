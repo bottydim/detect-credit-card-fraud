{
 "cells": [
  {
   "cell_type": "code",
   "execution_count": 11,
   "metadata": {
    "collapsed": false
   },
   "outputs": [],
   "source": [
    "import pandas as pd\n",
    "import time\n",
    "import datetime as dt\n",
    "from IPython.display import display\n",
    "import plotly.plotly as py\n",
    "import numpy as np\n",
    "import h5py"
   ]
  },
  {
   "cell_type": "code",
   "execution_count": 2,
   "metadata": {
    "collapsed": true
   },
   "outputs": [],
   "source": [
    "data_dir = './data/'\n",
    "evt_name = 'Featurespace_events_output.csv'\n",
    "auth_name = 'Featurespace_auths_output.csv'\n",
    "db_name = 'c1_agg.db'"
   ]
  },
  {
   "cell_type": "code",
   "execution_count": 79,
   "metadata": {
    "collapsed": false
   },
   "outputs": [
    {
     "name": "stdout",
     "output_type": "stream",
     "text": [
      "0    14\n",
      "1    15\n",
      "2    22\n",
      "3    17\n",
      "4    16\n",
      "5    12\n",
      "6    12\n",
      "7    13\n",
      "8    10\n",
      "9     9\n",
      "Name: AUTHZN_RQST_PROC_DT_hour, dtype: int32\n"
     ]
    },
    {
     "data": {
      "text/plain": [
       "[u'14', u'15', u'22', u'17', u'16', u'12', u'12', u'13', u'10', u'9']"
      ]
     },
     "metadata": {},
     "output_type": "display_data"
    }
   ],
   "source": [
    "rm_quot_cols = ['mrch_pstl_cd','mrch_nm','trmnl_id','mrch_id','mrch_city_nm']\n",
    "chunksize = 10\n",
    "copy_block = 10\n",
    "j = 0\n",
    "index_start = 1\n",
    "###################data source\n",
    "file_loc = data_dir+auth_name\n",
    "########################\n",
    "dtFormat = \"%d%b%Y %H:%M:%S.%f\"\n",
    "def getTime(x):\n",
    "    dtString = \"{} {}\".format(x.AUTHZN_RQST_PROC_DT,x.AUTHZN_RQST_PROC_TM)\n",
    "    return dt.datetime.strptime(dtString,dtFormat)\n",
    "\n",
    "for df in pd.read_csv(file_loc, chunksize=chunksize, iterator=True,encoding='ISO-8859-1'):\n",
    "    \n",
    "\n",
    "    t0 = time.time()\n",
    "    df = df.rename(columns={c: c.replace(' ', '') for c in df.columns}) # Remove spaces from columns\n",
    "\n",
    "    \n",
    "    # df[col_id.upper()] = df[col_id.upper()].replace({'\\\"':''},regex=True)\n",
    "    # a = df['mrch_nm'.upper()] \n",
    "    # print a.dtype\n",
    "    # a.index = range(len(a))\n",
    "    # print a[a.str.contains(r\".*NATION OF.*\",na=False)]\n",
    "    time_col = 'AUTHZN_RQST_PROC_TM'\n",
    "    \n",
    "    \n",
    "    temp = pd.DatetimeIndex(df['AUTHZN_RQST_PROC_TM'])\n",
    "    df[col+'_hour'] = temp.hour\n",
    "    print df[col+'_hour'] \n",
    "    df[col+'_minute'] = temp.minute\n",
    "    df[col+'_second'] = temp.second\n",
    "    df[col+'_microsecond'] = temp.microsecond\n",
    "#     df['AUTHZN_RQST_PROC_TM'] = pd.to_datetime(tc,errors='coerce',format='%H:%M:%S.%f')\n",
    "#     print  df['AUTHZN_RQST_PROC_TM'].date\n",
    "#     for i in  df['AUTHZN_RQST_PROC_TM']:\n",
    "#         print type(i)\n",
    "#         print i\n",
    "#     temp = pd.DatetimeIndex(df[time_col])\n",
    "\n",
    "\n",
    "    lista = [item.split(':')[0] for item in df[time_col]]\n",
    "    display(lista)\n",
    "    \n",
    "    df['AUTHZN_RQST_PROC_TM'] = df.apply(lambda x: getTime(x),1)\n",
    "    # print df['mrch_nm'.upper()]\n",
    "    df.MRCH_CNTRY_CD = df.MRCH_CNTRY_CD.astype(str)\n",
    "    df.MRCH_CATG_CD = df.MRCH_CATG_CD.astype(str)\n",
    "    df.AUTHZN_MSG_TYPE_MODR_CD = df.AUTHZN_MSG_TYPE_MODR_CD.astype(str)\n",
    "    df.RQST_CARD_SEQ_NUM = df.RQST_CARD_SEQ_NUM.astype(str)\n",
    "    df.ECMRC_SCURT_CD = df.ECMRC_SCURT_CD.astype(str)\n",
    "    df.ACQR_BIN_NUM = df.ACQR_BIN_NUM.astype(str)\n",
    "    date_cols = ['PREV_ADR_CHNG_DT','PREV_PMT_DT','PREV_CARD_RQST_DT','FRD_IND_SWT_DT','AUTHZN_RQST_PROC_DT']\n",
    "    for col in date_cols:\n",
    "        tc = df[col]\n",
    "        tc = pd.to_datetime(tc,errors='coerce',format='%d%b%Y')\n",
    "        temp = pd.DatetimeIndex(tc)\n",
    "        components = ['year','month','day','dayofweek']\n",
    "        df[col+'_data'] = temp.date\n",
    "        df[col+'_month'] = temp.month\n",
    "        df[col+'_day'] = temp.day\n",
    "        df[col+'_dayofweek'] = temp.dayofweek\n",
    "\n",
    "\n",
    "\n",
    "    break"
   ]
  },
  {
   "cell_type": "code",
   "execution_count": 69,
   "metadata": {
    "collapsed": false
   },
   "outputs": [
    {
     "data": {
      "text/html": [
       "<div>\n",
       "<table border=\"1\" class=\"dataframe\">\n",
       "  <thead>\n",
       "    <tr style=\"text-align: right;\">\n",
       "      <th></th>\n",
       "      <th>acct_id</th>\n",
       "      <th>AUTHZN_RQST_PROC_DT</th>\n",
       "      <th>AUTHZN_RQST_PROC_TM</th>\n",
       "      <th>AUTHZN_APPRL_CD</th>\n",
       "      <th>AUTHZN_AMT</th>\n",
       "      <th>MRCH_NM</th>\n",
       "      <th>MRCH_CITY_NM</th>\n",
       "      <th>MRCH_PSTL_CD</th>\n",
       "      <th>MRCH_CNTRY_CD</th>\n",
       "      <th>MRCH_ID</th>\n",
       "      <th>...</th>\n",
       "      <th>PRIOR_MONEY_AVL_AMT</th>\n",
       "      <th>PRIOR_CASH_AVL_AMT</th>\n",
       "      <th>ACCT_CL_AMT</th>\n",
       "      <th>ACCT_CURR_BAL</th>\n",
       "      <th>PREV_ADR_CHNG_DT</th>\n",
       "      <th>PREV_PMT_DT</th>\n",
       "      <th>PREV_PMT_AMT</th>\n",
       "      <th>PREV_CARD_RQST_DT</th>\n",
       "      <th>FRD_IND</th>\n",
       "      <th>FRD_IND_SWT_DT</th>\n",
       "    </tr>\n",
       "  </thead>\n",
       "  <tbody>\n",
       "    <tr>\n",
       "      <th>0</th>\n",
       "      <td>313229902</td>\n",
       "      <td>28MAY2014</td>\n",
       "      <td>2014-05-28 14:30:22</td>\n",
       "      <td>6859</td>\n",
       "      <td>14.49</td>\n",
       "      <td>WILKINSON</td>\n",
       "      <td>LANCASTER</td>\n",
       "      <td>NaN</td>\n",
       "      <td>826</td>\n",
       "      <td>3758125        X</td>\n",
       "      <td>...</td>\n",
       "      <td>751.08</td>\n",
       "      <td>900.00</td>\n",
       "      <td>1000.0</td>\n",
       "      <td>398.92</td>\n",
       "      <td>.</td>\n",
       "      <td>14AUG2013</td>\n",
       "      <td>890.17</td>\n",
       "      <td>11MAY2014</td>\n",
       "      <td>N</td>\n",
       "      <td>.</td>\n",
       "    </tr>\n",
       "    <tr>\n",
       "      <th>1</th>\n",
       "      <td>101381867</td>\n",
       "      <td>25AUG2013</td>\n",
       "      <td>2013-08-25 15:32:47</td>\n",
       "      <td>74296</td>\n",
       "      <td>3.99</td>\n",
       "      <td>AOL*UK SecuritySuite</td>\n",
       "      <td>08082349279</td>\n",
       "      <td>NaN</td>\n",
       "      <td>826</td>\n",
       "      <td>068636000320937R</td>\n",
       "      <td>...</td>\n",
       "      <td>3150.00</td>\n",
       "      <td>3000.00</td>\n",
       "      <td>3000.0</td>\n",
       "      <td>0.00</td>\n",
       "      <td>29SEP2000</td>\n",
       "      <td>20AUG2013</td>\n",
       "      <td>3.99</td>\n",
       "      <td>02MAR2012</td>\n",
       "      <td>N</td>\n",
       "      <td>.</td>\n",
       "    </tr>\n",
       "    <tr>\n",
       "      <th>2</th>\n",
       "      <td>7238423</td>\n",
       "      <td>19AUG2013</td>\n",
       "      <td>2013-08-19 22:17:55</td>\n",
       "      <td>26582</td>\n",
       "      <td>0.69</td>\n",
       "      <td>APPLE ITUNES STORE-GBP</td>\n",
       "      <td>ITUNES.COM</td>\n",
       "      <td>NaN</td>\n",
       "      <td>442</td>\n",
       "      <td>206996000200925R</td>\n",
       "      <td>...</td>\n",
       "      <td>521.25</td>\n",
       "      <td>700.00</td>\n",
       "      <td>600.0</td>\n",
       "      <td>298.75</td>\n",
       "      <td>23NOV2012</td>\n",
       "      <td>19AUG2013</td>\n",
       "      <td>100.00</td>\n",
       "      <td>24MAY2013</td>\n",
       "      <td>N</td>\n",
       "      <td>.</td>\n",
       "    </tr>\n",
       "    <tr>\n",
       "      <th>3</th>\n",
       "      <td>77871292</td>\n",
       "      <td>15FEB2014</td>\n",
       "      <td>2014-02-15 17:11:57</td>\n",
       "      <td>47355</td>\n",
       "      <td>29.84</td>\n",
       "      <td>WWW.PROBIKEKIT.COM</td>\n",
       "      <td>NORTHWICH</td>\n",
       "      <td>NaN</td>\n",
       "      <td>826</td>\n",
       "      <td>6429369        X</td>\n",
       "      <td>...</td>\n",
       "      <td>30.67</td>\n",
       "      <td>3000.00</td>\n",
       "      <td>3000.0</td>\n",
       "      <td>2969.33</td>\n",
       "      <td>19AUG2013</td>\n",
       "      <td>07FEB2014</td>\n",
       "      <td>62.79</td>\n",
       "      <td>05FEB2013</td>\n",
       "      <td>N</td>\n",
       "      <td>.</td>\n",
       "    </tr>\n",
       "    <tr>\n",
       "      <th>4</th>\n",
       "      <td>134296672</td>\n",
       "      <td>18DEC2013</td>\n",
       "      <td>2013-12-18 16:25:02</td>\n",
       "      <td>50684</td>\n",
       "      <td>100.00</td>\n",
       "      <td>ASDA TRAFF PARK2</td>\n",
       "      <td>TRAFFORD PARK</td>\n",
       "      <td>M41 7ZA</td>\n",
       "      <td>826</td>\n",
       "      <td>20-54-58 00</td>\n",
       "      <td>...</td>\n",
       "      <td>2872.00</td>\n",
       "      <td>2942.00</td>\n",
       "      <td>3000.0</td>\n",
       "      <td>58.00</td>\n",
       "      <td>07JAN2010</td>\n",
       "      <td>13DEC2013</td>\n",
       "      <td>45.00</td>\n",
       "      <td>03DEC2011</td>\n",
       "      <td>N</td>\n",
       "      <td>.</td>\n",
       "    </tr>\n",
       "    <tr>\n",
       "      <th>5</th>\n",
       "      <td>360352196</td>\n",
       "      <td>31DEC2013</td>\n",
       "      <td>2013-12-31 12:24:50</td>\n",
       "      <td>35235</td>\n",
       "      <td>22.50</td>\n",
       "      <td>BHS 013</td>\n",
       "      <td>REDDITCH</td>\n",
       "      <td>B97  4HD</td>\n",
       "      <td>826</td>\n",
       "      <td>09799162</td>\n",
       "      <td>...</td>\n",
       "      <td>252.51</td>\n",
       "      <td>750.00</td>\n",
       "      <td>750.0</td>\n",
       "      <td>647.49</td>\n",
       "      <td>.</td>\n",
       "      <td>06DEC2013</td>\n",
       "      <td>14.71</td>\n",
       "      <td>12FEB2013</td>\n",
       "      <td>N</td>\n",
       "      <td>.</td>\n",
       "    </tr>\n",
       "    <tr>\n",
       "      <th>6</th>\n",
       "      <td>272469810</td>\n",
       "      <td>14DEC2013</td>\n",
       "      <td>2013-12-14 12:49:15</td>\n",
       "      <td>74625</td>\n",
       "      <td>5.10</td>\n",
       "      <td>ONE-SURE INSURANCE</td>\n",
       "      <td>STOKE ON TREN</td>\n",
       "      <td>ST7  1LX</td>\n",
       "      <td>826</td>\n",
       "      <td>47177803</td>\n",
       "      <td>...</td>\n",
       "      <td>1917.38</td>\n",
       "      <td>2576.65</td>\n",
       "      <td>3650.0</td>\n",
       "      <td>1732.62</td>\n",
       "      <td>14NOV2002</td>\n",
       "      <td>01DEC2013</td>\n",
       "      <td>500.00</td>\n",
       "      <td>04OCT2012</td>\n",
       "      <td>N</td>\n",
       "      <td>.</td>\n",
       "    </tr>\n",
       "    <tr>\n",
       "      <th>7</th>\n",
       "      <td>76337635</td>\n",
       "      <td>11OCT2013</td>\n",
       "      <td>2013-10-11 13:35:32</td>\n",
       "      <td>59905</td>\n",
       "      <td>44.94</td>\n",
       "      <td>B &amp; Q WAREHOUSE</td>\n",
       "      <td>SWANSEA</td>\n",
       "      <td>NaN</td>\n",
       "      <td>826</td>\n",
       "      <td>3412954        X</td>\n",
       "      <td>...</td>\n",
       "      <td>997.26</td>\n",
       "      <td>1500.00</td>\n",
       "      <td>1500.0</td>\n",
       "      <td>644.19</td>\n",
       "      <td>13FEB2008</td>\n",
       "      <td>25SEP2013</td>\n",
       "      <td>250.00</td>\n",
       "      <td>02JUN2012</td>\n",
       "      <td>N</td>\n",
       "      <td>.</td>\n",
       "    </tr>\n",
       "    <tr>\n",
       "      <th>8</th>\n",
       "      <td>216019144</td>\n",
       "      <td>19MAR2014</td>\n",
       "      <td>2014-03-19 10:03:03</td>\n",
       "      <td>91066</td>\n",
       "      <td>10.00</td>\n",
       "      <td>SHOPPER DISCOUNTS.CO.U</td>\n",
       "      <td>EYSINS</td>\n",
       "      <td>1262</td>\n",
       "      <td>756</td>\n",
       "      <td>8145500</td>\n",
       "      <td>...</td>\n",
       "      <td>3279.17</td>\n",
       "      <td>4000.00</td>\n",
       "      <td>4000.0</td>\n",
       "      <td>566.86</td>\n",
       "      <td>10JUN2013</td>\n",
       "      <td>16MAR2014</td>\n",
       "      <td>189.98</td>\n",
       "      <td>05NOV2011</td>\n",
       "      <td>N</td>\n",
       "      <td>.</td>\n",
       "    </tr>\n",
       "    <tr>\n",
       "      <th>9</th>\n",
       "      <td>85741865</td>\n",
       "      <td>18NOV2013</td>\n",
       "      <td>2013-11-18 09:35:24</td>\n",
       "      <td>57257</td>\n",
       "      <td>100.00</td>\n",
       "      <td>TRANSPORT FOR LONDON</td>\n",
       "      <td>LONDON</td>\n",
       "      <td>NaN</td>\n",
       "      <td>826</td>\n",
       "      <td>1007604        X</td>\n",
       "      <td>...</td>\n",
       "      <td>1283.06</td>\n",
       "      <td>1904.13</td>\n",
       "      <td>2600.0</td>\n",
       "      <td>1446.94</td>\n",
       "      <td>05JUL2001</td>\n",
       "      <td>28OCT2013</td>\n",
       "      <td>30.00</td>\n",
       "      <td>02FEB2012</td>\n",
       "      <td>N</td>\n",
       "      <td>.</td>\n",
       "    </tr>\n",
       "  </tbody>\n",
       "</table>\n",
       "<p>10 rows × 48 columns</p>\n",
       "</div>"
      ],
      "text/plain": [
       "     acct_id AUTHZN_RQST_PROC_DT AUTHZN_RQST_PROC_TM  AUTHZN_APPRL_CD  \\\n",
       "0  313229902           28MAY2014 2014-05-28 14:30:22             6859   \n",
       "1  101381867           25AUG2013 2013-08-25 15:32:47            74296   \n",
       "2    7238423           19AUG2013 2013-08-19 22:17:55            26582   \n",
       "3   77871292           15FEB2014 2014-02-15 17:11:57            47355   \n",
       "4  134296672           18DEC2013 2013-12-18 16:25:02            50684   \n",
       "5  360352196           31DEC2013 2013-12-31 12:24:50            35235   \n",
       "6  272469810           14DEC2013 2013-12-14 12:49:15            74625   \n",
       "7   76337635           11OCT2013 2013-10-11 13:35:32            59905   \n",
       "8  216019144           19MAR2014 2014-03-19 10:03:03            91066   \n",
       "9   85741865           18NOV2013 2013-11-18 09:35:24            57257   \n",
       "\n",
       "   AUTHZN_AMT                 MRCH_NM   MRCH_CITY_NM MRCH_PSTL_CD  \\\n",
       "0       14.49               WILKINSON      LANCASTER          NaN   \n",
       "1        3.99    AOL*UK SecuritySuite    08082349279          NaN   \n",
       "2        0.69  APPLE ITUNES STORE-GBP     ITUNES.COM          NaN   \n",
       "3       29.84      WWW.PROBIKEKIT.COM      NORTHWICH          NaN   \n",
       "4      100.00        ASDA TRAFF PARK2  TRAFFORD PARK      M41 7ZA   \n",
       "5       22.50                 BHS 013       REDDITCH     B97  4HD   \n",
       "6        5.10      ONE-SURE INSURANCE  STOKE ON TREN     ST7  1LX   \n",
       "7       44.94         B & Q WAREHOUSE        SWANSEA          NaN   \n",
       "8       10.00  SHOPPER DISCOUNTS.CO.U         EYSINS         1262   \n",
       "9      100.00    TRANSPORT FOR LONDON         LONDON          NaN   \n",
       "\n",
       "  MRCH_CNTRY_CD           MRCH_ID      ...       PRIOR_MONEY_AVL_AMT  \\\n",
       "0           826  3758125        X      ...                    751.08   \n",
       "1           826  068636000320937R      ...                   3150.00   \n",
       "2           442  206996000200925R      ...                    521.25   \n",
       "3           826  6429369        X      ...                     30.67   \n",
       "4           826       20-54-58 00      ...                   2872.00   \n",
       "5           826          09799162      ...                    252.51   \n",
       "6           826          47177803      ...                   1917.38   \n",
       "7           826  3412954        X      ...                    997.26   \n",
       "8           756           8145500      ...                   3279.17   \n",
       "9           826  1007604        X      ...                   1283.06   \n",
       "\n",
       "  PRIOR_CASH_AVL_AMT  ACCT_CL_AMT  ACCT_CURR_BAL  PREV_ADR_CHNG_DT  \\\n",
       "0             900.00       1000.0         398.92                 .   \n",
       "1            3000.00       3000.0           0.00         29SEP2000   \n",
       "2             700.00        600.0         298.75         23NOV2012   \n",
       "3            3000.00       3000.0        2969.33         19AUG2013   \n",
       "4            2942.00       3000.0          58.00         07JAN2010   \n",
       "5             750.00        750.0         647.49                 .   \n",
       "6            2576.65       3650.0        1732.62         14NOV2002   \n",
       "7            1500.00       1500.0         644.19         13FEB2008   \n",
       "8            4000.00       4000.0         566.86         10JUN2013   \n",
       "9            1904.13       2600.0        1446.94         05JUL2001   \n",
       "\n",
       "   PREV_PMT_DT  PREV_PMT_AMT  PREV_CARD_RQST_DT FRD_IND FRD_IND_SWT_DT  \n",
       "0    14AUG2013        890.17          11MAY2014       N              .  \n",
       "1    20AUG2013          3.99          02MAR2012       N              .  \n",
       "2    19AUG2013        100.00          24MAY2013       N              .  \n",
       "3    07FEB2014         62.79          05FEB2013       N              .  \n",
       "4    13DEC2013         45.00          03DEC2011       N              .  \n",
       "5    06DEC2013         14.71          12FEB2013       N              .  \n",
       "6    01DEC2013        500.00          04OCT2012       N              .  \n",
       "7    25SEP2013        250.00          02JUN2012       N              .  \n",
       "8    16MAR2014        189.98          05NOV2011       N              .  \n",
       "9    28OCT2013         30.00          02FEB2012       N              .  \n",
       "\n",
       "[10 rows x 48 columns]"
      ]
     },
     "metadata": {},
     "output_type": "execute_result"
    }
   ],
   "source": [
    "display(df)"
   ]
  },
  {
   "cell_type": "code",
   "execution_count": 77,
   "metadata": {
    "collapsed": false
   },
   "outputs": [],
   "source": [
    "py.sign_in('bottydim', 'o1kuyms9zv') \n",
    "from plotly.graph_objs import Bar, Scatter, Marker, Layout, Figure\n",
    "import numpy as np"
   ]
  },
  {
   "cell_type": "code",
   "execution_count": 78,
   "metadata": {
    "collapsed": false
   },
   "outputs": [
    {
     "name": "stdout",
     "output_type": "stream",
     "text": [
      "./test.png\n"
     ]
    }
   ],
   "source": [
    "trace = Scatter(x=np.arange(10),y=np.arange(10))\n",
    "data = [trace] \n",
    "fig = Figure(data=data)\n",
    "plt_filename ='./test.png'\n",
    "print plt_filename\n",
    "py.image.save_as(fig,filename=plt_filename)"
   ]
  },
  {
   "cell_type": "code",
   "execution_count": 80,
   "metadata": {
    "collapsed": false
   },
   "outputs": [
    {
     "ename": "NameError",
     "evalue": "name 'k' is not defined",
     "traceback": [
      "\u001b[1;31m---------------------------------------------------------------------------\u001b[0m",
      "\u001b[1;31mNameError\u001b[0m                                 Traceback (most recent call last)",
      "\u001b[1;32m<ipython-input-80-ccc87e725786>\u001b[0m in \u001b[0;36m<module>\u001b[1;34m()\u001b[0m\n\u001b[1;32m----> 1\u001b[1;33m \u001b[0mk\u001b[0m\u001b[1;33m\u001b[0m\u001b[0m\n\u001b[0m",
      "\u001b[1;31mNameError\u001b[0m: name 'k' is not defined"
     ],
     "output_type": "error"
    }
   ],
   "source": [
    "k"
   ]
  },
  {
   "cell_type": "code",
   "execution_count": 6,
   "metadata": {
    "collapsed": false
   },
   "outputs": [],
   "source": [
    "x = np.zeros((10,1)).ravel()"
   ]
  },
  {
   "cell_type": "code",
   "execution_count": 7,
   "metadata": {
    "collapsed": false
   },
   "outputs": [
    {
     "data": {
      "text/plain": [
       "array([ 0.,  0.,  0.,  0.,  0.,  0.,  0.,  0.,  0.,  0.])"
      ]
     },
     "execution_count": 7,
     "metadata": {},
     "output_type": "execute_result"
    }
   ],
   "source": [
    "x.ravel()"
   ]
  },
  {
   "cell_type": "code",
   "execution_count": 8,
   "metadata": {
    "collapsed": false
   },
   "outputs": [
    {
     "data": {
      "text/plain": [
       "array([ 0.,  0.,  0.,  0.,  0.,  0.,  0.,  0.,  0.,  0.])"
      ]
     },
     "execution_count": 8,
     "metadata": {},
     "output_type": "execute_result"
    }
   ],
   "source": [
    "x"
   ]
  },
  {
   "cell_type": "code",
   "execution_count": 91,
   "metadata": {
    "collapsed": false
   },
   "outputs": [],
   "source": [
    "dir_name = '/home/botty/Documents/CCFD/data/models/export/birnn-do3-dle/'\n",
    "f_name = 'train.hdf5'\n",
    "# f_name = 'states.hdf5'\n",
    "file_name = dir_name + f_name\n",
    "f = h5py.File(file_name)"
   ]
  },
  {
   "cell_type": "code",
   "execution_count": 92,
   "metadata": {
    "collapsed": false
   },
   "outputs": [
    {
     "data": {
      "text/plain": [
       "[u'features', u'labels']"
      ]
     },
     "execution_count": 92,
     "metadata": {},
     "output_type": "execute_result"
    }
   ],
   "source": [
    "f.keys()"
   ]
  },
  {
   "cell_type": "code",
   "execution_count": 93,
   "metadata": {
    "collapsed": false
   },
   "outputs": [
    {
     "name": "stdout",
     "output_type": "stream",
     "text": [
      "(6954, 44)\n",
      "249105\n",
      "(6954,)\n",
      "9\n"
     ]
    }
   ],
   "source": [
    "for k in f.keys():\n",
    "    ds = f.get(k)\n",
    "    arr = np.array(ds)\n",
    "    print arr.shape\n",
    "    print np.count_nonzero(arr)"
   ]
  },
  {
   "cell_type": "code",
   "execution_count": 97,
   "metadata": {
    "collapsed": false
   },
   "outputs": [
    {
     "data": {
      "text/plain": [
       "(array([4990, 5001, 5467, 5468, 5469, 5470, 5471, 5472, 5473]),)"
      ]
     },
     "execution_count": 97,
     "metadata": {},
     "output_type": "execute_result"
    }
   ],
   "source": [
    "np.where(arr==1)"
   ]
  },
  {
   "cell_type": "code",
   "execution_count": 56,
   "metadata": {
    "collapsed": false
   },
   "outputs": [
    {
     "data": {
      "text/plain": [
       "[0.0, 0.0, 0.0, 0.0, 0.0, 0.0, 0.0, 0.0, 0.0, 0.0]"
      ]
     },
     "execution_count": 56,
     "metadata": {},
     "output_type": "execute_result"
    }
   ],
   "source": [
    "list(np.zeros(10))"
   ]
  },
  {
   "cell_type": "code",
   "execution_count": 70,
   "metadata": {
    "collapsed": false
   },
   "outputs": [
    {
     "name": "stdout",
     "output_type": "stream",
     "text": [
      "5 yes 54\n"
     ]
    }
   ],
   "source": [
    "print 5,'yes',54"
   ]
  },
  {
   "cell_type": "code",
   "execution_count": 78,
   "metadata": {
    "collapsed": false
   },
   "outputs": [
    {
     "data": {
      "text/plain": [
       "<HDF5 dataset \"layer_0\": shape (6954, 640), type \"<f8\">"
      ]
     },
     "execution_count": 78,
     "metadata": {},
     "output_type": "execute_result"
    }
   ],
   "source": [
    "f['/layer_0']"
   ]
  },
  {
   "cell_type": "code",
   "execution_count": null,
   "metadata": {
    "collapsed": true
   },
   "outputs": [],
   "source": [
    ""
   ]
  }
 ],
 "metadata": {
  "kernelspec": {
   "display_name": "Python 2",
   "language": "python",
   "name": "python2"
  },
  "language_info": {
   "codemirror_mode": {
    "name": "ipython",
    "version": 2.0
   },
   "file_extension": ".py",
   "mimetype": "text/x-python",
   "name": "python",
   "nbconvert_exporter": "python",
   "pygments_lexer": "ipython2",
   "version": "2.7.6"
  }
 },
 "nbformat": 4,
 "nbformat_minor": 0
}