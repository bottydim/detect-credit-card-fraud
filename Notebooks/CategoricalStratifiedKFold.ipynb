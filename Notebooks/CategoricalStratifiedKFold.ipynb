{
 "cells": [
  {
   "cell_type": "code",
   "execution_count": 3,
   "metadata": {
    "collapsed": false
   },
   "outputs": [],
   "source": [
    "import numpy as np\n",
    "from numpy import bincount\n",
    "import sklearn\n",
    "from sklearn.model_selection import StratifiedKFold, KFold"
   ]
  },
  {
   "cell_type": "code",
   "execution_count": 4,
   "metadata": {
    "collapsed": false
   },
   "outputs": [
    {
     "name": "stdout",
     "output_type": "stream",
     "text": [
      "The scikit-learn version is 0.19.dev1.1.\n"
     ]
    }
   ],
   "source": [
    "print('The scikit-learn version is {}.'.format(sklearn.__version__))"
   ]
  },
  {
   "cell_type": "code",
   "execution_count": 5,
   "metadata": {
    "collapsed": false
   },
   "outputs": [
    {
     "name": "stdout",
     "output_type": "stream",
     "text": [
      "Numpy Version is 1.12.0\n"
     ]
    }
   ],
   "source": [
    "print('Numpy Version is {}'.format(np.__version__))"
   ]
  },
  {
   "cell_type": "code",
   "execution_count": 6,
   "metadata": {
    "collapsed": false
   },
   "outputs": [
    {
     "ename": "NameError",
     "evalue": "name 'StratifiedKFoldMulti' is not defined",
     "output_type": "error",
     "traceback": [
      "\u001b[1;31m---------------------------------------------------------------------------\u001b[0m",
      "\u001b[1;31mNameError\u001b[0m                                 Traceback (most recent call last)",
      "\u001b[1;32m<ipython-input-6-c17ba9edd64e>\u001b[0m in \u001b[0;36m<module>\u001b[1;34m()\u001b[0m\n\u001b[0;32m      2\u001b[0m \u001b[0mX\u001b[0m \u001b[1;33m=\u001b[0m \u001b[0mnp\u001b[0m\u001b[1;33m.\u001b[0m\u001b[0marray\u001b[0m\u001b[1;33m(\u001b[0m\u001b[1;33m[\u001b[0m\u001b[1;33m[\u001b[0m\u001b[1;36m1\u001b[0m\u001b[1;33m,\u001b[0m \u001b[1;36m2\u001b[0m\u001b[1;33m]\u001b[0m\u001b[1;33m,\u001b[0m \u001b[1;33m[\u001b[0m\u001b[1;36m3\u001b[0m\u001b[1;33m,\u001b[0m \u001b[1;36m4\u001b[0m\u001b[1;33m]\u001b[0m\u001b[1;33m,\u001b[0m \u001b[1;33m[\u001b[0m\u001b[1;36m1\u001b[0m\u001b[1;33m,\u001b[0m \u001b[1;36m2\u001b[0m\u001b[1;33m]\u001b[0m\u001b[1;33m,\u001b[0m \u001b[1;33m[\u001b[0m\u001b[1;36m3\u001b[0m\u001b[1;33m,\u001b[0m \u001b[1;36m4\u001b[0m\u001b[1;33m]\u001b[0m\u001b[1;33m]\u001b[0m\u001b[1;33m)\u001b[0m\u001b[1;33m\u001b[0m\u001b[0m\n\u001b[0;32m      3\u001b[0m \u001b[0my\u001b[0m \u001b[1;33m=\u001b[0m \u001b[0mnp\u001b[0m\u001b[1;33m.\u001b[0m\u001b[0marray\u001b[0m\u001b[1;33m(\u001b[0m\u001b[1;33m[\u001b[0m\u001b[1;36m0\u001b[0m\u001b[1;33m,\u001b[0m \u001b[1;36m0\u001b[0m\u001b[1;33m,\u001b[0m \u001b[1;36m1\u001b[0m\u001b[1;33m,\u001b[0m \u001b[1;36m1\u001b[0m\u001b[1;33m]\u001b[0m\u001b[1;33m)\u001b[0m\u001b[1;33m\u001b[0m\u001b[0m\n\u001b[1;32m----> 4\u001b[1;33m \u001b[0mskf\u001b[0m \u001b[1;33m=\u001b[0m \u001b[0mStratifiedKFoldMulti\u001b[0m\u001b[1;33m(\u001b[0m\u001b[0mn_splits\u001b[0m\u001b[1;33m=\u001b[0m\u001b[1;36m2\u001b[0m\u001b[1;33m)\u001b[0m\u001b[1;33m\u001b[0m\u001b[0m\n\u001b[0m\u001b[0;32m      5\u001b[0m \u001b[0mskf\u001b[0m\u001b[1;33m.\u001b[0m\u001b[0mget_n_splits\u001b[0m\u001b[1;33m(\u001b[0m\u001b[0mX\u001b[0m\u001b[1;33m,\u001b[0m \u001b[0my\u001b[0m\u001b[1;33m)\u001b[0m\u001b[1;33m\u001b[0m\u001b[0m\n\u001b[0;32m      6\u001b[0m \u001b[1;33m\u001b[0m\u001b[0m\n",
      "\u001b[1;31mNameError\u001b[0m: name 'StratifiedKFoldMulti' is not defined"
     ]
    }
   ],
   "source": [
    "\n",
    "X = np.array([[1, 2], [3, 4], [1, 2], [3, 4]])\n",
    "y = np.array([0, 0, 1, 1])\n",
    "skf = StratifiedKFoldMulti(n_splits=2)\n",
    "skf.get_n_splits(X, y)\n",
    "\n",
    "print(skf)\n",
    "for train_index, test_index in skf.split(X, y):\n",
    "     print(\"TRAIN:\", train_index, \"TEST:\", test_index)\n",
    "     X_train, X_test = X[train_index], X[test_index]\n",
    "     y_train, y_test = y[train_index], y[test_index]"
   ]
  },
  {
   "cell_type": "code",
   "execution_count": 28,
   "metadata": {
    "collapsed": false
   },
   "outputs": [],
   "source": [
    "class CategoricalStratifiedKFold(StratifiedKFold):\n",
    "    \"\"\"Stratified Categorical output cross-validator\n",
    "\n",
    "    Provides train/test indices to split data in train/test sets.\n",
    "\n",
    "    This cross-validation object is a variation of StratifiedKFold that returns\n",
    "    stratified folds. The folds are made by preserving the percentage of\n",
    "    samples for each class. The difference is that this cross-validator work on\n",
    "    categorical outputs.That is when the output is treated as a probability\n",
    "    mass over the labels rather than the specific class.\n",
    "\n",
    "    For example, the classes Man/Woman/Undefined can be represented either as\n",
    "    0/1/2 or as [1 0 0]/[0 1 0]/[0 0 1], where the dimension with 1 idicates\n",
    "    the class\n",
    "\n",
    "\n",
    "    Parameters\n",
    "    ----------\n",
    "    n_splits : int, default=3\n",
    "        Number of folds. Must be at least 2.\n",
    "\n",
    "    shuffle : boolean, optional\n",
    "        Whether to shuffle each stratification of the data before splitting\n",
    "        into batches.\n",
    "\n",
    "    random_state : None, int or RandomState\n",
    "        When shuffle=True, pseudo-random number generator state used for\n",
    "        shuffling. If None, use default numpy RNG for shuffling.\n",
    "\n",
    "    Examples\n",
    "    --------\n",
    "    X = np.array([[1, 2], [3, 4], [1, 2], [3, 4],[3, 4],[3, 4]])\n",
    "    y = np.array([[1,0,0], [1,0,0], [0,1,0], [0,1,0],[0,0,1],[0,0,1]])\n",
    "    skf = StratifiedKFoldMulti(n_splits=2)\n",
    "    skf.get_n_splits(X, y)\n",
    "\n",
    "    print(skf)\n",
    "    StratifiedKFoldMulti(n_splits=2, random_state=None, shuffle=False)\n",
    "\n",
    "    for train_index, test_index in skf.split(X, y):\n",
    "         print(\"TRAIN:\", train_index, \"TEST:\", test_index)\n",
    "         X_train, X_test = X[train_index], X[test_index]\n",
    "         y_train, y_test = y[train_index], y[test_index]\n",
    "\n",
    "    ('TRAIN:', array([1, 3, 5]), 'TEST:', array([0, 2, 4]))\n",
    "    ('TRAIN:', array([0, 2, 4]), 'TEST:', array([1, 3, 5]))\n",
    "\n",
    "    Notes\n",
    "    -----\n",
    "    All the folds have size ``trunc(n_samples / n_splits)``, the last one has\n",
    "    the complementary.\n",
    "\n",
    "    See also\n",
    "    --------\n",
    "    StratifiedKFold: Returns Stratified K-Folds\n",
    "    RepeatedStratifiedKFold: Repeats Stratified K-Fold n times.\n",
    "\n",
    "    \"\"\"\n",
    "    def _make_test_folds(self, X, y=None, groups=None):\n",
    "        if self.shuffle:\n",
    "            rng = check_random_state(self.random_state)\n",
    "        else:\n",
    "            rng = self.random_state\n",
    "        y = np.asarray(y,dtype='int32')\n",
    "        n_samples = y.shape[0]\n",
    "        unique_y = np.array(range(y.shape[1]))\n",
    "        y_counts = np.sum(y, axis=0)\n",
    "        min_groups = np.min(y_counts)\n",
    "        if np.all(self.n_splits > y_counts):\n",
    "            raise ValueError(\"All the n_groups for individual classes\"\n",
    "                             \" are less than n_splits=%d.\"\n",
    "                             % (self.n_splits))\n",
    "        if self.n_splits > min_groups:\n",
    "            warnings.warn((\"The least populated class in y has only %d\"\n",
    "                           \" members, which is too few. The minimum\"\n",
    "                           \" number of groups for any class cannot\"\n",
    "                           \" be less than n_splits=%d.\"\n",
    "                           % (min_groups, self.n_splits)), Warning)\n",
    "\n",
    "        # TODO ensure y is in categorical format\n",
    "        # pre-assign each sample to a test fold index using individual KFold\n",
    "        # splitting strategies for each class so as to respect the balance of\n",
    "        # classes\n",
    "        # NOTE: Passing the data corresponding to ith class say X[y==class_i]\n",
    "        # will break when the data is not 100% stratifiable for all classes.\n",
    "        # So we pass np.zeroes(max(c, n_splits)) as data to the KFold\n",
    "        from IPython.core.debugger import Tracer; Tracer()() \n",
    "        \n",
    "        per_cls_cvs = [\n",
    "            KFold(self.n_splits, shuffle=self.shuffle,\n",
    "                  random_state=rng).split(np.zeros(max(count, self.n_splits)))\n",
    "            for count in y_counts]\n",
    "\n",
    "        test_folds = np.zeros(n_samples, dtype=np.int)\n",
    "        for test_fold_indices, per_cls_splits in enumerate(zip(*per_cls_cvs)):\n",
    "            for cls, (_, test_split) in zip(unique_y, per_cls_splits):\n",
    "\n",
    "                # Check which of the samples have this class dimension\n",
    "                test_folds_index = np.array(y == 1)[:, cls]\n",
    "                cls_test_folds = test_folds[test_folds_index]\n",
    "                # the test split can be too big because we used\n",
    "                # KFold(...).split(X[:max(c, n_splits)]) when data is not 100%\n",
    "                # stratifiable for all the classes\n",
    "                # (we use a warning instead of raising an exception)\n",
    "                # If this is the case, let's trim it:\n",
    "                test_split = test_split[test_split < len(cls_test_folds)]\n",
    "                cls_test_folds[test_split] = test_fold_indices\n",
    "                test_folds[test_folds_index] = cls_test_folds\n",
    "\n",
    "        return test_folds"
   ]
  },
  {
   "cell_type": "code",
   "execution_count": 29,
   "metadata": {
    "collapsed": false
   },
   "outputs": [
    {
     "name": "stdout",
     "output_type": "stream",
     "text": [
      "CategoricalStratifiedKFold(n_splits=2, random_state=None, shuffle=False)\n",
      "> \u001b[1;32m<ipython-input-28-f84663df84b0>\u001b[0m(89)\u001b[0;36m_make_test_folds\u001b[1;34m()\u001b[0m\n",
      "\u001b[1;32m     87 \u001b[1;33m        \u001b[1;32mfrom\u001b[0m \u001b[0mIPython\u001b[0m\u001b[1;33m.\u001b[0m\u001b[0mcore\u001b[0m\u001b[1;33m.\u001b[0m\u001b[0mdebugger\u001b[0m \u001b[1;32mimport\u001b[0m \u001b[0mTracer\u001b[0m\u001b[1;33m;\u001b[0m \u001b[0mTracer\u001b[0m\u001b[1;33m(\u001b[0m\u001b[1;33m)\u001b[0m\u001b[1;33m(\u001b[0m\u001b[1;33m)\u001b[0m\u001b[1;33m\u001b[0m\u001b[0m\n",
      "\u001b[0m\u001b[1;32m     88 \u001b[1;33m        per_cls_cvs = [\n",
      "\u001b[0m\u001b[1;32m---> 89 \u001b[1;33m            KFold(self.n_splits, shuffle=self.shuffle,\n",
      "\u001b[0m\u001b[1;32m     90 \u001b[1;33m                  random_state=rng).split(np.zeros(max(count, self.n_splits)))\n",
      "\u001b[0m\u001b[1;32m     91 \u001b[1;33m            for count in y_counts]\n",
      "\u001b[0m\n",
      "\u0001\u0002ipdb> \u0001\u0002s\n",
      "> \u001b[1;32m<ipython-input-28-f84663df84b0>\u001b[0m(91)\u001b[0;36m_make_test_folds\u001b[1;34m()\u001b[0m\n",
      "\u001b[1;32m     89 \u001b[1;33m            KFold(self.n_splits, shuffle=self.shuffle,\n",
      "\u001b[0m\u001b[1;32m     90 \u001b[1;33m                  random_state=rng).split(np.zeros(max(count, self.n_splits)))\n",
      "\u001b[0m\u001b[1;32m---> 91 \u001b[1;33m            for count in y_counts]\n",
      "\u001b[0m\u001b[1;32m     92 \u001b[1;33m\u001b[1;33m\u001b[0m\u001b[0m\n",
      "\u001b[0m\u001b[1;32m     93 \u001b[1;33m        \u001b[0mtest_folds\u001b[0m \u001b[1;33m=\u001b[0m \u001b[0mnp\u001b[0m\u001b[1;33m.\u001b[0m\u001b[0mzeros\u001b[0m\u001b[1;33m(\u001b[0m\u001b[0mn_samples\u001b[0m\u001b[1;33m,\u001b[0m \u001b[0mdtype\u001b[0m\u001b[1;33m=\u001b[0m\u001b[0mnp\u001b[0m\u001b[1;33m.\u001b[0m\u001b[0mint\u001b[0m\u001b[1;33m)\u001b[0m\u001b[1;33m\u001b[0m\u001b[0m\n",
      "\u001b[0m\n",
      "\u0001\u0002ipdb> \u0001\u0002s\n",
      "--Call--\n",
      "> \u001b[1;32m/home/botty/Documents/scikit-learn/sklearn/model_selection/_split.py\u001b[0m(407)\u001b[0;36m__init__\u001b[1;34m()\u001b[0m\n",
      "\u001b[1;32m    405 \u001b[1;33m    \"\"\"\n",
      "\u001b[0m\u001b[1;32m    406 \u001b[1;33m\u001b[1;33m\u001b[0m\u001b[0m\n",
      "\u001b[0m\u001b[1;32m--> 407 \u001b[1;33m    def __init__(self, n_splits=3, shuffle=False,\n",
      "\u001b[0m\u001b[1;32m    408 \u001b[1;33m                 random_state=None):\n",
      "\u001b[0m\u001b[1;32m    409 \u001b[1;33m        \u001b[0msuper\u001b[0m\u001b[1;33m(\u001b[0m\u001b[0mKFold\u001b[0m\u001b[1;33m,\u001b[0m \u001b[0mself\u001b[0m\u001b[1;33m)\u001b[0m\u001b[1;33m.\u001b[0m\u001b[0m__init__\u001b[0m\u001b[1;33m(\u001b[0m\u001b[0mn_splits\u001b[0m\u001b[1;33m,\u001b[0m \u001b[0mshuffle\u001b[0m\u001b[1;33m,\u001b[0m \u001b[0mrandom_state\u001b[0m\u001b[1;33m)\u001b[0m\u001b[1;33m\u001b[0m\u001b[0m\n",
      "\u001b[0m\n",
      "\u0001\u0002ipdb> \u0001\u0002n\n",
      "> \u001b[1;32m/home/botty/Documents/scikit-learn/sklearn/model_selection/_split.py\u001b[0m(409)\u001b[0;36m__init__\u001b[1;34m()\u001b[0m\n",
      "\u001b[1;32m    407 \u001b[1;33m    def __init__(self, n_splits=3, shuffle=False,\n",
      "\u001b[0m\u001b[1;32m    408 \u001b[1;33m                 random_state=None):\n",
      "\u001b[0m\u001b[1;32m--> 409 \u001b[1;33m        \u001b[0msuper\u001b[0m\u001b[1;33m(\u001b[0m\u001b[0mKFold\u001b[0m\u001b[1;33m,\u001b[0m \u001b[0mself\u001b[0m\u001b[1;33m)\u001b[0m\u001b[1;33m.\u001b[0m\u001b[0m__init__\u001b[0m\u001b[1;33m(\u001b[0m\u001b[0mn_splits\u001b[0m\u001b[1;33m,\u001b[0m \u001b[0mshuffle\u001b[0m\u001b[1;33m,\u001b[0m \u001b[0mrandom_state\u001b[0m\u001b[1;33m)\u001b[0m\u001b[1;33m\u001b[0m\u001b[0m\n",
      "\u001b[0m\u001b[1;32m    410 \u001b[1;33m\u001b[1;33m\u001b[0m\u001b[0m\n",
      "\u001b[0m\u001b[1;32m    411 \u001b[1;33m    \u001b[1;32mdef\u001b[0m \u001b[0m_iter_test_indices\u001b[0m\u001b[1;33m(\u001b[0m\u001b[0mself\u001b[0m\u001b[1;33m,\u001b[0m \u001b[0mX\u001b[0m\u001b[1;33m,\u001b[0m \u001b[0my\u001b[0m\u001b[1;33m=\u001b[0m\u001b[0mNone\u001b[0m\u001b[1;33m,\u001b[0m \u001b[0mgroups\u001b[0m\u001b[1;33m=\u001b[0m\u001b[0mNone\u001b[0m\u001b[1;33m)\u001b[0m\u001b[1;33m:\u001b[0m\u001b[1;33m\u001b[0m\u001b[0m\n",
      "\u001b[0m\n",
      "\u0001\u0002ipdb> \u0001\u0002n\n",
      "--Return--\n",
      "None\n",
      "> \u001b[1;32m/home/botty/Documents/scikit-learn/sklearn/model_selection/_split.py\u001b[0m(409)\u001b[0;36m__init__\u001b[1;34m()\u001b[0m\n",
      "\u001b[1;32m    407 \u001b[1;33m    def __init__(self, n_splits=3, shuffle=False,\n",
      "\u001b[0m\u001b[1;32m    408 \u001b[1;33m                 random_state=None):\n",
      "\u001b[0m\u001b[1;32m--> 409 \u001b[1;33m        \u001b[0msuper\u001b[0m\u001b[1;33m(\u001b[0m\u001b[0mKFold\u001b[0m\u001b[1;33m,\u001b[0m \u001b[0mself\u001b[0m\u001b[1;33m)\u001b[0m\u001b[1;33m.\u001b[0m\u001b[0m__init__\u001b[0m\u001b[1;33m(\u001b[0m\u001b[0mn_splits\u001b[0m\u001b[1;33m,\u001b[0m \u001b[0mshuffle\u001b[0m\u001b[1;33m,\u001b[0m \u001b[0mrandom_state\u001b[0m\u001b[1;33m)\u001b[0m\u001b[1;33m\u001b[0m\u001b[0m\n",
      "\u001b[0m\u001b[1;32m    410 \u001b[1;33m\u001b[1;33m\u001b[0m\u001b[0m\n",
      "\u001b[0m\u001b[1;32m    411 \u001b[1;33m    \u001b[1;32mdef\u001b[0m \u001b[0m_iter_test_indices\u001b[0m\u001b[1;33m(\u001b[0m\u001b[0mself\u001b[0m\u001b[1;33m,\u001b[0m \u001b[0mX\u001b[0m\u001b[1;33m,\u001b[0m \u001b[0my\u001b[0m\u001b[1;33m=\u001b[0m\u001b[0mNone\u001b[0m\u001b[1;33m,\u001b[0m \u001b[0mgroups\u001b[0m\u001b[1;33m=\u001b[0m\u001b[0mNone\u001b[0m\u001b[1;33m)\u001b[0m\u001b[1;33m:\u001b[0m\u001b[1;33m\u001b[0m\u001b[0m\n",
      "\u001b[0m\n",
      "\u0001\u0002ipdb> \u0001\u0002n\n",
      "> \u001b[1;32m<ipython-input-28-f84663df84b0>\u001b[0m(91)\u001b[0;36m_make_test_folds\u001b[1;34m()\u001b[0m\n",
      "\u001b[1;32m     89 \u001b[1;33m            KFold(self.n_splits, shuffle=self.shuffle,\n",
      "\u001b[0m\u001b[1;32m     90 \u001b[1;33m                  random_state=rng).split(np.zeros(max(count, self.n_splits)))\n",
      "\u001b[0m\u001b[1;32m---> 91 \u001b[1;33m            for count in y_counts]\n",
      "\u001b[0m\u001b[1;32m     92 \u001b[1;33m\u001b[1;33m\u001b[0m\u001b[0m\n",
      "\u001b[0m\u001b[1;32m     93 \u001b[1;33m        \u001b[0mtest_folds\u001b[0m \u001b[1;33m=\u001b[0m \u001b[0mnp\u001b[0m\u001b[1;33m.\u001b[0m\u001b[0mzeros\u001b[0m\u001b[1;33m(\u001b[0m\u001b[0mn_samples\u001b[0m\u001b[1;33m,\u001b[0m \u001b[0mdtype\u001b[0m\u001b[1;33m=\u001b[0m\u001b[0mnp\u001b[0m\u001b[1;33m.\u001b[0m\u001b[0mint\u001b[0m\u001b[1;33m)\u001b[0m\u001b[1;33m\u001b[0m\u001b[0m\n",
      "\u001b[0m\n",
      "\u0001\u0002ipdb> \u0001\u0002\n",
      "> \u001b[1;32m<ipython-input-28-f84663df84b0>\u001b[0m(91)\u001b[0;36m_make_test_folds\u001b[1;34m()\u001b[0m\n",
      "\u001b[1;32m     89 \u001b[1;33m            KFold(self.n_splits, shuffle=self.shuffle,\n",
      "\u001b[0m\u001b[1;32m     90 \u001b[1;33m                  random_state=rng).split(np.zeros(max(count, self.n_splits)))\n",
      "\u001b[0m\u001b[1;32m---> 91 \u001b[1;33m            for count in y_counts]\n",
      "\u001b[0m\u001b[1;32m     92 \u001b[1;33m\u001b[1;33m\u001b[0m\u001b[0m\n",
      "\u001b[0m\u001b[1;32m     93 \u001b[1;33m        \u001b[0mtest_folds\u001b[0m \u001b[1;33m=\u001b[0m \u001b[0mnp\u001b[0m\u001b[1;33m.\u001b[0m\u001b[0mzeros\u001b[0m\u001b[1;33m(\u001b[0m\u001b[0mn_samples\u001b[0m\u001b[1;33m,\u001b[0m \u001b[0mdtype\u001b[0m\u001b[1;33m=\u001b[0m\u001b[0mnp\u001b[0m\u001b[1;33m.\u001b[0m\u001b[0mint\u001b[0m\u001b[1;33m)\u001b[0m\u001b[1;33m\u001b[0m\u001b[0m\n",
      "\u001b[0m\n",
      "\u0001\u0002ipdb> \u0001\u0002s\n",
      "--Call--\n",
      "> \u001b[1;32m/home/botty/Documents/scikit-learn/sklearn/model_selection/_split.py\u001b[0m(407)\u001b[0;36m__init__\u001b[1;34m()\u001b[0m\n",
      "\u001b[1;32m    405 \u001b[1;33m    \"\"\"\n",
      "\u001b[0m\u001b[1;32m    406 \u001b[1;33m\u001b[1;33m\u001b[0m\u001b[0m\n",
      "\u001b[0m\u001b[1;32m--> 407 \u001b[1;33m    def __init__(self, n_splits=3, shuffle=False,\n",
      "\u001b[0m\u001b[1;32m    408 \u001b[1;33m                 random_state=None):\n",
      "\u001b[0m\u001b[1;32m    409 \u001b[1;33m        \u001b[0msuper\u001b[0m\u001b[1;33m(\u001b[0m\u001b[0mKFold\u001b[0m\u001b[1;33m,\u001b[0m \u001b[0mself\u001b[0m\u001b[1;33m)\u001b[0m\u001b[1;33m.\u001b[0m\u001b[0m__init__\u001b[0m\u001b[1;33m(\u001b[0m\u001b[0mn_splits\u001b[0m\u001b[1;33m,\u001b[0m \u001b[0mshuffle\u001b[0m\u001b[1;33m,\u001b[0m \u001b[0mrandom_state\u001b[0m\u001b[1;33m)\u001b[0m\u001b[1;33m\u001b[0m\u001b[0m\n",
      "\u001b[0m\n",
      "\u0001\u0002ipdb> \u0001\u0002count\n",
      "*** NameError: name 'count' is not defined\n",
      "\u0001\u0002ipdb> \u0001\u0002n\n",
      "> \u001b[1;32m/home/botty/Documents/scikit-learn/sklearn/model_selection/_split.py\u001b[0m(409)\u001b[0;36m__init__\u001b[1;34m()\u001b[0m\n",
      "\u001b[1;32m    407 \u001b[1;33m    def __init__(self, n_splits=3, shuffle=False,\n",
      "\u001b[0m\u001b[1;32m    408 \u001b[1;33m                 random_state=None):\n",
      "\u001b[0m\u001b[1;32m--> 409 \u001b[1;33m        \u001b[0msuper\u001b[0m\u001b[1;33m(\u001b[0m\u001b[0mKFold\u001b[0m\u001b[1;33m,\u001b[0m \u001b[0mself\u001b[0m\u001b[1;33m)\u001b[0m\u001b[1;33m.\u001b[0m\u001b[0m__init__\u001b[0m\u001b[1;33m(\u001b[0m\u001b[0mn_splits\u001b[0m\u001b[1;33m,\u001b[0m \u001b[0mshuffle\u001b[0m\u001b[1;33m,\u001b[0m \u001b[0mrandom_state\u001b[0m\u001b[1;33m)\u001b[0m\u001b[1;33m\u001b[0m\u001b[0m\n",
      "\u001b[0m\u001b[1;32m    410 \u001b[1;33m\u001b[1;33m\u001b[0m\u001b[0m\n",
      "\u001b[0m\u001b[1;32m    411 \u001b[1;33m    \u001b[1;32mdef\u001b[0m \u001b[0m_iter_test_indices\u001b[0m\u001b[1;33m(\u001b[0m\u001b[0mself\u001b[0m\u001b[1;33m,\u001b[0m \u001b[0mX\u001b[0m\u001b[1;33m,\u001b[0m \u001b[0my\u001b[0m\u001b[1;33m=\u001b[0m\u001b[0mNone\u001b[0m\u001b[1;33m,\u001b[0m \u001b[0mgroups\u001b[0m\u001b[1;33m=\u001b[0m\u001b[0mNone\u001b[0m\u001b[1;33m)\u001b[0m\u001b[1;33m:\u001b[0m\u001b[1;33m\u001b[0m\u001b[0m\n",
      "\u001b[0m\n",
      "\u0001\u0002ipdb> \u0001\u0002n\n",
      "--Return--\n",
      "None\n",
      "> \u001b[1;32m/home/botty/Documents/scikit-learn/sklearn/model_selection/_split.py\u001b[0m(409)\u001b[0;36m__init__\u001b[1;34m()\u001b[0m\n",
      "\u001b[1;32m    407 \u001b[1;33m    def __init__(self, n_splits=3, shuffle=False,\n",
      "\u001b[0m\u001b[1;32m    408 \u001b[1;33m                 random_state=None):\n",
      "\u001b[0m\u001b[1;32m--> 409 \u001b[1;33m        \u001b[0msuper\u001b[0m\u001b[1;33m(\u001b[0m\u001b[0mKFold\u001b[0m\u001b[1;33m,\u001b[0m \u001b[0mself\u001b[0m\u001b[1;33m)\u001b[0m\u001b[1;33m.\u001b[0m\u001b[0m__init__\u001b[0m\u001b[1;33m(\u001b[0m\u001b[0mn_splits\u001b[0m\u001b[1;33m,\u001b[0m \u001b[0mshuffle\u001b[0m\u001b[1;33m,\u001b[0m \u001b[0mrandom_state\u001b[0m\u001b[1;33m)\u001b[0m\u001b[1;33m\u001b[0m\u001b[0m\n",
      "\u001b[0m\u001b[1;32m    410 \u001b[1;33m\u001b[1;33m\u001b[0m\u001b[0m\n",
      "\u001b[0m\u001b[1;32m    411 \u001b[1;33m    \u001b[1;32mdef\u001b[0m \u001b[0m_iter_test_indices\u001b[0m\u001b[1;33m(\u001b[0m\u001b[0mself\u001b[0m\u001b[1;33m,\u001b[0m \u001b[0mX\u001b[0m\u001b[1;33m,\u001b[0m \u001b[0my\u001b[0m\u001b[1;33m=\u001b[0m\u001b[0mNone\u001b[0m\u001b[1;33m,\u001b[0m \u001b[0mgroups\u001b[0m\u001b[1;33m=\u001b[0m\u001b[0mNone\u001b[0m\u001b[1;33m)\u001b[0m\u001b[1;33m:\u001b[0m\u001b[1;33m\u001b[0m\u001b[0m\n",
      "\u001b[0m\n",
      "\u0001\u0002ipdb> \u0001\u0002n\n",
      "> \u001b[1;32m<ipython-input-28-f84663df84b0>\u001b[0m(91)\u001b[0;36m_make_test_folds\u001b[1;34m()\u001b[0m\n",
      "\u001b[1;32m     89 \u001b[1;33m            KFold(self.n_splits, shuffle=self.shuffle,\n",
      "\u001b[0m\u001b[1;32m     90 \u001b[1;33m                  random_state=rng).split(np.zeros(max(count, self.n_splits)))\n",
      "\u001b[0m\u001b[1;32m---> 91 \u001b[1;33m            for count in y_counts]\n",
      "\u001b[0m\u001b[1;32m     92 \u001b[1;33m\u001b[1;33m\u001b[0m\u001b[0m\n",
      "\u001b[0m\u001b[1;32m     93 \u001b[1;33m        \u001b[0mtest_folds\u001b[0m \u001b[1;33m=\u001b[0m \u001b[0mnp\u001b[0m\u001b[1;33m.\u001b[0m\u001b[0mzeros\u001b[0m\u001b[1;33m(\u001b[0m\u001b[0mn_samples\u001b[0m\u001b[1;33m,\u001b[0m \u001b[0mdtype\u001b[0m\u001b[1;33m=\u001b[0m\u001b[0mnp\u001b[0m\u001b[1;33m.\u001b[0m\u001b[0mint\u001b[0m\u001b[1;33m)\u001b[0m\u001b[1;33m\u001b[0m\u001b[0m\n",
      "\u001b[0m\n",
      "\u0001\u0002ipdb> \u0001\u0002count\n",
      "2\n",
      "\u0001\u0002ipdb> \u0001\u0002y_counts\n",
      "array([2, 2, 2])\n",
      "\u0001\u0002ipdb> \u0001\u0002q\n",
      "Exiting Debugger.\n"
     ]
    }
   ],
   "source": [
    "X = np.array([[1, 2], [3, 4], [1, 2], [3, 4],[3, 4],[3, 4]])\n",
    "y = np.array([[1,0,0], [1,0,0], [0,1,0], [0,1,0],[0,0,1],[0,0,1]])\n",
    "skf = CategoricalStratifiedKFold(n_splits=2)\n",
    "skf.get_n_splits(X, y)\n",
    "\n",
    "print(skf)\n",
    "for train_index, test_index in skf.split(X, y):\n",
    "     print(\"TRAIN:\", train_index, \"TEST:\", test_index)\n",
    "     X_train, X_test = X[train_index], X[test_index]\n",
    "     y_train, y_test = y[train_index], y[test_index]"
   ]
  },
  {
   "cell_type": "code",
   "execution_count": 80,
   "metadata": {
    "collapsed": false
   },
   "outputs": [
    {
     "data": {
      "text/plain": [
       "array([[1, 0, 0],\n",
       "       [0, 1, 0],\n",
       "       [0, 0, 1]])"
      ]
     },
     "execution_count": 80,
     "metadata": {},
     "output_type": "execute_result"
    }
   ],
   "source": [
    "y_train"
   ]
  },
  {
   "cell_type": "code",
   "execution_count": 1,
   "metadata": {
    "collapsed": true
   },
   "outputs": [],
   "source": [
    "%store -r ds"
   ]
  },
  {
   "cell_type": "code",
   "execution_count": 26,
   "metadata": {
    "collapsed": true
   },
   "outputs": [],
   "source": [
    "def compare(models,X,Y,scale=True):\n",
    "    \"\"\"Compares different sk-learn models\n",
    "    \n",
    "    Parameters\n",
    "        ----------\n",
    "    models : dict\n",
    "        model object, expected ouotput dimensions\n",
    "    \"\"\"\n",
    "    seed = 7\n",
    "    np.random.seed(seed)\n",
    "    results = {}\n",
    "    for m in models.keys():\n",
    "        \n",
    "        estimators = []\n",
    "        if scale:\n",
    "            estimators.append(('standardize', StandardScaler()))\n",
    "        estimators.append(m)\n",
    "        pipeline = Pipeline(estimators)\n",
    "#         kfold = CategoricalStratifiedKFold(n_splits=5, random_state=seed)\n",
    "        ## set model output dimensioanlity\n",
    "        Y_shaped = Y[:] if models[m] == None else Y[:,models[m]]\n",
    "        if Y_shaped.shape[1] > 1:\n",
    "            print \"using categorical\"\n",
    "            kfold = CategoricalStratifiedKFold(n_splits=5, random_state=seed) \n",
    "        else:\n",
    "            kfold = StratifiedKFold(n_splits=5, random_state=seed)\n",
    "#         from IPython.core.debugger import Tracer; Tracer()()      \n",
    "        results[m] = cross_val_score(pipeline, X, Y_shaped, cv=kfold, scoring='roc_auc',n_jobs=1)\n",
    "    return results"
   ]
  },
  {
   "cell_type": "code",
   "execution_count": null,
   "metadata": {
    "collapsed": false
   },
   "outputs": [
    {
     "name": "stdout",
     "output_type": "stream",
     "text": [
      "(100, 100, 44)\n",
      "(100, 100, 2)\n",
      "using categorical\n",
      "> \u001b[1;32m<ipython-input-28-f84663df84b0>\u001b[0m(89)\u001b[0;36m_make_test_folds\u001b[1;34m()\u001b[0m\n",
      "\u001b[1;32m     87 \u001b[1;33m        \u001b[1;32mfrom\u001b[0m \u001b[0mIPython\u001b[0m\u001b[1;33m.\u001b[0m\u001b[0mcore\u001b[0m\u001b[1;33m.\u001b[0m\u001b[0mdebugger\u001b[0m \u001b[1;32mimport\u001b[0m \u001b[0mTracer\u001b[0m\u001b[1;33m;\u001b[0m \u001b[0mTracer\u001b[0m\u001b[1;33m(\u001b[0m\u001b[1;33m)\u001b[0m\u001b[1;33m(\u001b[0m\u001b[1;33m)\u001b[0m\u001b[1;33m\u001b[0m\u001b[0m\n",
      "\u001b[0m\u001b[1;32m     88 \u001b[1;33m        per_cls_cvs = [\n",
      "\u001b[0m\u001b[1;32m---> 89 \u001b[1;33m            KFold(self.n_splits, shuffle=self.shuffle,\n",
      "\u001b[0m\u001b[1;32m     90 \u001b[1;33m                  random_state=rng).split(np.zeros(max(count, self.n_splits)))\n",
      "\u001b[0m\u001b[1;32m     91 \u001b[1;33m            for count in y_counts]\n",
      "\u001b[0m\n",
      "\u0001\u0002ipdb> \u0001\u0002count\n",
      "*** NameError: name 'count' is not defined\n",
      "\u0001\u0002ipdb> \u0001\u0002y_counts\n",
      "array([[82, 18],\n",
      "       [82, 18],\n",
      "       [79, 21],\n",
      "       [84, 16],\n",
      "       [81, 19],\n",
      "       [82, 18],\n",
      "       [89, 11],\n",
      "       [83, 17],\n",
      "       [85, 15],\n",
      "       [85, 15],\n",
      "       [82, 18],\n",
      "       [81, 19],\n",
      "       [87, 13],\n",
      "       [88, 12],\n",
      "       [85, 15],\n",
      "       [87, 13],\n",
      "       [86, 14],\n",
      "       [80, 20],\n",
      "       [87, 13],\n",
      "       [85, 15],\n",
      "       [83, 17],\n",
      "       [87, 13],\n",
      "       [79, 21],\n",
      "       [84, 16],\n",
      "       [83, 17],\n",
      "       [81, 19],\n",
      "       [86, 14],\n",
      "       [77, 23],\n",
      "       [77, 23],\n",
      "       [81, 19],\n",
      "       [83, 17],\n",
      "       [88, 12],\n",
      "       [86, 14],\n",
      "       [82, 18],\n",
      "       [87, 13],\n",
      "       [83, 17],\n",
      "       [83, 17],\n",
      "       [84, 16],\n",
      "       [85, 15],\n",
      "       [83, 17],\n",
      "       [79, 21],\n",
      "       [84, 16],\n",
      "       [80, 20],\n",
      "       [83, 17],\n",
      "       [82, 18],\n",
      "       [87, 13],\n",
      "       [86, 14],\n",
      "       [80, 20],\n",
      "       [80, 20],\n",
      "       [86, 14],\n",
      "       [86, 14],\n",
      "       [90, 10],\n",
      "       [82, 18],\n",
      "       [82, 18],\n",
      "       [85, 15],\n",
      "       [78, 22],\n",
      "       [85, 15],\n",
      "       [79, 21],\n",
      "       [82, 18],\n",
      "       [77, 23],\n",
      "       [80, 20],\n",
      "       [82, 18],\n",
      "       [84, 16],\n",
      "       [81, 19],\n",
      "       [86, 14],\n",
      "       [87, 13],\n",
      "       [82, 18],\n",
      "       [86, 14],\n",
      "       [93,  7],\n",
      "       [79, 21],\n",
      "       [85, 15],\n",
      "       [82, 18],\n",
      "       [81, 19],\n",
      "       [85, 15],\n",
      "       [79, 21],\n",
      "       [80, 20],\n",
      "       [83, 17],\n",
      "       [85, 15],\n",
      "       [87, 13],\n",
      "       [84, 16],\n",
      "       [88, 12],\n",
      "       [79, 21],\n",
      "       [85, 15],\n",
      "       [84, 16],\n",
      "       [89, 11],\n",
      "       [79, 21],\n",
      "       [79, 21],\n",
      "       [87, 13],\n",
      "       [90, 10],\n",
      "       [83, 17],\n",
      "       [87, 13],\n",
      "       [85, 15],\n",
      "       [92,  8],\n",
      "       [83, 17],\n",
      "       [83, 17],\n",
      "       [85, 15],\n",
      "       [83, 17],\n",
      "       [87, 13],\n",
      "       [79, 21],\n",
      "       [87, 13]])\n"
     ]
    }
   ],
   "source": [
    "    X_sub,Y_sub = ds\n",
    "    print X_sub.shape\n",
    "    print Y_sub.shape\n",
    "    nb_epochs = 1\n",
    "    batch_size = 1e4/ X_sub.shape[1]\n",
    "    m5 = ('rnn',KerasClassifier(build_fn=keras_rnn_model,input_dimensions=X_sub.shape[2],seq_len=X_sub.shape[1],hidden=100,layers=2, nb_epoch=nb_epochs, batch_size=batch_size, verbose=0))\n",
    "    results = compare({m5:None},X_sub,Y_sub,scale=False)\n",
    "    result"
   ]
  },
  {
   "cell_type": "code",
   "execution_count": 19,
   "metadata": {
    "collapsed": false,
    "scrolled": true
   },
   "outputs": [],
   "source": [
    "from keras.utils.np_utils import to_categorical\n",
    "from keras.models import Sequential\n",
    "from keras.layers import Dense, Input\n",
    "from keras.models import Model\n",
    "from keras.wrappers.scikit_learn import KerasRegressor, KerasClassifier\n",
    "from sklearn.pipeline import Pipeline\n",
    "from sklearn.model_selection import cross_val_score"
   ]
  },
  {
   "cell_type": "code",
   "execution_count": 14,
   "metadata": {
    "collapsed": true
   },
   "outputs": [],
   "source": [
    "from keras.layers import TimeDistributed\n",
    "from keras.layers.recurrent import SimpleRNN"
   ]
  },
  {
   "cell_type": "code",
   "execution_count": 15,
   "metadata": {
    "collapsed": true
   },
   "outputs": [],
   "source": [
    "def keras_rnn_model(input_dimensions,seq_len,hidden=100,layers=1):\n",
    "    # create model\n",
    "    model = Sequential()\n",
    "    model.add(SimpleRNN(hidden, input_shape=(seq_len,input_dimensions), init='normal', activation='relu',return_sequences=True))\n",
    "    if hidden is not None:\n",
    "        for l in range(layers):\n",
    "            model.add(SimpleRNN(hidden, init='normal', activation='relu',return_sequences=True))\n",
    "    model.add(TimeDistributed(Dense(2, init='normal', activation='softmax')))\n",
    "    # Compile model\n",
    "    model.compile(loss='binary_crossentropy', optimizer='rmsprop')\n",
    "    return model"
   ]
  },
  {
   "cell_type": "code",
   "execution_count": null,
   "metadata": {
    "collapsed": true
   },
   "outputs": [],
   "source": []
  }
 ],
 "metadata": {
  "kernelspec": {
   "display_name": "Python 2",
   "language": "python",
   "name": "python2"
  },
  "language_info": {
   "codemirror_mode": {
    "name": "ipython",
    "version": 2
   },
   "file_extension": ".py",
   "mimetype": "text/x-python",
   "name": "python",
   "nbconvert_exporter": "python",
   "pygments_lexer": "ipython2",
   "version": "2.7.6"
  }
 },
 "nbformat": 4,
 "nbformat_minor": 0
}
