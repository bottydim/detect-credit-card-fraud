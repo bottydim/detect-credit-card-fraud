{
 "cells": [
  {
   "cell_type": "code",
   "execution_count": 11,
   "metadata": {},
   "outputs": [
    {
     "name": "stdout",
     "output_type": "stream",
     "text": [
      "The autoreload extension is already loaded. To reload it, use:\n",
      "  %reload_ext autoreload\n"
     ]
    }
   ],
   "source": [
    "%load_ext autoreload\n",
    "%autoreload 2"
   ]
  },
  {
   "cell_type": "code",
   "execution_count": 31,
   "metadata": {
    "scrolled": true
   },
   "outputs": [],
   "source": [
    "import sys\n",
    "sys.path.append(\"/home/botty/Documents/CCFD/\") \n",
    "# from ccfd_dnn.model.model import *\n",
    "from ccfd_dnn.model.model import *"
   ]
  },
  {
   "cell_type": "code",
   "execution_count": 32,
   "metadata": {},
   "outputs": [
    {
     "data": {
      "text/plain": [
       "True"
      ]
     },
     "execution_count": 32,
     "metadata": {},
     "output_type": "execute_result"
    }
   ],
   "source": [
    "\"ccfd_dnn.model.model\" in sys.modules.keys()"
   ]
  },
  {
   "cell_type": "code",
   "execution_count": 35,
   "metadata": {
    "scrolled": true
   },
   "outputs": [
    {
     "name": "stderr",
     "output_type": "stream",
     "text": [
      "/home/botty/Documents/scikit-learn/sklearn/base.py:312: UserWarning:\n",
      "\n",
      "Trying to unpickle estimator LabelEncoder from version pre-0.18 when using version 0.19.dev1.1. This might lead to breaking code or invalid results. Use at your own risk.\n",
      "\n"
     ]
    },
    {
     "name": "stdout",
     "output_type": "stream",
     "text": [
      "encoders LOADED!\n"
     ]
    }
   ],
   "source": [
    "address = \"postgresql+pg8000://script@localhost:5432/ccfd\"\n",
    "disk_engine = create_engine(address)\n",
    "user_mode = 'train'\n",
    "trans_mode = 'train'\n",
    "tbl_src = 'auth'\n",
    "tbl_evnt = 'event'\n",
    "table = \"data_fraud\"\n",
    "path_encoders ='/home/botty/Documents/CCFD/data/encoders/{tbl_src}+{tbl_evnt}'.format(tbl_src=tbl_src,tbl_evnt=tbl_evnt)\n",
    "encoders = get_encoders(path_encoders,tbl_src,tbl_evnt,disk_engine)"
   ]
  },
  {
   "cell_type": "markdown",
   "metadata": {},
   "source": [
    "### problems\n",
    "- [ ] automatically figure out how many are the total dimensions"
   ]
  },
  {
   "cell_type": "code",
   "execution_count": 54,
   "metadata": {},
   "outputs": [],
   "source": [
    "batch_size = 300  #user sample size!\n",
    "batch_size_val = 1000\n",
    "seq_len_param = 60.0\n",
    "lbl_pad_val = 2\n",
    "pad_val = -1\n",
    "n = 48\n",
    "discard_val = n-7\n",
    "input_dim = 46\n",
    "hid_dims = [320]\n",
    "num_l = [7]\n",
    "lr_s = [2.5e-4]\n",
    "class_weight = {0 : 1.,\n",
    "    1: 1000,\n",
    "    2: 0.}\n",
    "user_sample_size = None\n",
    "events_tbl = None\n",
    "epoch_limit = 10000"
   ]
  },
  {
   "cell_type": "code",
   "execution_count": 61,
   "metadata": {},
   "outputs": [],
   "source": [
    "\n",
    "data_gen = data_generator(user_mode,trans_mode,disk_engine,encoders,table=table,\n",
    "                                                 batch_size=batch_size,usr_ratio=80,class_weight=class_weight,lbl_pad_val = lbl_pad_val, pad_val = pad_val,\n",
    "                                                 sub_sample=user_sample_size,epoch_size=epoch_limit,events_tbl=events_tbl,discard_id = discard_val)"
   ]
  },
  {
   "cell_type": "code",
   "execution_count": 62,
   "metadata": {},
   "outputs": [
    {
     "name": "stdout",
     "output_type": "stream",
     "text": [
      "select authzn_rqst_proc_tm from data_fraud where frd_ind_swt_dt >='1399766400000000000' order by authzn_rqst_proc_tm limit 1\n",
      "last date\n",
      "0    1391999116000000000\n",
      "Name: authzn_rqst_proc_tm, dtype: int64\n",
      "last_date calculated!\n",
      "Users generator\n",
      "new users\n",
      "User List acquired\n",
      "total # users: 27989\n",
      "e.g. users [1696678, 600018, 98224, 223254, 942636, 889241, 784815, 69989, 1850361, 575892]\n",
      "total # unique users: 27989\n",
      "total # sequences: 54692.0\n",
      "used # sequences: 36919.0\n",
      "return set cardinality: 18752\n",
      "USERGEN: user set sequence length:  302.0\n",
      "USERGEN: user set cardinality:  170\n",
      "Number of users: 170\n"
     ]
    },
    {
     "name": "stderr",
     "output_type": "stream",
     "text": [
      "[=======================================================   ]  96% ETA:  0:00:00\r"
     ]
    },
    {
     "name": "stdout",
     "output_type": "stream",
     "text": [
      "sequence acquired in: 2.62780308723\n"
     ]
    },
    {
     "name": "stderr",
     "output_type": "stream",
     "text": [
      "[========================================================  ]  97% ETA:  0:00:00\r",
      "[========================================================= ]  98% ETA:  0:00:00\r",
      "[==========================================================] 100% ETA:  0:00:00\r",
      "[==========================================================] 100% Time: 0:00:02\r\n"
     ]
    },
    {
     "ename": "AssertionError",
     "evalue": "Sequence chunks are exceeding the max_len of 60 \n [24, 6, 13, 67, 29, 64, 64, 63, 63, 93, 103, 20, 11, 76, 75, 26, 78, 78, 64, 64, 64, 64, 64, 11, 101, 60, 42, 5, 88, 87, 10, 38, 46, 17, 85, 84, 33, 8, 21, 2, 47, 11, 6, 34, 4, 76, 11, 68, 68, 68, 63, 62, 62, 62, 69, 68, 67, 67, 67, 67, 67, 67, 7, 68, 68, 68, 68, 66, 66, 61, 60, 60, 109, 104, 66, 66, 59, 9, 63, 63, 63, 63, 62, 62, 62, 62, 62, 94, 53, 51, 90, 1, 68, 27, 73, 73, 37, 55, 19, 36, 97, 51, 57, 38, 69, 69, 69, 68, 68, 4, 22, 43, 82, 81, 41, 27, 25, 68, 60, 60, 60, 60, 60, 34, 28, 42, 2, 23, 98, 62, 63, 63, 63, 63, 63, 63, 63, 62, 62, 62, 62, 62, 62, 62, 62, 62, 62, 62, 62, 62, 11, 67, 67, 66, 55, 68, 67, 67, 110, 83, 64, 64, 64, 64, 64, 63, 63, 6, 77, 77, 76, 17, 41, 34, 76, 76, 56, 6, 68, 63, 78, 61, 61, 61, 61, 60, 61, 61, 61, 61, 61, 63, 82, 92, 61, 61, 60, 66, 20, 10, 71, 70, 11, 7, 63, 62, 62, 62, 62, 82, 3, 110, 67, 66, 66, 65, 50, 17, 61, 60, 60, 73, 72, 72, 72, 18, 71, 18, 48, 31, 65, 65, 65, 65, 65, 64, 36, 85, 68, 68, 67, 83, 64, 64, 64, 64, 64, 63, 63, 63, 2, 71, 71, 64, 64, 64, 63, 63, 63, 63, 42, 44, 90, 39, 13, 69, 69, 69, 68, 68, 22, 47, 12, 69, 69, 69, 69, 68, 61, 75, 74, 74, 74, 68, 68, 67, 67, 27, 29, 71, 71, 70, 70, 70, 74, 37, 14, 66, 66, 36, 60, 60, 30, 4, 75, 75, 72, 72, 72, 71, 32, 2, 40, 29, 89, 88]",
     "output_type": "error",
     "traceback": [
      "\u001b[0;31m---------------------------------------------------------------------------\u001b[0m",
      "\u001b[0;31mAssertionError\u001b[0m                            Traceback (most recent call last)",
      "\u001b[0;32m<ipython-input-62-3017e504146b>\u001b[0m in \u001b[0;36m<module>\u001b[0;34m()\u001b[0m\n\u001b[0;32m----> 1\u001b[0;31m \u001b[0mnext\u001b[0m\u001b[0;34m(\u001b[0m\u001b[0mdata_gen\u001b[0m\u001b[0;34m)\u001b[0m\u001b[0;34m\u001b[0m\u001b[0m\n\u001b[0m",
      "\u001b[0;32m/home/botty/Documents/CCFD/ccfd_dnn/model/model.py\u001b[0m in \u001b[0;36mdata_generator\u001b[0;34m(user_mode, trans_mode, disk_engine, encoders, table, batch_size, usr_ratio, class_weight, lbl_pad_val, pad_val, cutt_off_date, sub_sample, epoch_size, events_tbl, discard_id)\u001b[0m\n\u001b[1;32m    583\u001b[0m         \u001b[0;32mprint\u001b[0m \u001b[0;34m'new users'\u001b[0m\u001b[0;34m\u001b[0m\u001b[0m\n\u001b[1;32m    584\u001b[0m         \u001b[0musers\u001b[0m \u001b[0;34m=\u001b[0m \u001b[0mnext\u001b[0m\u001b[0;34m(\u001b[0m\u001b[0muser_gen\u001b[0m\u001b[0;34m)\u001b[0m\u001b[0;34m\u001b[0m\u001b[0m\n\u001b[0;32m--> 585\u001b[0;31m         \u001b[0mouts\u001b[0m \u001b[0;34m=\u001b[0m \u001b[0msequence_generator\u001b[0m\u001b[0;34m(\u001b[0m\u001b[0musers\u001b[0m\u001b[0;34m,\u001b[0m\u001b[0mencoders\u001b[0m\u001b[0;34m,\u001b[0m\u001b[0mdisk_engine\u001b[0m\u001b[0;34m,\u001b[0m\u001b[0mlbl_pad_val\u001b[0m\u001b[0;34m,\u001b[0m\u001b[0mpad_val\u001b[0m\u001b[0;34m,\u001b[0m\u001b[0mlast_date\u001b[0m\u001b[0;34m,\u001b[0m\u001b[0mmode\u001b[0m\u001b[0;34m=\u001b[0m\u001b[0mtrans_mode\u001b[0m\u001b[0;34m,\u001b[0m\u001b[0mtable\u001b[0m\u001b[0;34m=\u001b[0m\u001b[0mtable\u001b[0m\u001b[0;34m,\u001b[0m\u001b[0mclass_weight\u001b[0m\u001b[0;34m=\u001b[0m\u001b[0mclass_weight\u001b[0m\u001b[0;34m,\u001b[0m\u001b[0mevents_tbl\u001b[0m\u001b[0;34m=\u001b[0m\u001b[0mevents_tbl\u001b[0m\u001b[0;34m,\u001b[0m\u001b[0mdiscard_id\u001b[0m\u001b[0;34m=\u001b[0m\u001b[0mdiscard_id\u001b[0m\u001b[0;34m)\u001b[0m\u001b[0;34m\u001b[0m\u001b[0m\n\u001b[0m\u001b[1;32m    586\u001b[0m \u001b[0;34m\u001b[0m\u001b[0m\n\u001b[1;32m    587\u001b[0m         \u001b[0;32mif\u001b[0m \u001b[0;32mnot\u001b[0m\u001b[0;34m(\u001b[0m\u001b[0mepoch_size\u001b[0m \u001b[0;34m==\u001b[0m \u001b[0mNone\u001b[0m\u001b[0;34m)\u001b[0m\u001b[0;34m:\u001b[0m\u001b[0;34m\u001b[0m\u001b[0m\n",
      "\u001b[0;32m/home/botty/Documents/CCFD/ccfd_dnn/model/model.py\u001b[0m in \u001b[0;36msequence_generator\u001b[0;34m(users, encoders, disk_engine, lbl_pad_val, pad_val, last_date, mode, table, class_weight, events_tbl, discard_id)\u001b[0m\n\u001b[1;32m    348\u001b[0m         \u001b[0;31m# chuncked = chunck_seq(X_train_S)\u001b[0m\u001b[0;34m\u001b[0m\u001b[0;34m\u001b[0m\u001b[0m\n\u001b[1;32m    349\u001b[0m         \u001b[0;31m# assert\u001b[0m\u001b[0;34m\u001b[0m\u001b[0;34m\u001b[0m\u001b[0m\n\u001b[0;32m--> 350\u001b[0;31m         \u001b[0mX_train_pad\u001b[0m \u001b[0;34m=\u001b[0m \u001b[0mkeras\u001b[0m\u001b[0;34m.\u001b[0m\u001b[0mpreprocessing\u001b[0m\u001b[0;34m.\u001b[0m\u001b[0msequence\u001b[0m\u001b[0;34m.\u001b[0m\u001b[0mpad_sequences\u001b[0m\u001b[0;34m(\u001b[0m\u001b[0mchunck_seq\u001b[0m\u001b[0;34m(\u001b[0m\u001b[0mX_train_S\u001b[0m\u001b[0;34m)\u001b[0m\u001b[0;34m,\u001b[0m \u001b[0mmaxlen\u001b[0m\u001b[0;34m=\u001b[0m\u001b[0mint\u001b[0m\u001b[0;34m(\u001b[0m\u001b[0mseq_len_param\u001b[0m\u001b[0;34m)\u001b[0m\u001b[0;34m,\u001b[0m\u001b[0mdtype\u001b[0m\u001b[0;34m=\u001b[0m\u001b[0;34m'float32'\u001b[0m\u001b[0;34m,\u001b[0m\u001b[0mvalue\u001b[0m\u001b[0;34m=\u001b[0m\u001b[0mpad_val\u001b[0m\u001b[0;34m)\u001b[0m\u001b[0;34m\u001b[0m\u001b[0m\n\u001b[0m\u001b[1;32m    351\u001b[0m         \u001b[0my_train_S\u001b[0m \u001b[0;34m=\u001b[0m \u001b[0mkeras\u001b[0m\u001b[0;34m.\u001b[0m\u001b[0mpreprocessing\u001b[0m\u001b[0;34m.\u001b[0m\u001b[0msequence\u001b[0m\u001b[0;34m.\u001b[0m\u001b[0mpad_sequences\u001b[0m\u001b[0;34m(\u001b[0m\u001b[0mnp\u001b[0m\u001b[0;34m.\u001b[0m\u001b[0marray\u001b[0m\u001b[0;34m(\u001b[0m\u001b[0mchunck_seq\u001b[0m\u001b[0;34m(\u001b[0m\u001b[0my_train_S\u001b[0m\u001b[0;34m)\u001b[0m\u001b[0;34m)\u001b[0m\u001b[0;34m,\u001b[0m \u001b[0mmaxlen\u001b[0m\u001b[0;34m=\u001b[0m\u001b[0mint\u001b[0m\u001b[0;34m(\u001b[0m\u001b[0mseq_len_param\u001b[0m\u001b[0;34m)\u001b[0m\u001b[0;34m,\u001b[0m\u001b[0mdtype\u001b[0m\u001b[0;34m=\u001b[0m\u001b[0;34m'float32'\u001b[0m\u001b[0;34m,\u001b[0m\u001b[0mvalue\u001b[0m\u001b[0;34m=\u001b[0m\u001b[0mlbl_pad_val\u001b[0m\u001b[0;34m)\u001b[0m\u001b[0;34m\u001b[0m\u001b[0m\n\u001b[1;32m    352\u001b[0m         \u001b[0my_train_S\u001b[0m \u001b[0;34m=\u001b[0m \u001b[0mnp\u001b[0m\u001b[0;34m.\u001b[0m\u001b[0mexpand_dims\u001b[0m\u001b[0;34m(\u001b[0m\u001b[0my_train_S\u001b[0m\u001b[0;34m,\u001b[0m \u001b[0;34m-\u001b[0m\u001b[0;36m1\u001b[0m\u001b[0;34m)\u001b[0m\u001b[0;34m\u001b[0m\u001b[0m\n",
      "\u001b[0;32m/home/botty/Documents/CCFD/ccfd_dnn/model/model.py\u001b[0m in \u001b[0;36mchunck_seq\u001b[0;34m(seq_list, seq_len)\u001b[0m\n\u001b[1;32m    292\u001b[0m     \u001b[0mchunks_lens\u001b[0m \u001b[0;34m=\u001b[0m \u001b[0mmap\u001b[0m\u001b[0;34m(\u001b[0m\u001b[0;32mlambda\u001b[0m \u001b[0mx\u001b[0m\u001b[0;34m:\u001b[0m \u001b[0mlen\u001b[0m\u001b[0;34m(\u001b[0m\u001b[0mx\u001b[0m\u001b[0;34m)\u001b[0m\u001b[0;34m,\u001b[0m\u001b[0mflattened\u001b[0m\u001b[0;34m)\u001b[0m\u001b[0;34m\u001b[0m\u001b[0m\n\u001b[1;32m    293\u001b[0m     \u001b[0;32mfor\u001b[0m \u001b[0mcnk\u001b[0m \u001b[0;32min\u001b[0m \u001b[0mchunks_lens\u001b[0m\u001b[0;34m:\u001b[0m\u001b[0;34m\u001b[0m\u001b[0m\n\u001b[0;32m--> 294\u001b[0;31m         \u001b[0;32massert\u001b[0m \u001b[0mcnk\u001b[0m \u001b[0;34m<=\u001b[0m \u001b[0mseq_len_param\u001b[0m\u001b[0;34m,\u001b[0m \u001b[0;34m'Sequence chunks are exceeding the max_len of {} \\n {}'\u001b[0m\u001b[0;34m.\u001b[0m\u001b[0mformat\u001b[0m\u001b[0;34m(\u001b[0m\u001b[0mseq_len_param\u001b[0m\u001b[0;34m,\u001b[0m\u001b[0mchunks_lens\u001b[0m\u001b[0;34m)\u001b[0m\u001b[0;34m\u001b[0m\u001b[0m\n\u001b[0m\u001b[1;32m    295\u001b[0m     \u001b[0;32mreturn\u001b[0m \u001b[0mflattened\u001b[0m\u001b[0;34m\u001b[0m\u001b[0m\n\u001b[1;32m    296\u001b[0m \u001b[0;34m\u001b[0m\u001b[0m\n",
      "\u001b[0;31mAssertionError\u001b[0m: Sequence chunks are exceeding the max_len of 60 \n [24, 6, 13, 67, 29, 64, 64, 63, 63, 93, 103, 20, 11, 76, 75, 26, 78, 78, 64, 64, 64, 64, 64, 11, 101, 60, 42, 5, 88, 87, 10, 38, 46, 17, 85, 84, 33, 8, 21, 2, 47, 11, 6, 34, 4, 76, 11, 68, 68, 68, 63, 62, 62, 62, 69, 68, 67, 67, 67, 67, 67, 67, 7, 68, 68, 68, 68, 66, 66, 61, 60, 60, 109, 104, 66, 66, 59, 9, 63, 63, 63, 63, 62, 62, 62, 62, 62, 94, 53, 51, 90, 1, 68, 27, 73, 73, 37, 55, 19, 36, 97, 51, 57, 38, 69, 69, 69, 68, 68, 4, 22, 43, 82, 81, 41, 27, 25, 68, 60, 60, 60, 60, 60, 34, 28, 42, 2, 23, 98, 62, 63, 63, 63, 63, 63, 63, 63, 62, 62, 62, 62, 62, 62, 62, 62, 62, 62, 62, 62, 62, 11, 67, 67, 66, 55, 68, 67, 67, 110, 83, 64, 64, 64, 64, 64, 63, 63, 6, 77, 77, 76, 17, 41, 34, 76, 76, 56, 6, 68, 63, 78, 61, 61, 61, 61, 60, 61, 61, 61, 61, 61, 63, 82, 92, 61, 61, 60, 66, 20, 10, 71, 70, 11, 7, 63, 62, 62, 62, 62, 82, 3, 110, 67, 66, 66, 65, 50, 17, 61, 60, 60, 73, 72, 72, 72, 18, 71, 18, 48, 31, 65, 65, 65, 65, 65, 64, 36, 85, 68, 68, 67, 83, 64, 64, 64, 64, 64, 63, 63, 63, 2, 71, 71, 64, 64, 64, 63, 63, 63, 63, 42, 44, 90, 39, 13, 69, 69, 69, 68, 68, 22, 47, 12, 69, 69, 69, 69, 68, 61, 75, 74, 74, 74, 68, 68, 67, 67, 27, 29, 71, 71, 70, 70, 70, 74, 37, 14, 66, 66, 36, 60, 60, 30, 4, 75, 75, 72, 72, 72, 71, 32, 2, 40, 29, 89, 88]"
     ]
    }
   ],
   "source": [
    "next(data_gen)"
   ]
  },
  {
   "cell_type": "code",
   "execution_count": null,
   "metadata": {
    "collapsed": true
   },
   "outputs": [],
   "source": []
  }
 ],
 "metadata": {
  "kernelspec": {
   "display_name": "Python 2",
   "language": "python",
   "name": "python2"
  },
  "language_info": {
   "codemirror_mode": {
    "name": "ipython",
    "version": 2
   },
   "file_extension": ".py",
   "mimetype": "text/x-python",
   "name": "python",
   "nbconvert_exporter": "python",
   "pygments_lexer": "ipython2",
   "version": "2.7.6"
  }
 },
 "nbformat": 4,
 "nbformat_minor": 2
}
