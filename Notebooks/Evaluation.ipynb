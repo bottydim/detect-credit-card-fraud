{
 "cells": [
  {
   "cell_type": "code",
   "execution_count": 170,
   "metadata": {
    "collapsed": true
   },
   "outputs": [],
   "source": [
    "%matplotlib inline"
   ]
  },
  {
   "cell_type": "code",
   "execution_count": 171,
   "metadata": {
    "collapsed": true
   },
   "outputs": [],
   "source": [
    "import seaborn as sns"
   ]
  },
  {
   "cell_type": "code",
   "execution_count": 172,
   "metadata": {},
   "outputs": [],
   "source": [
    "import pandas as pd\n",
    "import numpy as np\n",
    "from keras.utils.np_utils import to_categorical\n",
    "from keras.models import Sequential\n",
    "from keras.layers import Dense, Input\n",
    "from keras.models import Model\n",
    "from keras.wrappers.scikit_learn import KerasRegressor, KerasClassifier\n",
    "import sklearn\n",
    "from sklearn.model_selection import cross_val_score\n",
    "from sklearn.model_selection import KFold, StratifiedKFold,CategoricalStratifiedKFold\n",
    "from sklearn.preprocessing import StandardScaler\n",
    "from sklearn.pipeline import Pipeline\n",
    "import os\n",
    "import sys\n",
    "from sklearn import linear_model\n",
    "import matplotlib.pyplot as plt"
   ]
  },
  {
   "cell_type": "code",
   "execution_count": 173,
   "metadata": {},
   "outputs": [
    {
     "name": "stdout",
     "output_type": "stream",
     "text": [
      "The scikit-learn version is 0.19.dev1.1.\n"
     ]
    }
   ],
   "source": [
    "print('The scikit-learn version is {}.'.format(sklearn.__version__))"
   ]
  },
  {
   "cell_type": "code",
   "execution_count": 174,
   "metadata": {},
   "outputs": [
    {
     "name": "stdout",
     "output_type": "stream",
     "text": [
      "/home/botty/Documents/CCFD\n"
     ]
    }
   ],
   "source": [
    "module_path = os.path.abspath(os.path.join('..'))\n",
    "print module_path\n",
    "if module_path not in sys.path:\n",
    "    sys.path.append(module_path)\n",
    "    "
   ]
  },
  {
   "cell_type": "code",
   "execution_count": 175,
   "metadata": {},
   "outputs": [],
   "source": [
    "from ccfd_dnn.utils import get_engine"
   ]
  },
  {
   "cell_type": "code",
   "execution_count": 176,
   "metadata": {
    "collapsed": true
   },
   "outputs": [],
   "source": [
    "from sklearn.metrics import classification_report\n",
    "from sklearn.metrics import confusion_matrix\n",
    "from sklearn.metrics import roc_curve,auc"
   ]
  },
  {
   "cell_type": "code",
   "execution_count": 177,
   "metadata": {},
   "outputs": [
    {
     "name": "stdout",
     "output_type": "stream",
     "text": [
      "First one row of the dataset\n",
      "Shape [(100000, 47)]\n",
      "[[  4.75200320e+07   7.49524000e+05   1.38868315e+18   6.89620000e+04\n",
      "    5.83500000e+01   1.77484800e+06   5.77500000e+04   1.87362000e+05\n",
      "    3.67000000e+02   1.62381800e+06   1.68885100e+06   5.20000000e+02\n",
      "    5.00000000e+00   0.00000000e+00   0.00000000e+00   8.00000000e+00\n",
      "    1.00000000e+00   0.00000000e+00   4.00000000e+00   0.00000000e+00\n",
      "    1.00000000e+00   1.00000000e+02   0.00000000e+00   0.00000000e+00\n",
      "    0.00000000e+00   5.60000000e+01   1.00000000e+00   1.00000000e+00\n",
      "    0.00000000e+00   1.00000000e+00   3.00000000e+00   0.00000000e+00\n",
      "    1.90000000e+01   1.84000000e+03   8.26000000e+02   6.10000000e+07\n",
      "    5.83500000e+01   5.13265000e+03   7.50000000e+03   7.50000000e+03\n",
      "    2.18985000e+03  -9.22337204e+18   1.38602880e+18   1.47048000e+03\n",
      "    1.37419200e+18   0.00000000e+00  -9.22337204e+18]\n",
      " [  3.88424760e+07   6.72120000e+05   1.39431354e+18   1.00165000e+05\n",
      "    1.49900000e+01   4.20536000e+05   1.32586000e+05   0.00000000e+00\n",
      "    3.67000000e+02   6.71779000e+05   1.49575000e+06   6.12000000e+02\n",
      "    1.00000000e+00   8.00000000e+00   0.00000000e+00   9.00000000e+00\n",
      "    2.00000000e+00   4.80000000e+01   1.00000000e+00   4.00000000e+00\n",
      "    2.00000000e+00   1.00000000e+02   0.00000000e+00   5.00000000e+00\n",
      "    1.42000000e+02   9.80000000e+01   1.00000000e+00   1.00000000e+00\n",
      "    0.00000000e+00   3.00000000e+00   3.00000000e+00   0.00000000e+00\n",
      "    1.90000000e+01   8.28300000e+03   8.26000000e+02   6.10000000e+07\n",
      "    0.00000000e+00  -3.40400000e+01   1.00000000e+02   1.00000000e+02\n",
      "    1.34040000e+02   1.34904960e+18   1.39173120e+18   5.72400000e+01\n",
      "    1.38101760e+18   0.00000000e+00  -9.22337204e+18]]\n",
      "Fraud 16.662% \n",
      "('Total #samples:', 100000)\n",
      "shapes: X[(100000, 44)]=====Y[(100000, 2)]\n"
     ]
    }
   ],
   "source": [
    "# load dataset\n",
    "table = \"data_fraud_little\"\n",
    "engine = get_engine()\n",
    "dataframe = pd.read_sql_query(\"select * from {table} limit 100000\".format(table=table),engine)\n",
    "dataset = dataframe.values\n",
    "print(\"First one row of the dataset\")\n",
    "print(\"Shape [{}]\".format(dataset.shape))\n",
    "print(dataset[0:2,:])\n",
    "# split into input (X) and output (Y) variables\n",
    "data_dimensions = 45\n",
    "#first dimension is the index, must be removed!!!!\n",
    "X = dataset[:, 1:data_dimensions]\n",
    "Y = dataset[:, data_dimensions]\n",
    "\n",
    "print(\"Fraud {}% \".format(float(np.sum(Y==1))*100.0/Y.shape[0]))\n",
    "print(\"Total #samples:\",Y.shape[0])\n",
    "Y = to_categorical(Y, nb_classes=None)\n",
    "\n",
    "\n",
    "input_dimensions = X.shape[1]\n",
    "print(\"shapes: X[{}]=====Y[{}]\".format(X.shape, Y.shape))"
   ]
  },
  {
   "cell_type": "code",
   "execution_count": 199,
   "metadata": {},
   "outputs": [
    {
     "data": {
      "text/plain": [
       "(100000, 47)"
      ]
     },
     "execution_count": 199,
     "metadata": {},
     "output_type": "execute_result"
    }
   ],
   "source": [
    "dataset.shape"
   ]
  },
  {
   "cell_type": "code",
   "execution_count": 178,
   "metadata": {},
   "outputs": [],
   "source": [
    "# define base mode\n",
    "def baseline_model():\n",
    "    return logistic_regresion()\n",
    "    # return linear_regression()\n",
    "\n",
    "\n",
    "def keras_lin_reg():\n",
    "    x = Input((None,input_dimensions))\n",
    "    y = Dense(1,activation='linear')(x)\n",
    "    model = Model(x,y,\"Linear Regression\")\n",
    "    model.compile(loss='mse', optimizer='sgd')\n",
    "    return model\n",
    "\n",
    "def logistic_regresion():\n",
    "    logistic = linear_model.LogisticRegression(solver='sag', n_jobs=-1,max_iter=500)\n",
    "    return logistic\n",
    "def linear_regression():\n",
    "    lr = linear_model.LinearRegression(n_jobs=-1)\n",
    "    return lr\n",
    "\n",
    "def mlp_model(hidden=100,layers=1):\n",
    "    # create model\n",
    "    model = Sequential()\n",
    "    model.add(Dense(input_dimensions, input_dim=input_dimensions, init='normal', activation='relu'))\n",
    "    if hidden is not None:\n",
    "        for l in range(layers):\n",
    "            model.add(Dense(hidden))\n",
    "    model.add(Dense(2, init='normal', activation='softmax'))\n",
    "    # Compile model\n",
    "    model.compile(loss='binary_crossentropy', optimizer='adam')\n",
    "    return model\n",
    "\n",
    "def mlp_model_wrap(hidden=100,layers=1):\n",
    "    return mlp_model(hidden,layers)\n",
    "# fix random seed for reproducibility"
   ]
  },
  {
   "cell_type": "code",
   "execution_count": 169,
   "metadata": {
    "scrolled": true
   },
   "outputs": [
    {
     "ename": "NameError",
     "evalue": "name 'X' is not defined",
     "output_type": "error",
     "traceback": [
      "\u001b[0;31m---------------------------------------------------------------------------\u001b[0m",
      "\u001b[0;31mNameError\u001b[0m                                 Traceback (most recent call last)",
      "\u001b[0;32m<ipython-input-169-5a71a49d4d14>\u001b[0m in \u001b[0;36m<module>\u001b[0;34m()\u001b[0m\n\u001b[1;32m     10\u001b[0m \u001b[0mpipeline\u001b[0m \u001b[0;34m=\u001b[0m \u001b[0mPipeline\u001b[0m\u001b[0;34m(\u001b[0m\u001b[0mestimators\u001b[0m\u001b[0;34m)\u001b[0m\u001b[0;34m\u001b[0m\u001b[0m\n\u001b[1;32m     11\u001b[0m \u001b[0mkfold\u001b[0m \u001b[0;34m=\u001b[0m \u001b[0mKFold\u001b[0m\u001b[0;34m(\u001b[0m\u001b[0mn_splits\u001b[0m\u001b[0;34m=\u001b[0m\u001b[0;36m10\u001b[0m\u001b[0;34m,\u001b[0m \u001b[0mrandom_state\u001b[0m\u001b[0;34m=\u001b[0m\u001b[0mseed\u001b[0m\u001b[0;34m)\u001b[0m\u001b[0;34m\u001b[0m\u001b[0m\n\u001b[0;32m---> 12\u001b[0;31m \u001b[0mresults\u001b[0m \u001b[0;34m=\u001b[0m \u001b[0mcross_val_score\u001b[0m\u001b[0;34m(\u001b[0m\u001b[0mpipeline\u001b[0m\u001b[0;34m,\u001b[0m \u001b[0mX\u001b[0m\u001b[0;34m,\u001b[0m \u001b[0mY\u001b[0m\u001b[0;34m,\u001b[0m \u001b[0mcv\u001b[0m\u001b[0;34m=\u001b[0m\u001b[0mkfold\u001b[0m\u001b[0;34m,\u001b[0m \u001b[0mscoring\u001b[0m\u001b[0;34m=\u001b[0m\u001b[0;34m'roc_auc'\u001b[0m\u001b[0;34m,\u001b[0m\u001b[0mn_jobs\u001b[0m\u001b[0;34m=\u001b[0m\u001b[0;36m1\u001b[0m\u001b[0;34m)\u001b[0m\u001b[0;34m\u001b[0m\u001b[0m\n\u001b[0m\u001b[1;32m     13\u001b[0m \u001b[0;32mprint\u001b[0m\u001b[0;34m(\u001b[0m\u001b[0;34m\"Results:\"\u001b[0m\u001b[0;34m,\u001b[0m \u001b[0mresults\u001b[0m\u001b[0;34m)\u001b[0m\u001b[0;34m\u001b[0m\u001b[0m\n\u001b[1;32m     14\u001b[0m \u001b[0;32mprint\u001b[0m\u001b[0;34m(\u001b[0m\u001b[0;34m\"Results: %.24f (%.24f) ROC\"\u001b[0m \u001b[0;34m%\u001b[0m \u001b[0;34m(\u001b[0m\u001b[0mresults\u001b[0m\u001b[0;34m.\u001b[0m\u001b[0mmean\u001b[0m\u001b[0;34m(\u001b[0m\u001b[0;34m)\u001b[0m\u001b[0;34m,\u001b[0m \u001b[0mresults\u001b[0m\u001b[0;34m.\u001b[0m\u001b[0mstd\u001b[0m\u001b[0;34m(\u001b[0m\u001b[0;34m)\u001b[0m\u001b[0;34m)\u001b[0m\u001b[0;34m)\u001b[0m\u001b[0;34m\u001b[0m\u001b[0m\n",
      "\u001b[0;31mNameError\u001b[0m: name 'X' is not defined"
     ]
    }
   ],
   "source": [
    "seed = 7\n",
    "np.random.seed(seed)\n",
    "# evaluate model with standardized dataset\n",
    "estimators = []\n",
    "estimators.append(('standardize', StandardScaler()))\n",
    "# estimators.append(('mlp', KerasClassifier(build_fn=mlp_model, nb_epoch=100, batch_size=10000, verbose=1)))\n",
    "estimators.append(('mlp', KerasClassifier(build_fn=mlp_model_wrap, nb_epoch=100, batch_size=10000, verbose=0)))\n",
    "# estimators.append(('liner reg', KerasClassifier(build_fn=keras_lin_reg, nb_epoch=100, batch_size=100000, verbose=1)))\n",
    "# estimators.append(('linear_reg', baseline_model()))\n",
    "pipeline = Pipeline(estimators)\n",
    "kfold = KFold(n_splits=10, random_state=seed)\n",
    "results = cross_val_score(pipeline, X, Y, cv=kfold, scoring='roc_auc',n_jobs=1)\n",
    "print(\"Results:\", results)\n",
    "print(\"Results: %.24f (%.24f) ROC\" % (results.mean(), results.std()))\n",
    "print(pipeline)"
   ]
  },
  {
   "cell_type": "code",
   "execution_count": 179,
   "metadata": {
    "scrolled": true
   },
   "outputs": [
    {
     "data": {
      "text/plain": [
       "Pipeline(memory=None,\n",
       "     steps=[('standardize', StandardScaler(copy=True, with_mean=True, with_std=True)), ('mlp', <keras.wrappers.scikit_learn.KerasClassifier object at 0x7f06465db1d0>)])"
      ]
     },
     "execution_count": 179,
     "metadata": {},
     "output_type": "execute_result"
    }
   ],
   "source": [
    "seed = 7\n",
    "np.random.seed(seed)\n",
    "estimators = []\n",
    "estimators.append(('standardize', StandardScaler()))\n",
    "\n",
    "estimators.append(('mlp', KerasClassifier(build_fn=mlp_model_wrap, batch_size=5000, verbose=0)))\n",
    "\n",
    "pipeline = Pipeline(estimators)#\n",
    "pipeline.set_params(mlp__layers=1)\n",
    "pipeline.set_params(mlp__hidden=100)\n",
    "pipeline.set_params(mlp__nb_epoch=30)"
   ]
  },
  {
   "cell_type": "code",
   "execution_count": 180,
   "metadata": {},
   "outputs": [
    {
     "ename": "NameError",
     "evalue": "name 'epoch' is not defined",
     "output_type": "error",
     "traceback": [
      "\u001b[0;31m---------------------------------------------------------------------------\u001b[0m",
      "\u001b[0;31mNameError\u001b[0m                                 Traceback (most recent call last)",
      "\u001b[0;32m<ipython-input-180-b95a2aca1f11>\u001b[0m in \u001b[0;36m<module>\u001b[0;34m()\u001b[0m\n\u001b[0;32m----> 1\u001b[0;31m \u001b[0;32mprint\u001b[0m \u001b[0;34m\"Epochs {}@{}({}):{}\"\u001b[0m\u001b[0;34m.\u001b[0m\u001b[0mformat\u001b[0m\u001b[0;34m(\u001b[0m\u001b[0mepoch\u001b[0m\u001b[0;34m,\u001b[0m\u001b[0mi\u001b[0m\u001b[0;34m,\u001b[0m\u001b[0mh\u001b[0m\u001b[0;34m,\u001b[0m\u001b[0ml\u001b[0m\u001b[0;34m)\u001b[0m\u001b[0;34m\u001b[0m\u001b[0m\n\u001b[0m",
      "\u001b[0;31mNameError\u001b[0m: name 'epoch' is not defined"
     ]
    }
   ],
   "source": [
    "print \"Epochs {}@{}({}):{}\".format(epoch,i,h,l)"
   ]
  },
  {
   "cell_type": "code",
   "execution_count": null,
   "metadata": {},
   "outputs": [],
   "source": [
    "pipeline.set_params(mlp__nb_epoch=1)\n",
    "pipeline.set_params(mlp__layers=19)\n",
    "pipeline.set_params(mlp__hidden=1024)\n",
    "pipeline.fit(X,Y)"
   ]
  },
  {
   "cell_type": "code",
   "execution_count": 163,
   "metadata": {
    "collapsed": true
   },
   "outputs": [],
   "source": [
    "import datetime as dt"
   ]
  },
  {
   "cell_type": "code",
   "execution_count": 164,
   "metadata": {},
   "outputs": [],
   "source": [
    "t_start = dt.datetime.now()"
   ]
  },
  {
   "cell_type": "code",
   "execution_count": 166,
   "metadata": {},
   "outputs": [
    {
     "name": "stdout",
     "output_type": "stream",
     "text": [
      "time taken: 0:01:48.965330\n"
     ]
    }
   ],
   "source": [
    "print 'time taken: {time}'.format(time=dt.datetime.now()-t_start)"
   ]
  },
  {
   "cell_type": "code",
   "execution_count": 181,
   "metadata": {},
   "outputs": [
    {
     "name": "stdout",
     "output_type": "stream",
     "text": [
      "Epochs 500@0(32):0\n",
      "Epochs 500@0(32):1\n",
      "Epochs 500@0(32):2\n",
      "Epochs 500@0(32):3\n",
      "Epochs 500@0(32):4\n",
      "Epochs 500@0(32):5\n",
      "Epochs 500@0(32):6\n",
      "Epochs 500@0(32):7\n",
      "Epochs 500@0(32):8\n",
      "Epochs 500@0(32):9\n",
      "Epochs 500@0(32):10\n",
      "Epochs 500@0(32):11\n",
      "Epochs 500@0(32):12\n",
      "Epochs 500@0(32):13\n",
      "Epochs 500@0(32):14\n",
      "Epochs 500@0(32):15\n",
      "Epochs 500@0(32):16\n",
      "Epochs 500@0(32):17\n",
      "Epochs 500@0(32):18\n",
      "Epochs 500@0(32):19\n",
      "Epochs 500@1(64):0\n",
      "Epochs 500@1(64):1\n",
      "Epochs 500@1(64):2\n",
      "Epochs 500@1(64):3\n",
      "Epochs 500@1(64):4\n",
      "Epochs 500@1(64):5\n",
      "Epochs 500@1(64):6\n",
      "Epochs 500@1(64):7\n",
      "Epochs 500@1(64):8\n",
      "Epochs 500@1(64):9\n",
      "Epochs 500@1(64):10\n",
      "Epochs 500@1(64):11\n",
      "Epochs 500@1(64):12\n",
      "Epochs 500@1(64):13\n",
      "Epochs 500@1(64):14\n",
      "Epochs 500@1(64):15\n",
      "Epochs 500@1(64):16\n",
      "Epochs 500@1(64):17\n",
      "Epochs 500@1(64):18\n",
      "Epochs 500@1(64):19\n",
      "Epochs 500@2(128):0\n",
      "Epochs 500@2(128):1\n",
      "Epochs 500@2(128):2\n",
      "Epochs 500@2(128):3\n",
      "Epochs 500@2(128):4\n",
      "Epochs 500@2(128):5\n",
      "Epochs 500@2(128):6\n",
      "Epochs 500@2(128):7\n",
      "Epochs 500@2(128):8\n",
      "Epochs 500@2(128):9\n",
      "Epochs 500@2(128):10\n",
      "Epochs 500@2(128):11\n",
      "Epochs 500@2(128):12\n",
      "Epochs 500@2(128):13\n",
      "Epochs 500@2(128):14\n",
      "Epochs 500@2(128):15\n",
      "Epochs 500@2(128):16\n",
      "Epochs 500@2(128):17\n",
      "Epochs 500@2(128):18\n",
      "Epochs 500@2(128):19\n",
      "Epochs 500@3(200):0\n",
      "Epochs 500@3(200):1\n",
      "Epochs 500@3(200):2\n",
      "Epochs 500@3(200):3\n",
      "Epochs 500@3(200):4\n",
      "Epochs 500@3(200):5\n",
      "Epochs 500@3(200):6\n",
      "Epochs 500@3(200):7\n",
      "Epochs 500@3(200):8\n",
      "Epochs 500@3(200):9\n",
      "Epochs 500@3(200):10\n",
      "Epochs 500@3(200):11\n",
      "Epochs 500@3(200):12\n",
      "Epochs 500@3(200):13\n",
      "Epochs 500@3(200):14\n",
      "Epochs 500@3(200):15\n",
      "Epochs 500@3(200):16\n",
      "Epochs 500@3(200):17\n",
      "Epochs 500@3(200):18\n",
      "Epochs 500@3(200):19\n",
      "Epochs 500@4(256):0\n",
      "Epochs 500@4(256):1\n",
      "Epochs 500@4(256):2\n",
      "Epochs 500@4(256):3\n",
      "Epochs 500@4(256):4\n",
      "Epochs 500@4(256):5\n",
      "Epochs 500@4(256):6\n",
      "Epochs 500@4(256):7\n",
      "Epochs 500@4(256):8\n",
      "Epochs 500@4(256):9\n",
      "Epochs 500@4(256):10\n",
      "Epochs 500@4(256):11\n",
      "Epochs 500@4(256):12\n",
      "Epochs 500@4(256):13\n",
      "Epochs 500@4(256):14\n",
      "Epochs 500@4(256):15\n",
      "Epochs 500@4(256):16\n",
      "Epochs 500@4(256):17\n",
      "Epochs 500@4(256):18\n",
      "Epochs 500@4(256):19\n",
      "Epochs 500@5(300):0\n",
      "Epochs 500@5(300):1\n",
      "Epochs 500@5(300):2\n",
      "Epochs 500@5(300):3\n",
      "Epochs 500@5(300):4\n",
      "Epochs 500@5(300):5\n",
      "Epochs 500@5(300):6\n",
      "Epochs 500@5(300):7\n",
      "Epochs 500@5(300):8\n",
      "Epochs 500@5(300):9\n",
      "Epochs 500@5(300):10\n",
      "Epochs 500@5(300):11\n",
      "Epochs 500@5(300):12\n",
      "Epochs 500@5(300):13\n",
      "Epochs 500@5(300):14\n",
      "Epochs 500@5(300):15\n",
      "Epochs 500@5(300):16\n",
      "Epochs 500@5(300):17\n",
      "Epochs 500@5(300):18\n",
      "Epochs 500@5(300):19\n",
      "Epochs 500@6(450):0\n",
      "Epochs 500@6(450):1\n",
      "Epochs 500@6(450):2\n",
      "Epochs 500@6(450):3\n",
      "Epochs 500@6(450):4\n",
      "Epochs 500@6(450):5\n",
      "Epochs 500@6(450):6\n",
      "Epochs 500@6(450):7\n",
      "Epochs 500@6(450):8\n",
      "Epochs 500@6(450):9\n",
      "Epochs 500@6(450):10\n",
      "Epochs 500@6(450):11\n",
      "Epochs 500@6(450):12\n",
      "Epochs 500@6(450):13\n",
      "Epochs 500@6(450):14\n",
      "Epochs 500@6(450):15\n",
      "Epochs 500@6(450):16\n",
      "Epochs 500@6(450):17\n",
      "Epochs 500@6(450):18\n",
      "Epochs 500@6(450):19\n",
      "Epochs 500@7(512):0\n",
      "Epochs 500@7(512):1\n",
      "Epochs 500@7(512):2\n",
      "Epochs 500@7(512):3\n",
      "Epochs 500@7(512):4\n",
      "Epochs 500@7(512):5\n",
      "Epochs 500@7(512):6\n",
      "Epochs 500@7(512):7\n",
      "Epochs 500@7(512):8\n",
      "Epochs 500@7(512):9\n",
      "Epochs 500@7(512):10\n",
      "Epochs 500@7(512):11\n",
      "Epochs 500@7(512):12\n",
      "Epochs 500@7(512):13\n",
      "Epochs 500@7(512):14\n",
      "Epochs 500@7(512):15\n",
      "Epochs 500@7(512):16\n",
      "Epochs 500@7(512):17\n",
      "Epochs 500@7(512):18\n",
      "Epochs 500@7(512):19\n",
      "Epochs 500@8(700):0\n",
      "Epochs 500@8(700):1\n",
      "Epochs 500@8(700):2\n",
      "Epochs 500@8(700):3\n",
      "Epochs 500@8(700):4\n",
      "Epochs 500@8(700):5\n",
      "Epochs 500@8(700):6\n",
      "Epochs 500@8(700):7\n",
      "Epochs 500@8(700):8\n",
      "Epochs 500@8(700):9\n",
      "Epochs 500@8(700):10\n",
      "Epochs 500@8(700):11\n",
      "Epochs 500@8(700):12\n",
      "Epochs 500@8(700):13\n",
      "Epochs 500@8(700):14\n",
      "Epochs 500@8(700):15\n",
      "Epochs 500@8(700):16\n",
      "Epochs 500@8(700):17\n",
      "Epochs 500@8(700):18\n",
      "Epochs 500@8(700):19\n",
      "Epochs 500@9(820):0\n",
      "Epochs 500@9(820):1\n",
      "Epochs 500@9(820):2\n",
      "Epochs 500@9(820):3\n",
      "Epochs 500@9(820):4\n",
      "Epochs 500@9(820):5\n",
      "Epochs 500@9(820):6\n",
      "Epochs 500@9(820):7\n",
      "Epochs 500@9(820):8\n",
      "Epochs 500@9(820):9\n",
      "Epochs 500@9(820):10\n",
      "Epochs 500@9(820):11\n",
      "Epochs 500@9(820):12\n",
      "Epochs 500@9(820):13\n",
      "Epochs 500@9(820):14\n",
      "Epochs 500@9(820):15\n",
      "Epochs 500@9(820):16\n",
      "Epochs 500@9(820):17\n",
      "Epochs 500@9(820):18\n",
      "Epochs 500@9(820):19\n",
      "Epochs 500@10(1024):0\n",
      "Epochs 500@10(1024):1\n",
      "Epochs 500@10(1024):2\n",
      "Epochs 500@10(1024):3\n",
      "Epochs 500@10(1024):4\n",
      "Epochs 500@10(1024):5\n",
      "Epochs 500@10(1024):6\n",
      "Epochs 500@10(1024):7\n",
      "Epochs 500@10(1024):8\n",
      "Epochs 500@10(1024):9\n",
      "Epochs 500@10(1024):10\n",
      "Epochs 500@10(1024):11\n",
      "Epochs 500@10(1024):12\n",
      "Epochs 500@10(1024):13\n",
      "Epochs 500@10(1024):14\n",
      "Epochs 500@10(1024):15\n",
      "Epochs 500@10(1024):16\n",
      "Epochs 500@10(1024):17\n",
      "Epochs 500@10(1024):18\n",
      "Epochs 500@10(1024):19\n",
      "time taken: 2 days, 23:51:21.424476\n",
      "Epochs 1000@0(32):0\n",
      "Epochs 1000@0(32):1\n",
      "Epochs 1000@0(32):2\n",
      "Epochs 1000@0(32):3\n",
      "Epochs 1000@0(32):4\n",
      "Epochs 1000@0(32):5\n",
      "Epochs 1000@0(32):6\n",
      "Epochs 1000@0(32):7\n",
      "Epochs 1000@0(32):8\n",
      "Epochs 1000@0(32):9\n",
      "Epochs 1000@0(32):10\n",
      "Epochs 1000@0(32):11\n",
      "Epochs 1000@0(32):12\n",
      "Epochs 1000@0(32):13\n",
      "Epochs 1000@0(32):14\n",
      "Epochs 1000@0(32):15\n",
      "Epochs 1000@0(32):16\n",
      "Epochs 1000@0(32):17\n",
      "Epochs 1000@0(32):18\n",
      "Epochs 1000@0(32):19\n",
      "Epochs 1000@1(64):0\n",
      "Epochs 1000@1(64):1\n",
      "Epochs 1000@1(64):2\n",
      "Epochs 1000@1(64):3\n",
      "Epochs 1000@1(64):4\n",
      "Epochs 1000@1(64):5\n",
      "Epochs 1000@1(64):6\n",
      "Epochs 1000@1(64):7\n",
      "Epochs 1000@1(64):8\n",
      "Epochs 1000@1(64):9\n",
      "Epochs 1000@1(64):10\n",
      "Epochs 1000@1(64):11\n",
      "Epochs 1000@1(64):12\n",
      "Epochs 1000@1(64):13\n",
      "Epochs 1000@1(64):14\n",
      "Epochs 1000@1(64):15\n",
      "Epochs 1000@1(64):16\n",
      "Epochs 1000@1(64):17\n",
      "Epochs 1000@1(64):18\n",
      "Epochs 1000@1(64):19\n",
      "Epochs 1000@2(128):0\n",
      "Epochs 1000@2(128):1\n",
      "Epochs 1000@2(128):2\n",
      "Epochs 1000@2(128):3\n",
      "Epochs 1000@2(128):4\n",
      "Epochs 1000@2(128):5\n",
      "Epochs 1000@2(128):6\n",
      "Epochs 1000@2(128):7\n",
      "Epochs 1000@2(128):8\n",
      "Epochs 1000@2(128):9\n",
      "Epochs 1000@2(128):10\n",
      "Epochs 1000@2(128):11\n",
      "Epochs 1000@2(128):12\n",
      "Epochs 1000@2(128):13\n",
      "Epochs 1000@2(128):14\n",
      "Epochs 1000@2(128):15\n",
      "Epochs 1000@2(128):16\n",
      "Epochs 1000@2(128):17\n",
      "Epochs 1000@2(128):18\n",
      "Epochs 1000@2(128):19\n",
      "Epochs 1000@3(200):0\n",
      "Epochs 1000@3(200):1\n",
      "Epochs 1000@3(200):2\n",
      "Epochs 1000@3(200):3\n",
      "Epochs 1000@3(200):4\n",
      "Epochs 1000@3(200):5\n",
      "Epochs 1000@3(200):6\n",
      "Epochs 1000@3(200):7\n",
      "Epochs 1000@3(200):8\n",
      "Epochs 1000@3(200):9\n",
      "Epochs 1000@3(200):10\n",
      "Epochs 1000@3(200):11\n",
      "Epochs 1000@3(200):12\n",
      "Epochs 1000@3(200):13\n",
      "Epochs 1000@3(200):14\n",
      "Epochs 1000@3(200):15\n",
      "Epochs 1000@3(200):16\n",
      "Epochs 1000@3(200):17\n",
      "Epochs 1000@3(200):18\n",
      "Epochs 1000@3(200):19\n",
      "Epochs 1000@4(256):0\n",
      "Epochs 1000@4(256):1\n",
      "Epochs 1000@4(256):2\n",
      "Epochs 1000@4(256):3\n",
      "Epochs 1000@4(256):4\n",
      "Epochs 1000@4(256):5\n",
      "Epochs 1000@4(256):6\n",
      "Epochs 1000@4(256):7\n",
      "Epochs 1000@4(256):8\n",
      "Epochs 1000@4(256):9\n",
      "Epochs 1000@4(256):10\n",
      "Epochs 1000@4(256):11\n",
      "Epochs 1000@4(256):12\n",
      "Epochs 1000@4(256):13\n",
      "Epochs 1000@4(256):14\n",
      "Epochs 1000@4(256):15\n",
      "Epochs 1000@4(256):16\n",
      "Epochs 1000@4(256):17\n",
      "Epochs 1000@4(256):18\n",
      "Epochs 1000@4(256):19\n",
      "Epochs 1000@5(300):0\n",
      "Epochs 1000@5(300):1\n",
      "Epochs 1000@5(300):2\n",
      "Epochs 1000@5(300):3\n",
      "Epochs 1000@5(300):4\n",
      "Epochs 1000@5(300):5\n",
      "Epochs 1000@5(300):6\n",
      "Epochs 1000@5(300):7\n",
      "Epochs 1000@5(300):8\n",
      "Epochs 1000@5(300):9\n",
      "Epochs 1000@5(300):10\n",
      "Epochs 1000@5(300):11\n",
      "Epochs 1000@5(300):12\n",
      "Epochs 1000@5(300):13\n",
      "Epochs 1000@5(300):14\n",
      "Epochs 1000@5(300):15\n",
      "Epochs 1000@5(300):16\n",
      "Epochs 1000@5(300):17\n",
      "Epochs 1000@5(300):18\n",
      "Epochs 1000@5(300):19\n",
      "Epochs 1000@6(450):0\n",
      "Epochs 1000@6(450):1\n",
      "Epochs 1000@6(450):2\n",
      "Epochs 1000@6(450):3\n",
      "Epochs 1000@6(450):4\n",
      "Epochs 1000@6(450):5\n",
      "Epochs 1000@6(450):6\n",
      "Epochs 1000@6(450):7\n",
      "Epochs 1000@6(450):8\n",
      "Epochs 1000@6(450):9\n",
      "Epochs 1000@6(450):10\n",
      "Epochs 1000@6(450):11\n",
      "Epochs 1000@6(450):12\n",
      "Epochs 1000@6(450):13\n",
      "Epochs 1000@6(450):14\n",
      "Epochs 1000@6(450):15\n",
      "Epochs 1000@6(450):16\n",
      "Epochs 1000@6(450):17\n",
      "Epochs 1000@6(450):18\n",
      "Epochs 1000@6(450):19\n",
      "Epochs 1000@7(512):0\n",
      "Epochs 1000@7(512):1\n",
      "Epochs 1000@7(512):2\n",
      "Epochs 1000@7(512):3\n",
      "Epochs 1000@7(512):4\n",
      "Epochs 1000@7(512):5\n",
      "Epochs 1000@7(512):6\n",
      "Epochs 1000@7(512):7\n",
      "Epochs 1000@7(512):8\n",
      "Epochs 1000@7(512):9\n",
      "Epochs 1000@7(512):10\n",
      "Epochs 1000@7(512):11\n",
      "Epochs 1000@7(512):12\n",
      "Epochs 1000@7(512):13\n",
      "Epochs 1000@7(512):14\n",
      "Epochs 1000@7(512):15\n",
      "Epochs 1000@7(512):16\n",
      "Epochs 1000@7(512):17\n",
      "Epochs 1000@7(512):18\n",
      "Epochs 1000@7(512):19\n",
      "Epochs 1000@8(700):0\n",
      "Epochs 1000@8(700):1\n",
      "Epochs 1000@8(700):2\n",
      "Epochs 1000@8(700):3\n",
      "Epochs 1000@8(700):4\n",
      "Epochs 1000@8(700):5\n",
      "Epochs 1000@8(700):6\n",
      "Epochs 1000@8(700):7\n",
      "Epochs 1000@8(700):8\n",
      "Epochs 1000@8(700):9\n",
      "Epochs 1000@8(700):10\n",
      "Epochs 1000@8(700):11\n"
     ]
    },
    {
     "name": "stdout",
     "output_type": "stream",
     "text": [
      "Epochs 1000@8(700):12\n",
      "Epochs 1000@8(700):13\n",
      "Epochs 1000@8(700):14\n",
      "Epochs 1000@8(700):15\n",
      "Epochs 1000@8(700):16\n",
      "Epochs 1000@8(700):17\n",
      "Epochs 1000@8(700):18\n",
      "Epochs 1000@8(700):19\n",
      "Epochs 1000@9(820):0\n",
      "Epochs 1000@9(820):1\n",
      "Epochs 1000@9(820):2\n",
      "Epochs 1000@9(820):3\n",
      "Epochs 1000@9(820):4\n",
      "Epochs 1000@9(820):5\n",
      "Epochs 1000@9(820):6\n",
      "Epochs 1000@9(820):7\n",
      "Epochs 1000@9(820):8\n",
      "Epochs 1000@9(820):9\n",
      "Epochs 1000@9(820):10\n",
      "Epochs 1000@9(820):11\n",
      "Epochs 1000@9(820):12\n",
      "Epochs 1000@9(820):13\n",
      "Epochs 1000@9(820):14\n",
      "Epochs 1000@9(820):15\n",
      "Epochs 1000@9(820):16\n",
      "Epochs 1000@9(820):17\n",
      "Epochs 1000@9(820):18\n",
      "Epochs 1000@9(820):19\n",
      "Epochs 1000@10(1024):0\n",
      "Epochs 1000@10(1024):1\n",
      "Epochs 1000@10(1024):2\n",
      "Epochs 1000@10(1024):3\n",
      "Epochs 1000@10(1024):4\n",
      "Epochs 1000@10(1024):5\n",
      "Epochs 1000@10(1024):6\n",
      "Epochs 1000@10(1024):7\n",
      "Epochs 1000@10(1024):8\n",
      "Epochs 1000@10(1024):9\n",
      "Epochs 1000@10(1024):10\n",
      "Epochs 1000@10(1024):11\n",
      "Epochs 1000@10(1024):12\n",
      "Epochs 1000@10(1024):13\n",
      "Epochs 1000@10(1024):14\n",
      "Epochs 1000@10(1024):15\n",
      "Epochs 1000@10(1024):16\n",
      "Epochs 1000@10(1024):17\n",
      "Epochs 1000@10(1024):18\n",
      "Epochs 1000@10(1024):19\n",
      "time taken: 5 days, 22:18:48.385113\n",
      "Epochs 2000@0(32):0\n",
      "Epochs 2000@0(32):1\n",
      "Epochs 2000@0(32):2\n",
      "Epochs 2000@0(32):3\n",
      "Epochs 2000@0(32):4\n",
      "Epochs 2000@0(32):5\n",
      "Epochs 2000@0(32):6\n",
      "Epochs 2000@0(32):7\n",
      "Epochs 2000@0(32):8\n",
      "Epochs 2000@0(32):9\n",
      "Epochs 2000@0(32):10\n",
      "Epochs 2000@0(32):11\n",
      "Epochs 2000@0(32):12\n",
      "Epochs 2000@0(32):13\n",
      "Epochs 2000@0(32):14\n",
      "Epochs 2000@0(32):15\n",
      "Epochs 2000@0(32):16\n",
      "Epochs 2000@0(32):17\n",
      "Epochs 2000@0(32):18\n",
      "Epochs 2000@0(32):19\n",
      "Epochs 2000@1(64):0\n",
      "Epochs 2000@1(64):1\n",
      "Epochs 2000@1(64):2\n",
      "Epochs 2000@1(64):3\n",
      "Epochs 2000@1(64):4\n",
      "Epochs 2000@1(64):5\n",
      "Epochs 2000@1(64):6\n",
      "Epochs 2000@1(64):7\n",
      "Epochs 2000@1(64):8\n",
      "Epochs 2000@1(64):9\n",
      "Epochs 2000@1(64):10\n",
      "Epochs 2000@1(64):11\n",
      "Epochs 2000@1(64):12\n",
      "Epochs 2000@1(64):13\n",
      "Epochs 2000@1(64):14\n",
      "Epochs 2000@1(64):15\n",
      "Epochs 2000@1(64):16\n",
      "Epochs 2000@1(64):17\n",
      "Epochs 2000@1(64):18\n",
      "Epochs 2000@1(64):19\n",
      "Epochs 2000@2(128):0\n",
      "Epochs 2000@2(128):1\n",
      "Epochs 2000@2(128):2\n",
      "Epochs 2000@2(128):3\n",
      "Epochs 2000@2(128):4\n",
      "Epochs 2000@2(128):5\n",
      "Epochs 2000@2(128):6\n",
      "Epochs 2000@2(128):7\n",
      "Epochs 2000@2(128):8\n",
      "Epochs 2000@2(128):9\n",
      "Epochs 2000@2(128):10\n",
      "Epochs 2000@2(128):11\n",
      "Epochs 2000@2(128):12\n",
      "Epochs 2000@2(128):13\n",
      "Epochs 2000@2(128):14\n",
      "Epochs 2000@2(128):15\n",
      "Epochs 2000@2(128):16\n",
      "Epochs 2000@2(128):17\n",
      "Epochs 2000@2(128):18\n",
      "Epochs 2000@2(128):19\n",
      "Epochs 2000@3(200):0\n",
      "Epochs 2000@3(200):1\n",
      "Epochs 2000@3(200):2\n",
      "Epochs 2000@3(200):3\n",
      "Epochs 2000@3(200):4\n",
      "Epochs 2000@3(200):5\n",
      "Epochs 2000@3(200):6\n",
      "Epochs 2000@3(200):7\n",
      "Epochs 2000@3(200):8\n",
      "Epochs 2000@3(200):9\n",
      "Epochs 2000@3(200):10\n",
      "Epochs 2000@3(200):11\n",
      "Epochs 2000@3(200):12\n",
      "Epochs 2000@3(200):13\n",
      "Epochs 2000@3(200):14\n",
      "Epochs 2000@3(200):15\n",
      "Epochs 2000@3(200):16\n",
      "Epochs 2000@3(200):17\n",
      "Epochs 2000@3(200):18\n",
      "Epochs 2000@3(200):19\n",
      "Epochs 2000@4(256):0\n",
      "Epochs 2000@4(256):1\n",
      "Epochs 2000@4(256):2\n",
      "Epochs 2000@4(256):3\n",
      "Epochs 2000@4(256):4\n",
      "Epochs 2000@4(256):5\n",
      "Epochs 2000@4(256):6\n",
      "Epochs 2000@4(256):7\n",
      "Epochs 2000@4(256):8\n",
      "Epochs 2000@4(256):9\n",
      "Epochs 2000@4(256):10\n",
      "Epochs 2000@4(256):11\n",
      "Epochs 2000@4(256):12\n",
      "Epochs 2000@4(256):13\n",
      "Epochs 2000@4(256):14\n",
      "Epochs 2000@4(256):15\n",
      "Epochs 2000@4(256):16\n",
      "Epochs 2000@4(256):17\n",
      "Epochs 2000@4(256):18\n",
      "Epochs 2000@4(256):19\n",
      "Epochs 2000@5(300):0\n",
      "Epochs 2000@5(300):1\n",
      "Epochs 2000@5(300):2\n",
      "Epochs 2000@5(300):3\n",
      "Epochs 2000@5(300):4\n",
      "Epochs 2000@5(300):5\n",
      "Epochs 2000@5(300):6\n",
      "Epochs 2000@5(300):7\n",
      "Epochs 2000@5(300):8\n",
      "Epochs 2000@5(300):9\n",
      "Epochs 2000@5(300):10\n",
      "Epochs 2000@5(300):11\n",
      "Epochs 2000@5(300):12\n",
      "Epochs 2000@5(300):13\n",
      "Epochs 2000@5(300):14\n",
      "Epochs 2000@5(300):15\n",
      "Epochs 2000@5(300):16\n",
      "Epochs 2000@5(300):17\n",
      "Epochs 2000@5(300):18\n",
      "Epochs 2000@5(300):19\n",
      "Epochs 2000@6(450):0\n",
      "Epochs 2000@6(450):1\n",
      "Epochs 2000@6(450):2\n",
      "Epochs 2000@6(450):3\n",
      "Epochs 2000@6(450):4\n",
      "Epochs 2000@6(450):5\n",
      "Epochs 2000@6(450):6\n",
      "Epochs 2000@6(450):7\n",
      "Epochs 2000@6(450):8\n",
      "Epochs 2000@6(450):9\n",
      "Epochs 2000@6(450):10\n",
      "Epochs 2000@6(450):11\n",
      "Epochs 2000@6(450):12\n",
      "Epochs 2000@6(450):13\n",
      "Epochs 2000@6(450):14\n",
      "Epochs 2000@6(450):15\n",
      "Epochs 2000@6(450):16\n",
      "Epochs 2000@6(450):17\n",
      "Epochs 2000@6(450):18\n",
      "Epochs 2000@6(450):19\n",
      "Epochs 2000@7(512):0\n",
      "Epochs 2000@7(512):1\n",
      "Epochs 2000@7(512):2\n",
      "Epochs 2000@7(512):3\n",
      "Epochs 2000@7(512):4\n",
      "Epochs 2000@7(512):5\n",
      "Epochs 2000@7(512):6\n",
      "Epochs 2000@7(512):7\n",
      "Epochs 2000@7(512):8\n",
      "Epochs 2000@7(512):9\n",
      "Epochs 2000@7(512):10\n",
      "Epochs 2000@7(512):11\n",
      "Epochs 2000@7(512):12\n",
      "Epochs 2000@7(512):13\n",
      "Epochs 2000@7(512):14\n",
      "Epochs 2000@7(512):15\n",
      "Epochs 2000@7(512):16\n",
      "Epochs 2000@7(512):17\n",
      "Epochs 2000@7(512):18\n",
      "Epochs 2000@7(512):19\n",
      "Epochs 2000@8(700):0\n",
      "Epochs 2000@8(700):1\n",
      "Epochs 2000@8(700):2\n",
      "Epochs 2000@8(700):3\n",
      "Epochs 2000@8(700):4\n",
      "Epochs 2000@8(700):5\n",
      "Epochs 2000@8(700):6\n",
      "Epochs 2000@8(700):7\n",
      "Epochs 2000@8(700):8\n",
      "Epochs 2000@8(700):9\n",
      "Epochs 2000@8(700):10\n",
      "Epochs 2000@8(700):11\n",
      "Epochs 2000@8(700):12\n",
      "Epochs 2000@8(700):13\n",
      "Epochs 2000@8(700):14\n",
      "Epochs 2000@8(700):15\n",
      "Epochs 2000@8(700):16\n",
      "Epochs 2000@8(700):17\n",
      "Epochs 2000@8(700):18\n",
      "Epochs 2000@8(700):19\n",
      "Epochs 2000@9(820):0\n",
      "Epochs 2000@9(820):1\n",
      "Epochs 2000@9(820):2\n",
      "Epochs 2000@9(820):3\n",
      "Epochs 2000@9(820):4\n",
      "Epochs 2000@9(820):5\n",
      "Epochs 2000@9(820):6\n",
      "Epochs 2000@9(820):7\n",
      "Epochs 2000@9(820):8\n",
      "Epochs 2000@9(820):9\n",
      "Epochs 2000@9(820):10\n",
      "Epochs 2000@9(820):11\n",
      "Epochs 2000@9(820):12\n",
      "Epochs 2000@9(820):13\n",
      "Epochs 2000@9(820):14\n",
      "Epochs 2000@9(820):15\n",
      "Epochs 2000@9(820):16\n",
      "Epochs 2000@9(820):17\n",
      "Epochs 2000@9(820):18\n",
      "Epochs 2000@9(820):19\n",
      "Epochs 2000@10(1024):0\n",
      "Epochs 2000@10(1024):1\n",
      "Epochs 2000@10(1024):2\n",
      "Epochs 2000@10(1024):3\n",
      "Epochs 2000@10(1024):4\n",
      "Epochs 2000@10(1024):5\n",
      "Epochs 2000@10(1024):6\n",
      "Epochs 2000@10(1024):7\n",
      "Epochs 2000@10(1024):8\n",
      "Epochs 2000@10(1024):9\n",
      "Epochs 2000@10(1024):10\n",
      "Epochs 2000@10(1024):11\n",
      "Epochs 2000@10(1024):12\n",
      "Epochs 2000@10(1024):13\n",
      "Epochs 2000@10(1024):14\n",
      "Epochs 2000@10(1024):15\n",
      "Epochs 2000@10(1024):16\n",
      "Epochs 2000@10(1024):17\n",
      "Epochs 2000@10(1024):18\n",
      "Epochs 2000@10(1024):19\n",
      "time taken: 11 days, 20:19:08.918043\n"
     ]
    }
   ],
   "source": [
    "epochs = [500,1000,2000]\n",
    "# epochs = [1]\n",
    "layers = range(20)\n",
    "# layers = range(5)\n",
    "hidden_dim = [32,64,128,200,256,300,450,512,700,820,1024]\n",
    "# hidden_dim = [32,64,128,200,256,]\n",
    "scores_means = {}\n",
    "scores_stds = {}\n",
    "kfold = KFold(n_splits=3, random_state=seed)\n",
    "\n",
    "for epoch in epochs:\n",
    "    t_start = dt.datetime.now()\n",
    "    scores_means[str(epoch)] = np.array([[0.0 for x in range(len(layers))] for y in range(len(hidden_dim))])\n",
    "    scores_stds[str(epoch)] = np.array([[0.0 for x in range(len(layers))] for y in range(len(hidden_dim))])\n",
    "    pipeline.set_params(mlp__nb_epoch=epoch)\n",
    "    \n",
    "    for i,h in enumerate(hidden_dim):\n",
    "        pipeline.set_params(mlp__hidden=h)\n",
    "        for j,l in enumerate(layers):\n",
    "            pipeline.set_params(mlp__layers=l)\n",
    "            this_scores = cross_val_score(pipeline, X, Y, cv=kfold, scoring='roc_auc',n_jobs=1)\n",
    "#             print scores_means[str(epoch)].shape\n",
    "            print \"Epochs {}@{}({}):{}\".format(epoch,i,h,l)\n",
    "            scores_means[str(epoch)][i,j] = this_scores.mean()\n",
    "            scores_stds[str(epoch)][i,j] = this_scores.std()\n",
    "    print 'time taken: {time}'.format(time=dt.datetime.now()-t_start)"
   ]
  },
  {
   "cell_type": "code",
   "execution_count": 182,
   "metadata": {},
   "outputs": [],
   "source": [
    "import cPickle\n",
    "# save_path = \"/home/botty/Documents/CCFD/results/Analysis/scores_w_vs_d.npy\"\n",
    "save_path = \"/home/botty/Documents/CCFD/results/Analysis/scores_w_vs_d_500.npy\"\n",
    "np.save(save_path,scores_means)"
   ]
  },
  {
   "cell_type": "markdown",
   "metadata": {},
   "source": [
    "Loading"
   ]
  },
  {
   "cell_type": "code",
   "execution_count": 189,
   "metadata": {},
   "outputs": [
    {
     "name": "stdout",
     "output_type": "stream",
     "text": [
      "Stored 'scores_old' (dict)\n",
      "Stored 'scores_means' (dict)\n"
     ]
    }
   ],
   "source": [
    "%store scores_old\n",
    "%store scores_means"
   ]
  },
  {
   "cell_type": "code",
   "execution_count": 190,
   "metadata": {
    "collapsed": true
   },
   "outputs": [],
   "source": [
    "%store -r scores_all"
   ]
  },
  {
   "cell_type": "code",
   "execution_count": 191,
   "metadata": {
    "collapsed": true
   },
   "outputs": [],
   "source": [
    "scores_dict = scores_all"
   ]
  },
  {
   "cell_type": "code",
   "execution_count": 192,
   "metadata": {},
   "outputs": [
    {
     "data": {
      "text/plain": [
       "['200', '30', '60', '2000', '100', '500', '1000']"
      ]
     },
     "execution_count": 192,
     "metadata": {},
     "output_type": "execute_result"
    }
   ],
   "source": [
    "scores_dict.keys()"
   ]
  },
  {
   "cell_type": "code",
   "execution_count": null,
   "metadata": {
    "collapsed": true
   },
   "outputs": [],
   "source": [
    "#scores_means = np.load(save_path)"
   ]
  },
  {
   "cell_type": "code",
   "execution_count": 184,
   "metadata": {
    "collapsed": true
   },
   "outputs": [],
   "source": [
    "scores_old = scores_dict "
   ]
  },
  {
   "cell_type": "code",
   "execution_count": 185,
   "metadata": {},
   "outputs": [
    {
     "data": {
      "text/plain": [
       "['60', '200', '100', '30']"
      ]
     },
     "execution_count": 185,
     "metadata": {},
     "output_type": "execute_result"
    }
   ],
   "source": [
    "scores_old.keys()"
   ]
  },
  {
   "cell_type": "code",
   "execution_count": 151,
   "metadata": {},
   "outputs": [],
   "source": [
    "\n",
    "scores_dict = dict(scores_means.tolist())"
   ]
  },
  {
   "cell_type": "code",
   "execution_count": 183,
   "metadata": {
    "scrolled": true
   },
   "outputs": [
    {
     "data": {
      "text/plain": [
       "['60', '200', '100', '30']"
      ]
     },
     "execution_count": 183,
     "metadata": {},
     "output_type": "execute_result"
    }
   ],
   "source": [
    "scores_dict.keys()"
   ]
  },
  {
   "cell_type": "code",
   "execution_count": 59,
   "metadata": {
    "collapsed": true
   },
   "outputs": [],
   "source": [
    "tips = sns.load_dataset(\"tips\")"
   ]
  },
  {
   "cell_type": "code",
   "execution_count": null,
   "metadata": {
    "collapsed": true
   },
   "outputs": [],
   "source": [
    "f, (ax1, ax2, ax3) = plt.subplots(3, sharex=True, sharey=True)"
   ]
  },
  {
   "cell_type": "code",
   "execution_count": 133,
   "metadata": {},
   "outputs": [],
   "source": [
    "layers = map(lambda x: x+1,layers)"
   ]
  },
  {
   "cell_type": "code",
   "execution_count": 137,
   "metadata": {
    "collapsed": true
   },
   "outputs": [],
   "source": [
    "wide_deep_fig_path = \"/home/botty/Documents/CCFD/results/figures/wide_deep/\""
   ]
  },
  {
   "cell_type": "code",
   "execution_count": 139,
   "metadata": {
    "collapsed": true
   },
   "outputs": [],
   "source": [
    "a = axes[c]"
   ]
  },
  {
   "cell_type": "code",
   "execution_count": 142,
   "metadata": {},
   "outputs": [],
   "source": [
    "?plt.subplots"
   ]
  },
  {
   "cell_type": "code",
   "execution_count": 193,
   "metadata": {},
   "outputs": [
    {
     "data": {
      "image/png": "[encoded data removed]",
      "text/plain": [
       "<matplotlib.figure.Figure at 0x7f063ee00590>"
      ]
     },
     "metadata": {},
     "output_type": "display_data"
    }
   ],
   "source": [
    "epochs_str = [str(x) for x in [30,60,100,200, 500, 1000, 2000]]\n",
    "epochs_str = [str(x) for x in [30,60,100,200, 500, 1000, 2000]]\n",
    "f, axes = plt.subplots(len(epochs_str), sharex=True, sharey=True,figsize=(8, 9))\n",
    "for c,key in enumerate(epochs_str):##\n",
    "#     print(scores_dict[key].shape)\n",
    "#     print key\n",
    "    axes[c].set_title('{} epochs'.format(key))\n",
    "    sns.heatmap(scores_dict[key],ax=axes[c],xticklabels=layers,yticklabels=h_dim,vmin=0.5,vmax=1).invert_yaxis()\n",
    "f.savefig(wide_deep_fig_path+\"big_picture_2000\")"
   ]
  },
  {
   "cell_type": "markdown",
   "metadata": {},
   "source": [
    "There seems to be a significant degree of overfitting as the number of epochs drastically increase. In conjunction with the insignificant amount of samples (100,000 examples), our findings suggest that theoretical results of the expressive power of DNNs are only applicable in the presence of excessive amounts of training data. "
   ]
  },
  {
   "cell_type": "code",
   "execution_count": 197,
   "metadata": {},
   "outputs": [
    {
     "data": {
      "image/png": "[encoded data removed]",
      "text/plain": [
       "<matplotlib.figure.Figure at 0x7f063327f7d0>"
      ]
     },
     "metadata": {},
     "output_type": "display_data"
    }
   ],
   "source": [
    "f, axes = plt.subplots(len(epochs_str), sharex=True, sharey=True,figsize=(8, 9))\n",
    "for c,key in enumerate(epochs_str):\n",
    "    axes[c].set_title('{} epochs'.format(key))\n",
    "    sns.heatmap(scores_dict[key][:,0:6],ax=axes[c],vmin=0.9535,vmax=0.9610,xticklabels=layers,yticklabels=h_dim,annot=True,fmt='.4g').invert_yaxis()"
   ]
  },
  {
   "cell_type": "code",
   "execution_count": 116,
   "metadata": {
    "scrolled": true
   },
   "outputs": [
    {
     "data": {
      "image/png": "[encoded data removed]",
      "text/plain": [
       "<matplotlib.figure.Figure at 0x7f0645c48c10>"
      ]
     },
     "metadata": {},
     "output_type": "display_data"
    }
   ],
   "source": [
    "sns.heatmap(scores_dict['200'][:,0:8],robust=True,annot=True,fmt='.4g',xticklabels=layers,yticklabels=h_dim).invert_yaxis()"
   ]
  },
  {
   "cell_type": "code",
   "execution_count": 154,
   "metadata": {},
   "outputs": [
    {
     "data": {
      "text/plain": [
       "array([ 0.96108864,  0.96085797,  0.96047991,  0.96077981,  0.96091118,\n",
       "        0.96071132,  0.9608069 ,  0.96113484,  0.96081607,  0.96139458,\n",
       "        0.9612226 ])"
      ]
     },
     "execution_count": 154,
     "metadata": {},
     "output_type": "execute_result"
    }
   ],
   "source": [
    "scores_dict['200'].max(axis=1)"
   ]
  },
  {
   "cell_type": "code",
   "execution_count": 198,
   "metadata": {
    "scrolled": true
   },
   "outputs": [
    {
     "data": {
      "text/plain": [
       "array([ 0.96030137,  0.96052197,  0.96064048,  0.9603713 ,  0.96049163,\n",
       "        0.96010414,  0.96025914,  0.96021885,  0.9601452 ,  0.96012237,\n",
       "        0.96046914])"
      ]
     },
     "execution_count": 198,
     "metadata": {},
     "output_type": "execute_result"
    }
   ],
   "source": [
    "scores_dict['500'].max(axis=1)"
   ]
  },
  {
   "cell_type": "code",
   "execution_count": 201,
   "metadata": {
    "scrolled": true
   },
   "outputs": [
    {
     "data": {
      "text/plain": [
       "0.96064048450000283"
      ]
     },
     "execution_count": 201,
     "metadata": {},
     "output_type": "execute_result"
    }
   ],
   "source": [
    "scores_dict['500'].max()"
   ]
  },
  {
   "cell_type": "code",
   "execution_count": 202,
   "metadata": {
    "scrolled": true
   },
   "outputs": [
    {
     "data": {
      "text/plain": [
       "0.95945102320957432"
      ]
     },
     "execution_count": 202,
     "metadata": {},
     "output_type": "execute_result"
    }
   ],
   "source": [
    "scores_dict['1000'].max()"
   ]
  },
  {
   "cell_type": "code",
   "execution_count": 203,
   "metadata": {
    "scrolled": true
   },
   "outputs": [
    {
     "data": {
      "text/plain": [
       "0.95925128559459194"
      ]
     },
     "execution_count": 203,
     "metadata": {},
     "output_type": "execute_result"
    }
   ],
   "source": [
    "scores_dict['2000'].max()"
   ]
  },
  {
   "cell_type": "markdown",
   "metadata": {},
   "source": [
    "## Maximum AUC and index\n"
   ]
  },
  {
   "cell_type": "code",
   "execution_count": 204,
   "metadata": {},
   "outputs": [
    {
     "name": "stdout",
     "output_type": "stream",
     "text": [
      "0.9595728114 dimensions 128 layers 4\n",
      "0.960244627287 dimensions 128 layers 14\n",
      "0.960436414725 dimensions 450 layers 11\n",
      "0.961394577674 dimensions 820 layers 0\n",
      "0.9606404845 dimensions 128 layers 0\n",
      "0.95945102321 dimensions 64 layers 0\n",
      "0.959251285595 dimensions 450 layers 0\n"
     ]
    }
   ],
   "source": [
    "for c,key in enumerate(epochs_str):\n",
    "    arr = scores_dict[key]\n",
    "    idx = np.unravel_index(arr.argmax(),arr.shape)\n",
    "    print arr.max(), \"dimensions\", h_dim[idx[0]],\"layers\",layers[idx[1]]"
   ]
  },
  {
   "cell_type": "code",
   "execution_count": 207,
   "metadata": {},
   "outputs": [
    {
     "name": "stdout",
     "output_type": "stream",
     "text": [
      "0.335095946552 dimensions 200 layers 18\n",
      "0.288481726286 dimensions 128 layers 14\n",
      "0.232971568868 dimensions 256 layers 16\n"
     ]
    }
   ],
   "source": [
    "for c,key in enumerate([\"500\",\"1000\",\"2000\"]):\n",
    "    arr = scores_stds[key]\n",
    "    idx = np.unravel_index(arr.argmax(),arr.shape)\n",
    "    print arr.max(), \"dimensions\", h_dim[idx[0]],\"layers\",layers[idx[1]]"
   ]
  },
  {
   "cell_type": "code",
   "execution_count": 208,
   "metadata": {},
   "outputs": [
    {
     "name": "stdout",
     "output_type": "stream",
     "text": [
      "0.0 dimensions 450 layers 17\n",
      "0.0 dimensions 300 layers 8\n",
      "0.0 dimensions 200 layers 11\n"
     ]
    }
   ],
   "source": [
    "for c,key in enumerate([\"500\",\"1000\",\"2000\"]):\n",
    "    arr = scores_stds[key]\n",
    "    idx = np.unravel_index(arr.argmin(),arr.shape)\n",
    "    print arr.min(), \"dimensions\", h_dim[idx[0]],\"layers\",layers[idx[1]]"
   ]
  },
  {
   "cell_type": "code",
   "execution_count": null,
   "metadata": {
    "scrolled": true
   },
   "outputs": [],
   "source": [
    "num_h_itr = len(hidden_dim)\n",
    "num_h_itr = 6\n",
    "num_l_itr = len(layers)\n",
    "pairs = zip(range(num_h_itr), range(num_l_itr))\n",
    "\n",
    "for epoch in epochs:\n",
    "    print epoch\n",
    "    for h, l in pairs:\n",
    "        print \"Epochs {}@{}:{}\".format(epoch,hidden_dim[h],layers[l])\n",
    "        fig, ax1 = plt.subplots()\n",
    "#         ax.errorbar(layers, scores_means[str(epoch)][h,:], np.array(scores_stds[str(epoch)][h,:]))\n",
    "#         ax.errorbar(hidden_dim, scores_means[str(epoch)][:,l], np.array(scores_stds[str(epoch)][:,l]))\n",
    "\n",
    "        color_layers = 'darkorange'\n",
    "        ax1.errorbar(layers[0:num_l_itr], scores_means[str(epoch)][h,0:num_l_itr], np.array(scores_stds[str(epoch)][h,0:num_l_itr]),color=color_layers)\n",
    "        # Make the y-axis label, ticks and tick labels match the line color.\n",
    "        ax1.set_xlabel('depth', color=color_layers)\n",
    "        ax1.tick_params('x', colors=color_layers)\n",
    "\n",
    "        ax2 = ax1.twiny()\n",
    "        ax2.errorbar(hidden_dim[0:num_h_itr], scores_means[str(epoch)][0:num_h_itr,l], np.array(scores_stds[str(epoch)][0:num_h_itr,l]))\n",
    "        ax2.set_xlabel('width',color='royalblue')\n",
    "        ax2.tick_params('x', colors='royalblue')\n",
    "        ax2.set_ylabel('AUC')\n",
    "        fig.tight_layout()\n",
    "        plt.show()\n",
    "        \n",
    "    break"
   ]
  },
  {
   "cell_type": "code",
   "execution_count": null,
   "metadata": {},
   "outputs": [],
   "source": [
    "test_m = np.array([[1,2,3],[4,5,6]])\n",
    "max(test_m)"
   ]
  },
  {
   "cell_type": "code",
   "execution_count": null,
   "metadata": {
    "scrolled": true
   },
   "outputs": [],
   "source": [
    "scores_means"
   ]
  },
  {
   "cell_type": "code",
   "execution_count": null,
   "metadata": {},
   "outputs": [],
   "source": [
    "for matrix in scores_means:\n",
    "    print matrix\n",
    "    print max(scores_means[matrix].flatten())\n",
    "    print min(scores_means[matrix].flatten())"
   ]
  },
  {
   "cell_type": "code",
   "execution_count": null,
   "metadata": {},
   "outputs": [],
   "source": [
    "num_h_itr = len(hidden_dim)\n",
    "# num_h_itr = 6\n",
    "num_l_itr = len(layers)\n",
    "pairs = zip(range(num_h_itr), range(num_l_itr))\n",
    "\n",
    "for epoch in epochs:\n",
    "    print epoch\n",
    "    for h, l in pairs:\n",
    "        print \"Epochs {}@{}:{}\".format(epoch,hidden_dim[h],layers[l])       \n",
    "        ymin = 0.95\n",
    "        ymax = 0.965\n",
    "        fig, ax1 = plt.subplots()\n",
    "#         ax.errorbar(layers, scores_means[str(epoch)][h,:], np.array(scores_stds[str(epoch)][h,:]))\n",
    "#         ax.errorbar(hidden_dim, scores_means[str(epoch)][:,l], np.array(scores_stds[str(epoch)][:,l]))\n",
    "\n",
    "        color_layers = 'darkorange'\n",
    "        ax1.errorbar(layers[0:num_l_itr], scores_means[str(epoch)][h,0:num_l_itr], np.array(scores_stds[str(epoch)][h,0:num_l_itr]),color=color_layers)\n",
    "        # Make the y-axis label, ticks and tick labels match the line color.\n",
    "        ax1.set_xlabel('depth', color=color_layers)\n",
    "        ax1.tick_params('x', colors=color_layers)\n",
    "        l_p = layers[l]\n",
    "        ax1.plot((l_p,l_p),(0,1),color=color_layers,linestyle='dashed')\n",
    "#         ax1.set_ylim([ymin,ymax])\n",
    "        ax2 = ax1.twiny()\n",
    "        ax2.errorbar(hidden_dim[0:num_h_itr], scores_means[str(epoch)][0:num_h_itr,l], np.array(scores_stds[str(epoch)][0:num_h_itr,l]))\n",
    "        ax2.set_xlabel('width',color='royalblue')\n",
    "        ax2.tick_params('x', colors='royalblue')\n",
    "        ax2.set_ylabel('AUC')\n",
    "        h_p = hidden_dim[h]\n",
    "        ax2.plot((h_p,h_p),(0,1),color='royalblue',linestyle='dashed')\n",
    "        ax2.set_ylim([ymin,ymax])\n",
    "        fig.tight_layout()\n",
    "        plt.show()\n",
    "        print h_p,l_p\n",
    "        print h,l\n",
    "        h_n = hidden_dim.index(h_p)\n",
    "        l_n = layers.index(l_p)\n",
    "        print scores_means[str(epoch)][h_n,l_n]\n",
    "        h_n = hidden_dim.index(128)\n",
    "        l_n = layers.index(5)\n",
    "        print h_n,l_n\n",
    "        print scores_means[str(epoch)][h_n,l_n]\n",
    "       "
   ]
  },
  {
   "cell_type": "code",
   "execution_count": null,
   "metadata": {},
   "outputs": [],
   "source": [
    "print_score(128,5)\n",
    "print_c_score(5,5)\n",
    "print_score(300,5)"
   ]
  },
  {
   "cell_type": "code",
   "execution_count": null,
   "metadata": {},
   "outputs": [],
   "source": [
    "def print_score(h,l,epoch='30'):\n",
    "    print h,l\n",
    "    h_n = hidden_dim.index(h)\n",
    "    l_n = layers.index(l)\n",
    "    print_c_score(h_n,l_n,epoch)"
   ]
  },
  {
   "cell_type": "code",
   "execution_count": null,
   "metadata": {},
   "outputs": [],
   "source": [
    "def print_c_score(h_n,l_n,epoch='30'):\n",
    "    print h_n,l_n\n",
    "    print scores_means[str(epoch)][h_n,l_n]"
   ]
  },
  {
   "cell_type": "code",
   "execution_count": null,
   "metadata": {},
   "outputs": [],
   "source": [
    "a = w, h = 8, 5;\n",
    "Matrix = [[0 for x in range(w)] for y in range(h)] ,nrows=max(len(hidden_dim),len(layers)"
   ]
  },
  {
   "cell_type": "code",
   "execution_count": null,
   "metadata": {
    "collapsed": true
   },
   "outputs": [],
   "source": [
    "[25 * (x+ for x in range(2,20)]"
   ]
  },
  {
   "cell_type": "code",
   "execution_count": null,
   "metadata": {},
   "outputs": [],
   "source": [
    "mlp_model_wrap.__call__"
   ]
  },
  {
   "cell_type": "code",
   "execution_count": null,
   "metadata": {},
   "outputs": [],
   "source": [
    "score_means_l = list()\n",
    "score_stds_l = list()\n",
    "layers = range(20)\n",
    "kfold = KFold(n_splits=3, random_state=seed)\n",
    "for l in layers:\n",
    "    pipeline.set_params(mlp__layers=l) \n",
    "    this_scores = cross_val_score(pipeline, X, Y, cv=kfold, scoring='roc_auc',n_jobs=1)\n",
    "    score_means_l.append(this_scores.mean())\n",
    "    score_stds_l.append(this_scores.std())\n",
    "\n",
    "title =  'Performance of the MLP with Increasing layers'\n",
    "fig = plt.figure()\n",
    "plt.errorbar(layers, score_means_l, np.array(score_stds_l))\n",
    "plt.title(title)\n",
    "plt.xlabel('number of layers')\n",
    "plt.ylabel('AUC')\n",
    "\n",
    "plt.axis('tight')\n",
    "plt.show()\n",
    "\n",
    "fig.savefig(\"/home/botty/Documents/CCFD/figures/analysis/\"+title)"
   ]
  },
  {
   "cell_type": "code",
   "execution_count": null,
   "metadata": {},
   "outputs": [],
   "source": [
    "score_means_l = list()\n",
    "score_stds_l = list()\n",
    "layers = range(20)\n",
    "kfold = KFold(n_splits=3, random_state=seed)\n",
    "pipeline.set_params(mlp__nb_epoch=100)\n",
    "for l in layers:\n",
    "    pipeline.set_params(mlp__layers=l) \n",
    "    this_scores = cross_val_score(pipeline, X, Y, cv=kfold, scoring='roc_auc',n_jobs=1)\n",
    "    score_means_l.append(this_scores.mean())\n",
    "    score_stds_l.append(this_scores.std())\n",
    "\n",
    "title =  'Performance of the MLP with Increasing layers'\n",
    "fig = plt.figure()\n",
    "plt.errorbar(layers, score_means_l, np.array(score_stds_l))\n",
    "plt.title(title)\n",
    "plt.xlabel('number of layers')\n",
    "plt.ylabel('AUC')\n",
    "\n",
    "plt.axis('tight')\n",
    "plt.show()\n",
    "\n",
    "fig.savefig(\"/home/botty/Documents/CCFD/figures/analysis/\"+title)"
   ]
  },
  {
   "cell_type": "code",
   "execution_count": null,
   "metadata": {
    "scrolled": false
   },
   "outputs": [],
   "source": [
    "len(score_means_l)"
   ]
  },
  {
   "cell_type": "code",
   "execution_count": null,
   "metadata": {},
   "outputs": [],
   "source": [
    "title =  'Performance of the MLP with Increasing layers'\n",
    "fig = plt.figure()\n",
    "plt.errorbar(layers[0:9], score_means_l, np.array(score_stds_l))\n",
    "plt.title(title)\n",
    "plt.xlabel('number of layers')\n",
    "plt.ylabel('AUC')\n",
    "\n",
    "plt.axis('tight')\n",
    "plt.show()\n",
    "\n",
    "fig.savefig(\"/home/botty/Documents/CCFD/figures/analysis/\"+title)"
   ]
  },
  {
   "cell_type": "code",
   "execution_count": null,
   "metadata": {},
   "outputs": [],
   "source": [
    "layers = range(20)\n",
    "score_means = range(20)\n",
    "score_stds = range(20)\n",
    "\n",
    "\n",
    "\n",
    "title =  'Performance of the MLP with Increasing layers'\n",
    "fig = plt.figure()\n",
    "plt.errorbar(layers, score_means, np.array(score_stds))\n",
    "hold on;\n",
    "plt.title(title)\n",
    "plt.xlabel('number of layers')\n",
    "plt.ylabel('AUC')\n",
    "\n",
    "plt.axis('tight')\n",
    "plt.show()\n",
    "\n",
    "fig.savefig(\"/home/botty/Documents/CCFD/figures/analysis/\"+title)"
   ]
  },
  {
   "cell_type": "code",
   "execution_count": null,
   "metadata": {},
   "outputs": [],
   "source": [
    "score_means = list()\n",
    "score_stds = list()\n",
    "layers = [50,75,100,125,150,200,400,800,1000,2000]\n",
    "kfold = KFold(n_splits=3, random_state=seed)\n",
    "for l in layers:\n",
    "    pipeline.set_params(mlp__hidden=l) \n",
    "    this_scores = cross_val_score(pipeline, X, Y, cv=kfold, scoring='roc_auc',n_jobs=1)\n",
    "    score_means.append(this_scores.mean())\n",
    "    score_stds.append(this_scores.std())\n",
    "title = \"Performance of the MLP with Increasing Hidden Layer Sizes\"\n",
    "fig = plt.figure()\n",
    "plt.errorbar(layers, score_means, np.array(score_stds))\n",
    "plt.title(title)\n",
    "plt.xlabel('Number of neurons')\n",
    "plt.ylabel('AUC')\n",
    "\n",
    "plt.axis('tight')\n",
    "plt.show()\n",
    "\n",
    "fig.savefig(\"/home/botty/Documents/CCFD/figures/analysis/\"+title)"
   ]
  },
  {
   "cell_type": "code",
   "execution_count": null,
   "metadata": {
    "scrolled": true
   },
   "outputs": [],
   "source": [
    "##TODO\n",
    "layers = range(20)\n",
    "title = \"Depth vs Width\"\n",
    "fig = plt.figure()\n",
    "plt.errorbar(layers, score_means_l, np.array(score_stds_l))\n",
    "# layers = [50,75,100,125,150,200,400,800,1000,2000]\n",
    "layers = range(10)\n",
    "plt.errorbar(layers, score_means, np.array(score_stds))\n",
    "plt.title(title)\n",
    "plt.xlabel('Number of neurons')\n",
    "plt.ylabel('AUC')\n",
    "\n",
    "plt.axis('tight')\n",
    "plt.show()\n",
    "\n",
    "fig.savefig(\"/home/botty/Documents/CCFD/figures/analysis/\"+title)"
   ]
  },
  {
   "cell_type": "code",
   "execution_count": null,
   "metadata": {},
   "outputs": [],
   "source": [
    "score_means"
   ]
  },
  {
   "cell_type": "code",
   "execution_count": null,
   "metadata": {
    "collapsed": true
   },
   "outputs": [],
   "source": [
    "pipeline.fit(X,Y)"
   ]
  },
  {
   "cell_type": "code",
   "execution_count": null,
   "metadata": {
    "collapsed": true
   },
   "outputs": [],
   "source": [
    "y_pred = pipeline.predict_proba(X)"
   ]
  },
  {
   "cell_type": "code",
   "execution_count": null,
   "metadata": {
    "collapsed": true
   },
   "outputs": [],
   "source": [
    "y_pred[0:50,:]"
   ]
  },
  {
   "cell_type": "code",
   "execution_count": null,
   "metadata": {},
   "outputs": [],
   "source": [
    "target_names = [\"Genuine\", \"Fraud\"]\n",
    "y_test = Y\n",
    "fpr,tpr,tresholds = roc_curve(y_test[:,0],y_pred[:,0])\n",
    "print(auc(fpr, tpr))\n",
    "# print(classification_report(y_test, y_pred, target_names=target_names))\n",
    "# print(confusion_matrix(y_test, y_pred, labels=range(n_classes)))"
   ]
  },
  {
   "cell_type": "code",
   "execution_count": null,
   "metadata": {},
   "outputs": [],
   "source": [
    "fpr,tpr"
   ]
  },
  {
   "cell_type": "code",
   "execution_count": null,
   "metadata": {},
   "outputs": [],
   "source": [
    "input_dimensions"
   ]
  },
  {
   "cell_type": "markdown",
   "metadata": {},
   "source": [
    "### Logistic Regression\n"
   ]
  },
  {
   "cell_type": "code",
   "execution_count": 9,
   "metadata": {
    "scrolled": true
   },
   "outputs": [
    {
     "name": "stdout",
     "output_type": "stream",
     "text": [
      "(100000, 44)\n",
      "(100000, 2)\n",
      "[ 1.  1.  0. ...,  1.  1.  1.]\n"
     ]
    }
   ],
   "source": [
    "print X.shape\n",
    "print Y.shape\n",
    "print Y[:,0]"
   ]
  },
  {
   "cell_type": "code",
   "execution_count": 10,
   "metadata": {},
   "outputs": [
    {
     "data": {
      "text/plain": [
       "44"
      ]
     },
     "execution_count": 10,
     "metadata": {},
     "output_type": "execute_result"
    }
   ],
   "source": [
    "X_sub = X[:1000,:]\n",
    "Y_sub = Y[:1000]\n",
    "X_sub.shape[1]"
   ]
  },
  {
   "cell_type": "code",
   "execution_count": 11,
   "metadata": {
    "collapsed": true
   },
   "outputs": [],
   "source": [
    "def logistic_regresion():\n",
    "    logistic = linear_model.LogisticRegression(solver='sag', n_jobs=5, max_iter=500)\n",
    "    return logistic"
   ]
  },
  {
   "cell_type": "code",
   "execution_count": 12,
   "metadata": {
    "collapsed": true
   },
   "outputs": [],
   "source": [
    "def keras_lin_reg(input_dimensions):\n",
    "    y = Dense(1, init='normal', activation='linear',input_shape=(input_dimensions,))\n",
    "    model = Sequential([y], \"Linear Regression\")\n",
    "    model.compile(loss='mse', optimizer='sgd')\n",
    "    return model"
   ]
  },
  {
   "cell_type": "code",
   "execution_count": 13,
   "metadata": {
    "collapsed": true
   },
   "outputs": [],
   "source": [
    "def keras_log_reg(input_dimensions):\n",
    "    y = Dense(2, init='normal', activation='softmax',input_shape=(input_dimensions,))\n",
    "    # Compile model\n",
    "#     from IPython.core.debugger import Tracer;Tracer()()\n",
    "    model = Sequential([y], \"Logistic Regression\")\n",
    "    model.compile(loss='binary_crossentropy', optimizer='adam')\n",
    "    return model"
   ]
  },
  {
   "cell_type": "code",
   "execution_count": 14,
   "metadata": {
    "collapsed": true
   },
   "outputs": [],
   "source": [
    "def keras_mlp_model(input_dimensions,hidden=100,layers=1):\n",
    "    # create model\n",
    "    model = Sequential()\n",
    "    model.add(Dense(hidden, input_dim=input_dimensions, init='normal', activation='relu'))\n",
    "    if hidden is not None:\n",
    "        for l in range(layers):\n",
    "            model.add(Dense(hidden))\n",
    "    model.add(Dense(2, init='normal', activation='softmax'))\n",
    "    # Compile model\n",
    "    model.compile(loss='binary_crossentropy', optimizer='adam')\n",
    "    return model"
   ]
  },
  {
   "cell_type": "code",
   "execution_count": 15,
   "metadata": {
    "collapsed": true
   },
   "outputs": [],
   "source": [
    "def compare(models,X,Y,scale=True,cv=5):\n",
    "    \"\"\"Compares different sk-learn models\n",
    "    \n",
    "    Parameters\n",
    "        ----------\n",
    "    models : dict\n",
    "        model object, expected ouotput dimensions\n",
    "    \"\"\"\n",
    "    seed = 7\n",
    "    np.random.seed(seed)\n",
    "    results = {}\n",
    "    for m in models.keys():\n",
    "        \n",
    "        estimators = []\n",
    "        if scale:\n",
    "            estimators.append(('standardize', StandardScaler()))\n",
    "        estimators.append(m)\n",
    "        pipeline = Pipeline(estimators)\n",
    "#         kfold = CategoricalStratifiedKFold(n_splits=5, random_state=seed)\n",
    "        ## set model output dimensioanlity\n",
    "        Y_shaped = Y[:] if models[m] == None else Y[:,models[m]]\n",
    "        if Y_shaped.shape[1] > 1:\n",
    "            kfold = CategoricalStratifiedKFold(n_splits=5, random_state=seed) \n",
    "        else:\n",
    "            kfold = StratifiedKFold(n_splits=5, random_state=seed)\n",
    "#         from IPython.core.debugger import Tracer; Tracer()()\n",
    "#         if cv is None:\n",
    "        \n",
    "#             results[m] = pipeline, X, Y_shaped, cv=kfold, scoring='roc_auc',n_jobs=1)\n",
    "#             fpr, tpr, thresholds = sklearn.metrics.roc_curve(Y_shaped)\n",
    "#             auc_val = auc(fpr, tpr)\n",
    "        results[m] = cross_val_score(pipeline, X, Y_shaped, cv=kfold, scoring='roc_auc',n_jobs=1)\n",
    "    return results\n",
    "\n"
   ]
  },
  {
   "cell_type": "code",
   "execution_count": 16,
   "metadata": {},
   "outputs": [],
   "source": [
    "def compare_report(results):\n",
    "    n = max([len(x[0]) for x in results.keys()])\n",
    "    for m in results.keys():\n",
    "        print(\"%*s %.4f %.4f\" % (n,m[0],results[m].mean(),results[m].std()))"
   ]
  },
  {
   "cell_type": "code",
   "execution_count": 16,
   "metadata": {},
   "outputs": [
    {
     "ename": "NameError",
     "evalue": "name 'results' is not defined",
     "output_type": "error",
     "traceback": [
      "\u001b[1;31m---------------------------------------------------------------------------\u001b[0m",
      "\u001b[1;31mNameError\u001b[0m                                 Traceback (most recent call last)",
      "\u001b[1;32m<ipython-input-16-67449a8c9d06>\u001b[0m in \u001b[0;36m<module>\u001b[1;34m()\u001b[0m\n\u001b[1;32m----> 1\u001b[1;33m \u001b[1;33m[\u001b[0m\u001b[0mx\u001b[0m\u001b[1;33m[\u001b[0m\u001b[1;36m0\u001b[0m\u001b[1;33m]\u001b[0m \u001b[1;32mfor\u001b[0m \u001b[0mx\u001b[0m \u001b[1;32min\u001b[0m \u001b[0mresults\u001b[0m\u001b[1;33m.\u001b[0m\u001b[0mkeys\u001b[0m\u001b[1;33m(\u001b[0m\u001b[1;33m)\u001b[0m\u001b[1;33m]\u001b[0m\u001b[1;33m\u001b[0m\u001b[0m\n\u001b[0m",
      "\u001b[1;31mNameError\u001b[0m: name 'results' is not defined"
     ]
    }
   ],
   "source": [
    "[x[0] for x in results.keys()]"
   ]
  },
  {
   "cell_type": "code",
   "execution_count": null,
   "metadata": {},
   "outputs": [],
   "source": [
    "m = results.keys()[0]\n",
    "n = 15\n",
    "print(\"%*s %.4f %.4f\" % (n,m[0],results[m].mean(),results[m].std()))"
   ]
  },
  {
   "cell_type": "code",
   "execution_count": null,
   "metadata": {},
   "outputs": [],
   "source": [
    "nb_epochs = 1\n",
    "m1 = ('log_reg',KerasClassifier(build_fn=keras_log_reg,input_dimensions=X_sub.shape[1], nb_epoch=nb_epochs, batch_size=10000, verbose=0))\n",
    "m2 = ('log_reg_sk_learn',logistic_regresion())\n",
    "m3 = ('lin_reg',KerasClassifier(build_fn=keras_lin_reg,input_dimensions=X_sub.shape[1], nb_epoch=nb_epochs, batch_size=10000, verbose=0))\n",
    "m4 = ('lin_reg',KerasClassifier(build_fn=keras_mlp_model,input_dimensions=X_sub.shape[1], hidden=100,layers=1, nb_epoch=nb_epochs, batch_size=10000, verbose=0))\n",
    "m5 = ('lin_reg',KerasClassifier(build_fn=keras_mlp_model,input_dimensions=X_sub.shape[1], hidden=100,layers=2, nb_epoch=nb_epochs, batch_size=10000, verbose=0))\n",
    "results = compare({m1:None,m2:0,m3:0,m4:None,m5:None},X_sub,Y_sub)\n",
    "compare_report(results)"
   ]
  },
  {
   "cell_type": "code",
   "execution_count": null,
   "metadata": {},
   "outputs": [],
   "source": [
    "    estimators = []\n",
    "    estimators.append(('standardize', StandardScaler()))\n",
    "    # estimators.append(('mlp', KerasClassifier(build_fn=mlp_model, nb_epoch=100, batch_size=10000, verbose=1)))\n",
    "    estimators.append(('log_reg', KerasClassifier(build_fn=mlp_model_wrap, nb_epoch=100, batch_size=10000, verbose=0)))\n",
    "    # estimators.append(('liner reg', KerasClassifier(build_fn=keras_lin_reg, nb_epoch=100, batch_size=100000, verbose=1)))\n",
    "    # estimators.append(('linear_reg', baseline_model()))\n",
    "    pipeline = Pipeline(estimators)\n",
    "    kfold = KFold(n_splits=10, random_state=seed)\n",
    "    results = cross_val_score(pipeline, X, Y, cv=kfold, scoring='roc_auc',n_jobs=1)\n",
    "    print(\"Results:\", results)\n",
    "    print(\"Results: %.24f (%.24f) ROC\" % (results.mean(), results.std()))"
   ]
  },
  {
   "cell_type": "code",
   "execution_count": 17,
   "metadata": {},
   "outputs": [],
   "source": [
    "def load_dataset(table,rm_unavail=False, lim = ''):\n",
    "    # load dataset\n",
    "    engine = get_engine()\n",
    "    dataframe = pd.read_sql_query(\"select * from {table} {lim}\".format(table=table,lim=lim),engine)\n",
    "    data_dimensions = 45\n",
    "    if rm_unavail:\n",
    "        unav_cols = ['AUTHZN_APPRL_CD','TSYS_DCLN_REAS_CD','AUTHZN_RESPNS_CD','AUTHZN_APPRD_AMT',]\n",
    "        unav_cols = [x.lower() for x in unav_cols]\n",
    "        for col in unav_cols:\n",
    "            dataframe.drop([col], axis = 1, inplace = True)\n",
    "            data_dimensions-=1\n",
    "#     print(\"Columns: \"+dataframe.columns)\n",
    "    dataset = dataframe.values\n",
    "#     print(\"First one row of the dataset\")\n",
    "    print(\"Shape [{}]\".format(dataset.shape))\n",
    "#     print(dataset[0:2,:])\n",
    "    # split into input (X) and output (Y) variables\n",
    "    \n",
    "    #first dimension is the index, must be removed!!!!\n",
    "    X = dataset[:, 1:data_dimensions]\n",
    "    Y = dataset[:, data_dimensions]\n",
    "\n",
    "    print(\"Fraud {}% \".format(float(np.sum(Y==1))*100.0/Y.shape[0]))\n",
    "    print(\"Total #samples:\",Y.shape[0])\n",
    "    Y = to_categorical(Y, nb_classes=None)\n",
    "\n",
    "\n",
    "    input_dimensions = X.shape[1]\n",
    "    print(\"shapes: X[{}]=====Y[{}]\".format(X.shape, Y.shape))\n",
    "    return X,Y"
   ]
  },
  {
   "cell_type": "code",
   "execution_count": 23,
   "metadata": {
    "scrolled": true
   },
   "outputs": [
    {
     "ename": "KeyboardInterrupt",
     "evalue": "",
     "output_type": "error",
     "traceback": [
      "\u001b[1;31m---------------------------------------------------------------------------\u001b[0m",
      "\u001b[1;31mKeyboardInterrupt\u001b[0m                         Traceback (most recent call last)",
      "\u001b[1;32m<ipython-input-23-73cf61247bff>\u001b[0m in \u001b[0;36m<module>\u001b[1;34m()\u001b[0m\n\u001b[1;32m----> 1\u001b[1;33m \u001b[0mget_ipython\u001b[0m\u001b[1;33m(\u001b[0m\u001b[1;33m)\u001b[0m\u001b[1;33m.\u001b[0m\u001b[0mrun_cell_magic\u001b[0m\u001b[1;33m(\u001b[0m\u001b[1;34mu'time'\u001b[0m\u001b[1;33m,\u001b[0m \u001b[1;34mu''\u001b[0m\u001b[1;33m,\u001b[0m \u001b[1;34mu'\\ntable = \"data_fraud\"\\nload_dataset(table,rm_unavail=True)'\u001b[0m\u001b[1;33m)\u001b[0m\u001b[1;33m\u001b[0m\u001b[0m\n\u001b[0m",
      "\u001b[1;32m/usr/local/lib/python2.7/dist-packages/IPython/core/interactiveshell.pyc\u001b[0m in \u001b[0;36mrun_cell_magic\u001b[1;34m(self, magic_name, line, cell)\u001b[0m\n\u001b[0;32m   2118\u001b[0m             \u001b[0mmagic_arg_s\u001b[0m \u001b[1;33m=\u001b[0m \u001b[0mself\u001b[0m\u001b[1;33m.\u001b[0m\u001b[0mvar_expand\u001b[0m\u001b[1;33m(\u001b[0m\u001b[0mline\u001b[0m\u001b[1;33m,\u001b[0m \u001b[0mstack_depth\u001b[0m\u001b[1;33m)\u001b[0m\u001b[1;33m\u001b[0m\u001b[0m\n\u001b[0;32m   2119\u001b[0m             \u001b[1;32mwith\u001b[0m \u001b[0mself\u001b[0m\u001b[1;33m.\u001b[0m\u001b[0mbuiltin_trap\u001b[0m\u001b[1;33m:\u001b[0m\u001b[1;33m\u001b[0m\u001b[0m\n\u001b[1;32m-> 2120\u001b[1;33m                 \u001b[0mresult\u001b[0m \u001b[1;33m=\u001b[0m \u001b[0mfn\u001b[0m\u001b[1;33m(\u001b[0m\u001b[0mmagic_arg_s\u001b[0m\u001b[1;33m,\u001b[0m \u001b[0mcell\u001b[0m\u001b[1;33m)\u001b[0m\u001b[1;33m\u001b[0m\u001b[0m\n\u001b[0m\u001b[0;32m   2121\u001b[0m             \u001b[1;32mreturn\u001b[0m \u001b[0mresult\u001b[0m\u001b[1;33m\u001b[0m\u001b[0m\n\u001b[0;32m   2122\u001b[0m \u001b[1;33m\u001b[0m\u001b[0m\n",
      "\u001b[1;32m/usr/local/lib/python2.7/dist-packages/IPython/core/magics/execution.pyc\u001b[0m in \u001b[0;36mtime\u001b[1;34m(self, line, cell, local_ns)\u001b[0m\n",
      "\u001b[1;32m/usr/local/lib/python2.7/dist-packages/IPython/core/magic.pyc\u001b[0m in \u001b[0;36m<lambda>\u001b[1;34m(f, *a, **k)\u001b[0m\n\u001b[0;32m    191\u001b[0m     \u001b[1;31m# but it's overkill for just that one bit of state.\u001b[0m\u001b[1;33m\u001b[0m\u001b[1;33m\u001b[0m\u001b[0m\n\u001b[0;32m    192\u001b[0m     \u001b[1;32mdef\u001b[0m \u001b[0mmagic_deco\u001b[0m\u001b[1;33m(\u001b[0m\u001b[0marg\u001b[0m\u001b[1;33m)\u001b[0m\u001b[1;33m:\u001b[0m\u001b[1;33m\u001b[0m\u001b[0m\n\u001b[1;32m--> 193\u001b[1;33m         \u001b[0mcall\u001b[0m \u001b[1;33m=\u001b[0m \u001b[1;32mlambda\u001b[0m \u001b[0mf\u001b[0m\u001b[1;33m,\u001b[0m \u001b[1;33m*\u001b[0m\u001b[0ma\u001b[0m\u001b[1;33m,\u001b[0m \u001b[1;33m**\u001b[0m\u001b[0mk\u001b[0m\u001b[1;33m:\u001b[0m \u001b[0mf\u001b[0m\u001b[1;33m(\u001b[0m\u001b[1;33m*\u001b[0m\u001b[0ma\u001b[0m\u001b[1;33m,\u001b[0m \u001b[1;33m**\u001b[0m\u001b[0mk\u001b[0m\u001b[1;33m)\u001b[0m\u001b[1;33m\u001b[0m\u001b[0m\n\u001b[0m\u001b[0;32m    194\u001b[0m \u001b[1;33m\u001b[0m\u001b[0m\n\u001b[0;32m    195\u001b[0m         \u001b[1;32mif\u001b[0m \u001b[0mcallable\u001b[0m\u001b[1;33m(\u001b[0m\u001b[0marg\u001b[0m\u001b[1;33m)\u001b[0m\u001b[1;33m:\u001b[0m\u001b[1;33m\u001b[0m\u001b[0m\n",
      "\u001b[1;32m/usr/local/lib/python2.7/dist-packages/IPython/core/magics/execution.pyc\u001b[0m in \u001b[0;36mtime\u001b[1;34m(self, line, cell, local_ns)\u001b[0m\n\u001b[0;32m   1175\u001b[0m         \u001b[1;32melse\u001b[0m\u001b[1;33m:\u001b[0m\u001b[1;33m\u001b[0m\u001b[0m\n\u001b[0;32m   1176\u001b[0m             \u001b[0mst\u001b[0m \u001b[1;33m=\u001b[0m \u001b[0mclock2\u001b[0m\u001b[1;33m(\u001b[0m\u001b[1;33m)\u001b[0m\u001b[1;33m\u001b[0m\u001b[0m\n\u001b[1;32m-> 1177\u001b[1;33m             \u001b[1;32mexec\u001b[0m\u001b[1;33m(\u001b[0m\u001b[0mcode\u001b[0m\u001b[1;33m,\u001b[0m \u001b[0mglob\u001b[0m\u001b[1;33m,\u001b[0m \u001b[0mlocal_ns\u001b[0m\u001b[1;33m)\u001b[0m\u001b[1;33m\u001b[0m\u001b[0m\n\u001b[0m\u001b[0;32m   1178\u001b[0m             \u001b[0mend\u001b[0m \u001b[1;33m=\u001b[0m \u001b[0mclock2\u001b[0m\u001b[1;33m(\u001b[0m\u001b[1;33m)\u001b[0m\u001b[1;33m\u001b[0m\u001b[0m\n\u001b[0;32m   1179\u001b[0m             \u001b[0mout\u001b[0m \u001b[1;33m=\u001b[0m \u001b[0mNone\u001b[0m\u001b[1;33m\u001b[0m\u001b[0m\n",
      "\u001b[1;32m<timed exec>\u001b[0m in \u001b[0;36m<module>\u001b[1;34m()\u001b[0m\n",
      "\u001b[1;32m<ipython-input-22-1516ec09136f>\u001b[0m in \u001b[0;36mload_dataset\u001b[1;34m(table, rm_unavail, lim)\u001b[0m\n\u001b[0;32m      2\u001b[0m     \u001b[1;31m# load dataset\u001b[0m\u001b[1;33m\u001b[0m\u001b[1;33m\u001b[0m\u001b[0m\n\u001b[0;32m      3\u001b[0m     \u001b[0mengine\u001b[0m \u001b[1;33m=\u001b[0m \u001b[0mget_engine\u001b[0m\u001b[1;33m(\u001b[0m\u001b[1;33m)\u001b[0m\u001b[1;33m\u001b[0m\u001b[0m\n\u001b[1;32m----> 4\u001b[1;33m     \u001b[0mdataframe\u001b[0m \u001b[1;33m=\u001b[0m \u001b[0mpd\u001b[0m\u001b[1;33m.\u001b[0m\u001b[0mread_sql_query\u001b[0m\u001b[1;33m(\u001b[0m\u001b[1;34m\"select * from {table} {lim}\"\u001b[0m\u001b[1;33m.\u001b[0m\u001b[0mformat\u001b[0m\u001b[1;33m(\u001b[0m\u001b[0mtable\u001b[0m\u001b[1;33m=\u001b[0m\u001b[0mtable\u001b[0m\u001b[1;33m,\u001b[0m\u001b[0mlim\u001b[0m\u001b[1;33m=\u001b[0m\u001b[0mlim\u001b[0m\u001b[1;33m)\u001b[0m\u001b[1;33m,\u001b[0m\u001b[0mengine\u001b[0m\u001b[1;33m)\u001b[0m\u001b[1;33m\u001b[0m\u001b[0m\n\u001b[0m\u001b[0;32m      5\u001b[0m     \u001b[0mdata_dimensions\u001b[0m \u001b[1;33m=\u001b[0m \u001b[1;36m45\u001b[0m\u001b[1;33m\u001b[0m\u001b[0m\n\u001b[0;32m      6\u001b[0m     \u001b[1;32mif\u001b[0m \u001b[0mrm_unavail\u001b[0m\u001b[1;33m:\u001b[0m\u001b[1;33m\u001b[0m\u001b[0m\n",
      "\u001b[1;32m/usr/local/lib/python2.7/dist-packages/pandas/io/sql.pyc\u001b[0m in \u001b[0;36mread_sql_query\u001b[1;34m(sql, con, index_col, coerce_float, params, parse_dates, chunksize)\u001b[0m\n\u001b[0;32m    429\u001b[0m     return pandas_sql.read_query(\n\u001b[0;32m    430\u001b[0m         \u001b[0msql\u001b[0m\u001b[1;33m,\u001b[0m \u001b[0mindex_col\u001b[0m\u001b[1;33m=\u001b[0m\u001b[0mindex_col\u001b[0m\u001b[1;33m,\u001b[0m \u001b[0mparams\u001b[0m\u001b[1;33m=\u001b[0m\u001b[0mparams\u001b[0m\u001b[1;33m,\u001b[0m \u001b[0mcoerce_float\u001b[0m\u001b[1;33m=\u001b[0m\u001b[0mcoerce_float\u001b[0m\u001b[1;33m,\u001b[0m\u001b[1;33m\u001b[0m\u001b[0m\n\u001b[1;32m--> 431\u001b[1;33m         parse_dates=parse_dates, chunksize=chunksize)\n\u001b[0m\u001b[0;32m    432\u001b[0m \u001b[1;33m\u001b[0m\u001b[0m\n\u001b[0;32m    433\u001b[0m \u001b[1;33m\u001b[0m\u001b[0m\n",
      "\u001b[1;32m/usr/local/lib/python2.7/dist-packages/pandas/io/sql.pyc\u001b[0m in \u001b[0;36mread_query\u001b[1;34m(self, sql, index_col, coerce_float, parse_dates, params, chunksize)\u001b[0m\n\u001b[0;32m   1197\u001b[0m                                         parse_dates=parse_dates)\n\u001b[0;32m   1198\u001b[0m         \u001b[1;32melse\u001b[0m\u001b[1;33m:\u001b[0m\u001b[1;33m\u001b[0m\u001b[0m\n\u001b[1;32m-> 1199\u001b[1;33m             \u001b[0mdata\u001b[0m \u001b[1;33m=\u001b[0m \u001b[0mresult\u001b[0m\u001b[1;33m.\u001b[0m\u001b[0mfetchall\u001b[0m\u001b[1;33m(\u001b[0m\u001b[1;33m)\u001b[0m\u001b[1;33m\u001b[0m\u001b[0m\n\u001b[0m\u001b[0;32m   1200\u001b[0m             frame = _wrap_result(data, columns, index_col=index_col,\n\u001b[0;32m   1201\u001b[0m                                  \u001b[0mcoerce_float\u001b[0m\u001b[1;33m=\u001b[0m\u001b[0mcoerce_float\u001b[0m\u001b[1;33m,\u001b[0m\u001b[1;33m\u001b[0m\u001b[0m\n",
      "\u001b[1;32m/usr/local/lib/python2.7/dist-packages/sqlalchemy/engine/result.pyc\u001b[0m in \u001b[0;36mfetchall\u001b[1;34m(self)\u001b[0m\n\u001b[0;32m    962\u001b[0m \u001b[1;33m\u001b[0m\u001b[0m\n\u001b[0;32m    963\u001b[0m         \u001b[1;32mtry\u001b[0m\u001b[1;33m:\u001b[0m\u001b[1;33m\u001b[0m\u001b[0m\n\u001b[1;32m--> 964\u001b[1;33m             \u001b[0ml\u001b[0m \u001b[1;33m=\u001b[0m \u001b[0mself\u001b[0m\u001b[1;33m.\u001b[0m\u001b[0mprocess_rows\u001b[0m\u001b[1;33m(\u001b[0m\u001b[0mself\u001b[0m\u001b[1;33m.\u001b[0m\u001b[0m_fetchall_impl\u001b[0m\u001b[1;33m(\u001b[0m\u001b[1;33m)\u001b[0m\u001b[1;33m)\u001b[0m\u001b[1;33m\u001b[0m\u001b[0m\n\u001b[0m\u001b[0;32m    965\u001b[0m             \u001b[0mself\u001b[0m\u001b[1;33m.\u001b[0m\u001b[0m_soft_close\u001b[0m\u001b[1;33m(\u001b[0m\u001b[1;33m)\u001b[0m\u001b[1;33m\u001b[0m\u001b[0m\n\u001b[0;32m    966\u001b[0m             \u001b[1;32mreturn\u001b[0m \u001b[0ml\u001b[0m\u001b[1;33m\u001b[0m\u001b[0m\n",
      "\u001b[1;32m/usr/local/lib/python2.7/dist-packages/sqlalchemy/engine/result.pyc\u001b[0m in \u001b[0;36m_fetchall_impl\u001b[1;34m(self)\u001b[0m\n\u001b[0;32m    913\u001b[0m     \u001b[1;32mdef\u001b[0m \u001b[0m_fetchall_impl\u001b[0m\u001b[1;33m(\u001b[0m\u001b[0mself\u001b[0m\u001b[1;33m)\u001b[0m\u001b[1;33m:\u001b[0m\u001b[1;33m\u001b[0m\u001b[0m\n\u001b[0;32m    914\u001b[0m         \u001b[1;32mtry\u001b[0m\u001b[1;33m:\u001b[0m\u001b[1;33m\u001b[0m\u001b[0m\n\u001b[1;32m--> 915\u001b[1;33m             \u001b[1;32mreturn\u001b[0m \u001b[0mself\u001b[0m\u001b[1;33m.\u001b[0m\u001b[0mcursor\u001b[0m\u001b[1;33m.\u001b[0m\u001b[0mfetchall\u001b[0m\u001b[1;33m(\u001b[0m\u001b[1;33m)\u001b[0m\u001b[1;33m\u001b[0m\u001b[0m\n\u001b[0m\u001b[0;32m    916\u001b[0m         \u001b[1;32mexcept\u001b[0m \u001b[0mAttributeError\u001b[0m\u001b[1;33m:\u001b[0m\u001b[1;33m\u001b[0m\u001b[0m\n\u001b[0;32m    917\u001b[0m             \u001b[1;32mreturn\u001b[0m \u001b[0mself\u001b[0m\u001b[1;33m.\u001b[0m\u001b[0m_non_result\u001b[0m\u001b[1;33m(\u001b[0m\u001b[1;33m[\u001b[0m\u001b[1;33m]\u001b[0m\u001b[1;33m)\u001b[0m\u001b[1;33m\u001b[0m\u001b[0m\n",
      "\u001b[1;32m/usr/local/lib/python2.7/dist-packages/pg8000/core.pyc\u001b[0m in \u001b[0;36mfetchall\u001b[1;34m(self)\u001b[0m\n\u001b[0;32m    988\u001b[0m         \"\"\"\n\u001b[0;32m    989\u001b[0m         \u001b[1;32mtry\u001b[0m\u001b[1;33m:\u001b[0m\u001b[1;33m\u001b[0m\u001b[0m\n\u001b[1;32m--> 990\u001b[1;33m             \u001b[1;32mreturn\u001b[0m \u001b[0mtuple\u001b[0m\u001b[1;33m(\u001b[0m\u001b[0mself\u001b[0m\u001b[1;33m)\u001b[0m\u001b[1;33m\u001b[0m\u001b[0m\n\u001b[0m\u001b[0;32m    991\u001b[0m         \u001b[1;32mexcept\u001b[0m \u001b[0mTypeError\u001b[0m\u001b[1;33m:\u001b[0m\u001b[1;33m\u001b[0m\u001b[0m\n\u001b[0;32m    992\u001b[0m             \u001b[1;32mraise\u001b[0m \u001b[0mProgrammingError\u001b[0m\u001b[1;33m(\u001b[0m\u001b[1;34m\"attempting to use unexecuted cursor\"\u001b[0m\u001b[1;33m)\u001b[0m\u001b[1;33m\u001b[0m\u001b[0m\n",
      "\u001b[1;32m/usr/local/lib/python2.7/dist-packages/pg8000/core.pyc\u001b[0m in \u001b[0;36m__next__\u001b[1;34m(self)\u001b[0m\n\u001b[0;32m   1029\u001b[0m                     \u001b[0mself\u001b[0m\u001b[1;33m.\u001b[0m\u001b[0m_c\u001b[0m\u001b[1;33m.\u001b[0m\u001b[0msend_EXECUTE\u001b[0m\u001b[1;33m(\u001b[0m\u001b[0mself\u001b[0m\u001b[1;33m)\u001b[0m\u001b[1;33m\u001b[0m\u001b[0m\n\u001b[0;32m   1030\u001b[0m                     \u001b[0mself\u001b[0m\u001b[1;33m.\u001b[0m\u001b[0m_c\u001b[0m\u001b[1;33m.\u001b[0m\u001b[0m_write\u001b[0m\u001b[1;33m(\u001b[0m\u001b[0mSYNC_MSG\u001b[0m\u001b[1;33m)\u001b[0m\u001b[1;33m\u001b[0m\u001b[0m\n\u001b[1;32m-> 1031\u001b[1;33m                     \u001b[0mself\u001b[0m\u001b[1;33m.\u001b[0m\u001b[0m_c\u001b[0m\u001b[1;33m.\u001b[0m\u001b[0m_flush\u001b[0m\u001b[1;33m(\u001b[0m\u001b[1;33m)\u001b[0m\u001b[1;33m\u001b[0m\u001b[0m\n\u001b[0m\u001b[0;32m   1032\u001b[0m                     \u001b[0mself\u001b[0m\u001b[1;33m.\u001b[0m\u001b[0m_c\u001b[0m\u001b[1;33m.\u001b[0m\u001b[0mhandle_messages\u001b[0m\u001b[1;33m(\u001b[0m\u001b[0mself\u001b[0m\u001b[1;33m)\u001b[0m\u001b[1;33m\u001b[0m\u001b[0m\n\u001b[0;32m   1033\u001b[0m                     \u001b[1;32mif\u001b[0m \u001b[1;32mnot\u001b[0m \u001b[0mself\u001b[0m\u001b[1;33m.\u001b[0m\u001b[0mportal_suspended\u001b[0m\u001b[1;33m:\u001b[0m\u001b[1;33m\u001b[0m\u001b[0m\n",
      "\u001b[1;32m/usr/lib/python2.7/socket.pyc\u001b[0m in \u001b[0;36mflush\u001b[1;34m(self)\u001b[0m\n\u001b[0;32m    301\u001b[0m             \u001b[1;32mtry\u001b[0m\u001b[1;33m:\u001b[0m\u001b[1;33m\u001b[0m\u001b[0m\n\u001b[0;32m    302\u001b[0m                 \u001b[1;32mwhile\u001b[0m \u001b[0mwrite_offset\u001b[0m \u001b[1;33m<\u001b[0m \u001b[0mdata_size\u001b[0m\u001b[1;33m:\u001b[0m\u001b[1;33m\u001b[0m\u001b[0m\n\u001b[1;32m--> 303\u001b[1;33m                     \u001b[0mself\u001b[0m\u001b[1;33m.\u001b[0m\u001b[0m_sock\u001b[0m\u001b[1;33m.\u001b[0m\u001b[0msendall\u001b[0m\u001b[1;33m(\u001b[0m\u001b[0mview\u001b[0m\u001b[1;33m[\u001b[0m\u001b[0mwrite_offset\u001b[0m\u001b[1;33m:\u001b[0m\u001b[0mwrite_offset\u001b[0m\u001b[1;33m+\u001b[0m\u001b[0mbuffer_size\u001b[0m\u001b[1;33m]\u001b[0m\u001b[1;33m)\u001b[0m\u001b[1;33m\u001b[0m\u001b[0m\n\u001b[0m\u001b[0;32m    304\u001b[0m                     \u001b[0mwrite_offset\u001b[0m \u001b[1;33m+=\u001b[0m \u001b[0mbuffer_size\u001b[0m\u001b[1;33m\u001b[0m\u001b[0m\n\u001b[0;32m    305\u001b[0m             \u001b[1;32mfinally\u001b[0m\u001b[1;33m:\u001b[0m\u001b[1;33m\u001b[0m\u001b[0m\n",
      "\u001b[1;31mKeyboardInterrupt\u001b[0m: "
     ]
    }
   ],
   "source": [
    "%%time\n",
    "\n",
    "table = \"data_fraud\"\n",
    "load_dataset(table,rm_unavail=True)"
   ]
  },
  {
   "cell_type": "code",
   "execution_count": 24,
   "metadata": {
    "scrolled": true
   },
   "outputs": [
    {
     "name": "stdout",
     "output_type": "stream",
     "text": [
      "Shape [(500000, 47)]\n",
      "Fraud 0.13% \n",
      "('Total #samples:', 500000)\n",
      "shapes: X[(500000, 44)]=====Y[(500000, 2)]\n",
      "Shape [(600000, 47)]\n",
      "Fraud 16.6666666667% \n",
      "('Total #samples:', 600000)\n",
      "shapes: X[(600000, 44)]=====Y[(600000, 2)]\n",
      "(500000, 44)\n",
      "(500000, 2)\n"
     ]
    },
    {
     "ename": "KeyboardInterrupt",
     "evalue": "",
     "output_type": "error",
     "traceback": [
      "\u001b[1;31m---------------------------------------------------------------------------\u001b[0m",
      "\u001b[1;31mKeyboardInterrupt\u001b[0m                         Traceback (most recent call last)",
      "\u001b[1;32m<ipython-input-24-4fc4eb16a0b1>\u001b[0m in \u001b[0;36m<module>\u001b[1;34m()\u001b[0m\n\u001b[0;32m     14\u001b[0m     \u001b[0mm4\u001b[0m \u001b[1;33m=\u001b[0m \u001b[1;33m(\u001b[0m\u001b[1;34m'mlp_2'\u001b[0m\u001b[1;33m,\u001b[0m\u001b[0mKerasClassifier\u001b[0m\u001b[1;33m(\u001b[0m\u001b[0mbuild_fn\u001b[0m\u001b[1;33m=\u001b[0m\u001b[0mkeras_mlp_model\u001b[0m\u001b[1;33m,\u001b[0m\u001b[0minput_dimensions\u001b[0m\u001b[1;33m=\u001b[0m\u001b[0mX_sub\u001b[0m\u001b[1;33m.\u001b[0m\u001b[0mshape\u001b[0m\u001b[1;33m[\u001b[0m\u001b[1;36m1\u001b[0m\u001b[1;33m]\u001b[0m\u001b[1;33m,\u001b[0m \u001b[0mhidden\u001b[0m\u001b[1;33m=\u001b[0m\u001b[1;36m100\u001b[0m\u001b[1;33m,\u001b[0m\u001b[0mlayers\u001b[0m\u001b[1;33m=\u001b[0m\u001b[1;36m1\u001b[0m\u001b[1;33m,\u001b[0m \u001b[0mnb_epoch\u001b[0m\u001b[1;33m=\u001b[0m\u001b[0mnb_epochs\u001b[0m\u001b[1;33m,\u001b[0m \u001b[0mbatch_size\u001b[0m\u001b[1;33m=\u001b[0m\u001b[1;36m10000\u001b[0m\u001b[1;33m,\u001b[0m \u001b[0mverbose\u001b[0m\u001b[1;33m=\u001b[0m\u001b[1;36m0\u001b[0m\u001b[1;33m)\u001b[0m\u001b[1;33m)\u001b[0m\u001b[1;33m\u001b[0m\u001b[0m\n\u001b[0;32m     15\u001b[0m     \u001b[0mm5\u001b[0m \u001b[1;33m=\u001b[0m \u001b[1;33m(\u001b[0m\u001b[1;34m'mlp_3'\u001b[0m\u001b[1;33m,\u001b[0m\u001b[0mKerasClassifier\u001b[0m\u001b[1;33m(\u001b[0m\u001b[0mbuild_fn\u001b[0m\u001b[1;33m=\u001b[0m\u001b[0mkeras_mlp_model\u001b[0m\u001b[1;33m,\u001b[0m\u001b[0minput_dimensions\u001b[0m\u001b[1;33m=\u001b[0m\u001b[0mX_sub\u001b[0m\u001b[1;33m.\u001b[0m\u001b[0mshape\u001b[0m\u001b[1;33m[\u001b[0m\u001b[1;36m1\u001b[0m\u001b[1;33m]\u001b[0m\u001b[1;33m,\u001b[0m \u001b[0mhidden\u001b[0m\u001b[1;33m=\u001b[0m\u001b[1;36m100\u001b[0m\u001b[1;33m,\u001b[0m\u001b[0mlayers\u001b[0m\u001b[1;33m=\u001b[0m\u001b[1;36m2\u001b[0m\u001b[1;33m,\u001b[0m \u001b[0mnb_epoch\u001b[0m\u001b[1;33m=\u001b[0m\u001b[0mnb_epochs\u001b[0m\u001b[1;33m,\u001b[0m \u001b[0mbatch_size\u001b[0m\u001b[1;33m=\u001b[0m\u001b[1;36m10000\u001b[0m\u001b[1;33m,\u001b[0m \u001b[0mverbose\u001b[0m\u001b[1;33m=\u001b[0m\u001b[1;36m0\u001b[0m\u001b[1;33m)\u001b[0m\u001b[1;33m)\u001b[0m\u001b[1;33m\u001b[0m\u001b[0m\n\u001b[1;32m---> 16\u001b[1;33m     \u001b[0mresults\u001b[0m \u001b[1;33m=\u001b[0m \u001b[0mcompare\u001b[0m\u001b[1;33m(\u001b[0m\u001b[1;33m{\u001b[0m\u001b[0mm1\u001b[0m\u001b[1;33m:\u001b[0m\u001b[0mNone\u001b[0m\u001b[1;33m,\u001b[0m\u001b[0mm4\u001b[0m\u001b[1;33m:\u001b[0m\u001b[0mNone\u001b[0m\u001b[1;33m,\u001b[0m\u001b[0mm5\u001b[0m\u001b[1;33m:\u001b[0m\u001b[0mNone\u001b[0m\u001b[1;33m}\u001b[0m\u001b[1;33m,\u001b[0m\u001b[0mX_sub\u001b[0m\u001b[1;33m,\u001b[0m\u001b[0mY_sub\u001b[0m\u001b[1;33m)\u001b[0m\u001b[1;33m\u001b[0m\u001b[0m\n\u001b[0m\u001b[0;32m     17\u001b[0m     \u001b[0mcompare_report\u001b[0m\u001b[1;33m(\u001b[0m\u001b[0mresults\u001b[0m\u001b[1;33m)\u001b[0m\u001b[1;33m\u001b[0m\u001b[0m\n",
      "\u001b[1;32m<ipython-input-20-0e9ef0f3c356>\u001b[0m in \u001b[0;36mcompare\u001b[1;34m(models, X, Y, scale)\u001b[0m\n\u001b[0;32m     21\u001b[0m         \u001b[0mY_shape\u001b[0m \u001b[1;33m=\u001b[0m \u001b[0mY\u001b[0m\u001b[1;33m[\u001b[0m\u001b[1;33m:\u001b[0m\u001b[1;33m]\u001b[0m \u001b[1;32mif\u001b[0m \u001b[0mmodels\u001b[0m\u001b[1;33m[\u001b[0m\u001b[0mm\u001b[0m\u001b[1;33m]\u001b[0m \u001b[1;33m==\u001b[0m \u001b[0mNone\u001b[0m \u001b[1;32melse\u001b[0m \u001b[0mY\u001b[0m\u001b[1;33m[\u001b[0m\u001b[1;33m:\u001b[0m\u001b[1;33m,\u001b[0m\u001b[0mmodels\u001b[0m\u001b[1;33m[\u001b[0m\u001b[0mm\u001b[0m\u001b[1;33m]\u001b[0m\u001b[1;33m]\u001b[0m\u001b[1;33m\u001b[0m\u001b[0m\n\u001b[0;32m     22\u001b[0m \u001b[1;31m#         from IPython.core.debugger import Tracer; Tracer()()\u001b[0m\u001b[1;33m\u001b[0m\u001b[1;33m\u001b[0m\u001b[0m\n\u001b[1;32m---> 23\u001b[1;33m         \u001b[0mresults\u001b[0m\u001b[1;33m[\u001b[0m\u001b[0mm\u001b[0m\u001b[1;33m]\u001b[0m \u001b[1;33m=\u001b[0m \u001b[0mcross_val_score\u001b[0m\u001b[1;33m(\u001b[0m\u001b[0mpipeline\u001b[0m\u001b[1;33m,\u001b[0m \u001b[0mX\u001b[0m\u001b[1;33m,\u001b[0m \u001b[0mY_shape\u001b[0m\u001b[1;33m,\u001b[0m \u001b[0mcv\u001b[0m\u001b[1;33m=\u001b[0m\u001b[0mkfold\u001b[0m\u001b[1;33m,\u001b[0m \u001b[0mscoring\u001b[0m\u001b[1;33m=\u001b[0m\u001b[1;34m'roc_auc'\u001b[0m\u001b[1;33m,\u001b[0m\u001b[0mn_jobs\u001b[0m\u001b[1;33m=\u001b[0m\u001b[1;36m1\u001b[0m\u001b[1;33m)\u001b[0m\u001b[1;33m\u001b[0m\u001b[0m\n\u001b[0m\u001b[0;32m     24\u001b[0m     \u001b[1;32mreturn\u001b[0m \u001b[0mresults\u001b[0m\u001b[1;33m\u001b[0m\u001b[0m\n\u001b[0;32m     25\u001b[0m \u001b[1;33m\u001b[0m\u001b[0m\n",
      "\u001b[1;32m/home/botty/Documents/scikit-learn/sklearn/model_selection/_validation.pyc\u001b[0m in \u001b[0;36mcross_val_score\u001b[1;34m(estimator, X, y, groups, scoring, cv, n_jobs, verbose, fit_params, pre_dispatch)\u001b[0m\n\u001b[0;32m    138\u001b[0m                                               \u001b[0mtrain\u001b[0m\u001b[1;33m,\u001b[0m \u001b[0mtest\u001b[0m\u001b[1;33m,\u001b[0m \u001b[0mverbose\u001b[0m\u001b[1;33m,\u001b[0m \u001b[0mNone\u001b[0m\u001b[1;33m,\u001b[0m\u001b[1;33m\u001b[0m\u001b[0m\n\u001b[0;32m    139\u001b[0m                                               fit_params)\n\u001b[1;32m--> 140\u001b[1;33m                       for train, test in cv.split(X, y, groups))\n\u001b[0m\u001b[0;32m    141\u001b[0m     \u001b[1;32mreturn\u001b[0m \u001b[0mnp\u001b[0m\u001b[1;33m.\u001b[0m\u001b[0marray\u001b[0m\u001b[1;33m(\u001b[0m\u001b[0mscores\u001b[0m\u001b[1;33m)\u001b[0m\u001b[1;33m[\u001b[0m\u001b[1;33m:\u001b[0m\u001b[1;33m,\u001b[0m \u001b[1;36m0\u001b[0m\u001b[1;33m]\u001b[0m\u001b[1;33m\u001b[0m\u001b[0m\n\u001b[0;32m    142\u001b[0m \u001b[1;33m\u001b[0m\u001b[0m\n",
      "\u001b[1;32m/home/botty/Documents/scikit-learn/sklearn/externals/joblib/parallel.pyc\u001b[0m in \u001b[0;36m__call__\u001b[1;34m(self, iterable)\u001b[0m\n\u001b[0;32m    777\u001b[0m             \u001b[1;31m# was dispatched. In particular this covers the edge\u001b[0m\u001b[1;33m\u001b[0m\u001b[1;33m\u001b[0m\u001b[0m\n\u001b[0;32m    778\u001b[0m             \u001b[1;31m# case of Parallel used with an exhausted iterator.\u001b[0m\u001b[1;33m\u001b[0m\u001b[1;33m\u001b[0m\u001b[0m\n\u001b[1;32m--> 779\u001b[1;33m             \u001b[1;32mwhile\u001b[0m \u001b[0mself\u001b[0m\u001b[1;33m.\u001b[0m\u001b[0mdispatch_one_batch\u001b[0m\u001b[1;33m(\u001b[0m\u001b[0miterator\u001b[0m\u001b[1;33m)\u001b[0m\u001b[1;33m:\u001b[0m\u001b[1;33m\u001b[0m\u001b[0m\n\u001b[0m\u001b[0;32m    780\u001b[0m                 \u001b[0mself\u001b[0m\u001b[1;33m.\u001b[0m\u001b[0m_iterating\u001b[0m \u001b[1;33m=\u001b[0m \u001b[0mTrue\u001b[0m\u001b[1;33m\u001b[0m\u001b[0m\n\u001b[0;32m    781\u001b[0m             \u001b[1;32melse\u001b[0m\u001b[1;33m:\u001b[0m\u001b[1;33m\u001b[0m\u001b[0m\n",
      "\u001b[1;32m/home/botty/Documents/scikit-learn/sklearn/externals/joblib/parallel.pyc\u001b[0m in \u001b[0;36mdispatch_one_batch\u001b[1;34m(self, iterator)\u001b[0m\n\u001b[0;32m    623\u001b[0m                 \u001b[1;32mreturn\u001b[0m \u001b[0mFalse\u001b[0m\u001b[1;33m\u001b[0m\u001b[0m\n\u001b[0;32m    624\u001b[0m             \u001b[1;32melse\u001b[0m\u001b[1;33m:\u001b[0m\u001b[1;33m\u001b[0m\u001b[0m\n\u001b[1;32m--> 625\u001b[1;33m                 \u001b[0mself\u001b[0m\u001b[1;33m.\u001b[0m\u001b[0m_dispatch\u001b[0m\u001b[1;33m(\u001b[0m\u001b[0mtasks\u001b[0m\u001b[1;33m)\u001b[0m\u001b[1;33m\u001b[0m\u001b[0m\n\u001b[0m\u001b[0;32m    626\u001b[0m                 \u001b[1;32mreturn\u001b[0m \u001b[0mTrue\u001b[0m\u001b[1;33m\u001b[0m\u001b[0m\n\u001b[0;32m    627\u001b[0m \u001b[1;33m\u001b[0m\u001b[0m\n",
      "\u001b[1;32m/home/botty/Documents/scikit-learn/sklearn/externals/joblib/parallel.pyc\u001b[0m in \u001b[0;36m_dispatch\u001b[1;34m(self, batch)\u001b[0m\n\u001b[0;32m    586\u001b[0m         \u001b[0mdispatch_timestamp\u001b[0m \u001b[1;33m=\u001b[0m \u001b[0mtime\u001b[0m\u001b[1;33m.\u001b[0m\u001b[0mtime\u001b[0m\u001b[1;33m(\u001b[0m\u001b[1;33m)\u001b[0m\u001b[1;33m\u001b[0m\u001b[0m\n\u001b[0;32m    587\u001b[0m         \u001b[0mcb\u001b[0m \u001b[1;33m=\u001b[0m \u001b[0mBatchCompletionCallBack\u001b[0m\u001b[1;33m(\u001b[0m\u001b[0mdispatch_timestamp\u001b[0m\u001b[1;33m,\u001b[0m \u001b[0mlen\u001b[0m\u001b[1;33m(\u001b[0m\u001b[0mbatch\u001b[0m\u001b[1;33m)\u001b[0m\u001b[1;33m,\u001b[0m \u001b[0mself\u001b[0m\u001b[1;33m)\u001b[0m\u001b[1;33m\u001b[0m\u001b[0m\n\u001b[1;32m--> 588\u001b[1;33m         \u001b[0mjob\u001b[0m \u001b[1;33m=\u001b[0m \u001b[0mself\u001b[0m\u001b[1;33m.\u001b[0m\u001b[0m_backend\u001b[0m\u001b[1;33m.\u001b[0m\u001b[0mapply_async\u001b[0m\u001b[1;33m(\u001b[0m\u001b[0mbatch\u001b[0m\u001b[1;33m,\u001b[0m \u001b[0mcallback\u001b[0m\u001b[1;33m=\u001b[0m\u001b[0mcb\u001b[0m\u001b[1;33m)\u001b[0m\u001b[1;33m\u001b[0m\u001b[0m\n\u001b[0m\u001b[0;32m    589\u001b[0m         \u001b[0mself\u001b[0m\u001b[1;33m.\u001b[0m\u001b[0m_jobs\u001b[0m\u001b[1;33m.\u001b[0m\u001b[0mappend\u001b[0m\u001b[1;33m(\u001b[0m\u001b[0mjob\u001b[0m\u001b[1;33m)\u001b[0m\u001b[1;33m\u001b[0m\u001b[0m\n\u001b[0;32m    590\u001b[0m \u001b[1;33m\u001b[0m\u001b[0m\n",
      "\u001b[1;32m/home/botty/Documents/scikit-learn/sklearn/externals/joblib/_parallel_backends.pyc\u001b[0m in \u001b[0;36mapply_async\u001b[1;34m(self, func, callback)\u001b[0m\n\u001b[0;32m    109\u001b[0m     \u001b[1;32mdef\u001b[0m \u001b[0mapply_async\u001b[0m\u001b[1;33m(\u001b[0m\u001b[0mself\u001b[0m\u001b[1;33m,\u001b[0m \u001b[0mfunc\u001b[0m\u001b[1;33m,\u001b[0m \u001b[0mcallback\u001b[0m\u001b[1;33m=\u001b[0m\u001b[0mNone\u001b[0m\u001b[1;33m)\u001b[0m\u001b[1;33m:\u001b[0m\u001b[1;33m\u001b[0m\u001b[0m\n\u001b[0;32m    110\u001b[0m         \u001b[1;34m\"\"\"Schedule a func to be run\"\"\"\u001b[0m\u001b[1;33m\u001b[0m\u001b[0m\n\u001b[1;32m--> 111\u001b[1;33m         \u001b[0mresult\u001b[0m \u001b[1;33m=\u001b[0m \u001b[0mImmediateResult\u001b[0m\u001b[1;33m(\u001b[0m\u001b[0mfunc\u001b[0m\u001b[1;33m)\u001b[0m\u001b[1;33m\u001b[0m\u001b[0m\n\u001b[0m\u001b[0;32m    112\u001b[0m         \u001b[1;32mif\u001b[0m \u001b[0mcallback\u001b[0m\u001b[1;33m:\u001b[0m\u001b[1;33m\u001b[0m\u001b[0m\n\u001b[0;32m    113\u001b[0m             \u001b[0mcallback\u001b[0m\u001b[1;33m(\u001b[0m\u001b[0mresult\u001b[0m\u001b[1;33m)\u001b[0m\u001b[1;33m\u001b[0m\u001b[0m\n",
      "\u001b[1;32m/home/botty/Documents/scikit-learn/sklearn/externals/joblib/_parallel_backends.pyc\u001b[0m in \u001b[0;36m__init__\u001b[1;34m(self, batch)\u001b[0m\n\u001b[0;32m    330\u001b[0m         \u001b[1;31m# Don't delay the application, to avoid keeping the input\u001b[0m\u001b[1;33m\u001b[0m\u001b[1;33m\u001b[0m\u001b[0m\n\u001b[0;32m    331\u001b[0m         \u001b[1;31m# arguments in memory\u001b[0m\u001b[1;33m\u001b[0m\u001b[1;33m\u001b[0m\u001b[0m\n\u001b[1;32m--> 332\u001b[1;33m         \u001b[0mself\u001b[0m\u001b[1;33m.\u001b[0m\u001b[0mresults\u001b[0m \u001b[1;33m=\u001b[0m \u001b[0mbatch\u001b[0m\u001b[1;33m(\u001b[0m\u001b[1;33m)\u001b[0m\u001b[1;33m\u001b[0m\u001b[0m\n\u001b[0m\u001b[0;32m    333\u001b[0m \u001b[1;33m\u001b[0m\u001b[0m\n\u001b[0;32m    334\u001b[0m     \u001b[1;32mdef\u001b[0m \u001b[0mget\u001b[0m\u001b[1;33m(\u001b[0m\u001b[0mself\u001b[0m\u001b[1;33m)\u001b[0m\u001b[1;33m:\u001b[0m\u001b[1;33m\u001b[0m\u001b[0m\n",
      "\u001b[1;32m/home/botty/Documents/scikit-learn/sklearn/externals/joblib/parallel.pyc\u001b[0m in \u001b[0;36m__call__\u001b[1;34m(self)\u001b[0m\n\u001b[0;32m    129\u001b[0m \u001b[1;33m\u001b[0m\u001b[0m\n\u001b[0;32m    130\u001b[0m     \u001b[1;32mdef\u001b[0m \u001b[0m__call__\u001b[0m\u001b[1;33m(\u001b[0m\u001b[0mself\u001b[0m\u001b[1;33m)\u001b[0m\u001b[1;33m:\u001b[0m\u001b[1;33m\u001b[0m\u001b[0m\n\u001b[1;32m--> 131\u001b[1;33m         \u001b[1;32mreturn\u001b[0m \u001b[1;33m[\u001b[0m\u001b[0mfunc\u001b[0m\u001b[1;33m(\u001b[0m\u001b[1;33m*\u001b[0m\u001b[0margs\u001b[0m\u001b[1;33m,\u001b[0m \u001b[1;33m**\u001b[0m\u001b[0mkwargs\u001b[0m\u001b[1;33m)\u001b[0m \u001b[1;32mfor\u001b[0m \u001b[0mfunc\u001b[0m\u001b[1;33m,\u001b[0m \u001b[0margs\u001b[0m\u001b[1;33m,\u001b[0m \u001b[0mkwargs\u001b[0m \u001b[1;32min\u001b[0m \u001b[0mself\u001b[0m\u001b[1;33m.\u001b[0m\u001b[0mitems\u001b[0m\u001b[1;33m]\u001b[0m\u001b[1;33m\u001b[0m\u001b[0m\n\u001b[0m\u001b[0;32m    132\u001b[0m \u001b[1;33m\u001b[0m\u001b[0m\n\u001b[0;32m    133\u001b[0m     \u001b[1;32mdef\u001b[0m \u001b[0m__len__\u001b[0m\u001b[1;33m(\u001b[0m\u001b[0mself\u001b[0m\u001b[1;33m)\u001b[0m\u001b[1;33m:\u001b[0m\u001b[1;33m\u001b[0m\u001b[0m\n",
      "\u001b[1;32m/home/botty/Documents/scikit-learn/sklearn/model_selection/_validation.pyc\u001b[0m in \u001b[0;36m_fit_and_score\u001b[1;34m(estimator, X, y, scorer, train, test, verbose, parameters, fit_params, return_train_score, return_parameters, return_n_test_samples, return_times, error_score)\u001b[0m\n\u001b[0;32m    236\u001b[0m             \u001b[0mestimator\u001b[0m\u001b[1;33m.\u001b[0m\u001b[0mfit\u001b[0m\u001b[1;33m(\u001b[0m\u001b[0mX_train\u001b[0m\u001b[1;33m,\u001b[0m \u001b[1;33m**\u001b[0m\u001b[0mfit_params\u001b[0m\u001b[1;33m)\u001b[0m\u001b[1;33m\u001b[0m\u001b[0m\n\u001b[0;32m    237\u001b[0m         \u001b[1;32melse\u001b[0m\u001b[1;33m:\u001b[0m\u001b[1;33m\u001b[0m\u001b[0m\n\u001b[1;32m--> 238\u001b[1;33m             \u001b[0mestimator\u001b[0m\u001b[1;33m.\u001b[0m\u001b[0mfit\u001b[0m\u001b[1;33m(\u001b[0m\u001b[0mX_train\u001b[0m\u001b[1;33m,\u001b[0m \u001b[0my_train\u001b[0m\u001b[1;33m,\u001b[0m \u001b[1;33m**\u001b[0m\u001b[0mfit_params\u001b[0m\u001b[1;33m)\u001b[0m\u001b[1;33m\u001b[0m\u001b[0m\n\u001b[0m\u001b[0;32m    239\u001b[0m \u001b[1;33m\u001b[0m\u001b[0m\n\u001b[0;32m    240\u001b[0m     \u001b[1;32mexcept\u001b[0m \u001b[0mException\u001b[0m \u001b[1;32mas\u001b[0m \u001b[0me\u001b[0m\u001b[1;33m:\u001b[0m\u001b[1;33m\u001b[0m\u001b[0m\n",
      "\u001b[1;32m/home/botty/Documents/scikit-learn/sklearn/pipeline.pyc\u001b[0m in \u001b[0;36mfit\u001b[1;34m(self, X, y, **fit_params)\u001b[0m\n\u001b[0;32m    307\u001b[0m         \u001b[0mXt\u001b[0m\u001b[1;33m,\u001b[0m \u001b[0mfit_params\u001b[0m \u001b[1;33m=\u001b[0m \u001b[0mself\u001b[0m\u001b[1;33m.\u001b[0m\u001b[0m_fit\u001b[0m\u001b[1;33m(\u001b[0m\u001b[0mX\u001b[0m\u001b[1;33m,\u001b[0m \u001b[0my\u001b[0m\u001b[1;33m,\u001b[0m \u001b[1;33m**\u001b[0m\u001b[0mfit_params\u001b[0m\u001b[1;33m)\u001b[0m\u001b[1;33m\u001b[0m\u001b[0m\n\u001b[0;32m    308\u001b[0m         \u001b[1;32mif\u001b[0m \u001b[0mself\u001b[0m\u001b[1;33m.\u001b[0m\u001b[0m_final_estimator\u001b[0m \u001b[1;32mis\u001b[0m \u001b[1;32mnot\u001b[0m \u001b[0mNone\u001b[0m\u001b[1;33m:\u001b[0m\u001b[1;33m\u001b[0m\u001b[0m\n\u001b[1;32m--> 309\u001b[1;33m             \u001b[0mself\u001b[0m\u001b[1;33m.\u001b[0m\u001b[0m_final_estimator\u001b[0m\u001b[1;33m.\u001b[0m\u001b[0mfit\u001b[0m\u001b[1;33m(\u001b[0m\u001b[0mXt\u001b[0m\u001b[1;33m,\u001b[0m \u001b[0my\u001b[0m\u001b[1;33m,\u001b[0m \u001b[1;33m**\u001b[0m\u001b[0mfit_params\u001b[0m\u001b[1;33m)\u001b[0m\u001b[1;33m\u001b[0m\u001b[0m\n\u001b[0m\u001b[0;32m    310\u001b[0m         \u001b[1;32mreturn\u001b[0m \u001b[0mself\u001b[0m\u001b[1;33m\u001b[0m\u001b[0m\n\u001b[0;32m    311\u001b[0m \u001b[1;33m\u001b[0m\u001b[0m\n",
      "\u001b[1;32m/usr/local/lib/python2.7/dist-packages/Keras-1.2.1.1-py2.7.egg/keras/wrappers/scikit_learn.pyc\u001b[0m in \u001b[0;36mfit\u001b[1;34m(self, x, y, **kwargs)\u001b[0m\n\u001b[0;32m    143\u001b[0m         \u001b[0mfit_args\u001b[0m\u001b[1;33m.\u001b[0m\u001b[0mupdate\u001b[0m\u001b[1;33m(\u001b[0m\u001b[0mkwargs\u001b[0m\u001b[1;33m)\u001b[0m\u001b[1;33m\u001b[0m\u001b[0m\n\u001b[0;32m    144\u001b[0m \u001b[1;33m\u001b[0m\u001b[0m\n\u001b[1;32m--> 145\u001b[1;33m         \u001b[0mhistory\u001b[0m \u001b[1;33m=\u001b[0m \u001b[0mself\u001b[0m\u001b[1;33m.\u001b[0m\u001b[0mmodel\u001b[0m\u001b[1;33m.\u001b[0m\u001b[0mfit\u001b[0m\u001b[1;33m(\u001b[0m\u001b[0mx\u001b[0m\u001b[1;33m,\u001b[0m \u001b[0my\u001b[0m\u001b[1;33m,\u001b[0m \u001b[1;33m**\u001b[0m\u001b[0mfit_args\u001b[0m\u001b[1;33m)\u001b[0m\u001b[1;33m\u001b[0m\u001b[0m\n\u001b[0m\u001b[0;32m    146\u001b[0m \u001b[1;33m\u001b[0m\u001b[0m\n\u001b[0;32m    147\u001b[0m         \u001b[1;32mreturn\u001b[0m \u001b[0mhistory\u001b[0m\u001b[1;33m\u001b[0m\u001b[0m\n",
      "\u001b[1;32m/usr/local/lib/python2.7/dist-packages/Keras-1.2.1.1-py2.7.egg/keras/models.pyc\u001b[0m in \u001b[0;36mfit\u001b[1;34m(self, x, y, batch_size, nb_epoch, verbose, callbacks, validation_split, validation_data, shuffle, class_weight, sample_weight, initial_epoch, **kwargs)\u001b[0m\n\u001b[0;32m    670\u001b[0m                               \u001b[0mclass_weight\u001b[0m\u001b[1;33m=\u001b[0m\u001b[0mclass_weight\u001b[0m\u001b[1;33m,\u001b[0m\u001b[1;33m\u001b[0m\u001b[0m\n\u001b[0;32m    671\u001b[0m                               \u001b[0msample_weight\u001b[0m\u001b[1;33m=\u001b[0m\u001b[0msample_weight\u001b[0m\u001b[1;33m,\u001b[0m\u001b[1;33m\u001b[0m\u001b[0m\n\u001b[1;32m--> 672\u001b[1;33m                               initial_epoch=initial_epoch)\n\u001b[0m\u001b[0;32m    673\u001b[0m \u001b[1;33m\u001b[0m\u001b[0m\n\u001b[0;32m    674\u001b[0m     def evaluate(self, x, y, batch_size=32, verbose=1,\n",
      "\u001b[1;32m/usr/local/lib/python2.7/dist-packages/Keras-1.2.1.1-py2.7.egg/keras/engine/training.pyc\u001b[0m in \u001b[0;36mfit\u001b[1;34m(self, x, y, batch_size, nb_epoch, verbose, callbacks, validation_split, validation_data, shuffle, class_weight, sample_weight, initial_epoch)\u001b[0m\n\u001b[0;32m   1190\u001b[0m                               \u001b[0mval_f\u001b[0m\u001b[1;33m=\u001b[0m\u001b[0mval_f\u001b[0m\u001b[1;33m,\u001b[0m \u001b[0mval_ins\u001b[0m\u001b[1;33m=\u001b[0m\u001b[0mval_ins\u001b[0m\u001b[1;33m,\u001b[0m \u001b[0mshuffle\u001b[0m\u001b[1;33m=\u001b[0m\u001b[0mshuffle\u001b[0m\u001b[1;33m,\u001b[0m\u001b[1;33m\u001b[0m\u001b[0m\n\u001b[0;32m   1191\u001b[0m                               \u001b[0mcallback_metrics\u001b[0m\u001b[1;33m=\u001b[0m\u001b[0mcallback_metrics\u001b[0m\u001b[1;33m,\u001b[0m\u001b[1;33m\u001b[0m\u001b[0m\n\u001b[1;32m-> 1192\u001b[1;33m                               initial_epoch=initial_epoch)\n\u001b[0m\u001b[0;32m   1193\u001b[0m \u001b[1;33m\u001b[0m\u001b[0m\n\u001b[0;32m   1194\u001b[0m     \u001b[1;32mdef\u001b[0m \u001b[0mevaluate\u001b[0m\u001b[1;33m(\u001b[0m\u001b[0mself\u001b[0m\u001b[1;33m,\u001b[0m \u001b[0mx\u001b[0m\u001b[1;33m,\u001b[0m \u001b[0my\u001b[0m\u001b[1;33m,\u001b[0m \u001b[0mbatch_size\u001b[0m\u001b[1;33m=\u001b[0m\u001b[1;36m32\u001b[0m\u001b[1;33m,\u001b[0m \u001b[0mverbose\u001b[0m\u001b[1;33m=\u001b[0m\u001b[1;36m1\u001b[0m\u001b[1;33m,\u001b[0m \u001b[0msample_weight\u001b[0m\u001b[1;33m=\u001b[0m\u001b[0mNone\u001b[0m\u001b[1;33m)\u001b[0m\u001b[1;33m:\u001b[0m\u001b[1;33m\u001b[0m\u001b[0m\n",
      "\u001b[1;32m/usr/local/lib/python2.7/dist-packages/Keras-1.2.1.1-py2.7.egg/keras/engine/training.pyc\u001b[0m in \u001b[0;36m_fit_loop\u001b[1;34m(self, f, ins, out_labels, batch_size, nb_epoch, verbose, callbacks, val_f, val_ins, shuffle, callback_metrics, initial_epoch)\u001b[0m\n\u001b[0;32m    881\u001b[0m                         \u001b[0mins_batch\u001b[0m \u001b[1;33m=\u001b[0m \u001b[0mslice_X\u001b[0m\u001b[1;33m(\u001b[0m\u001b[0mins\u001b[0m\u001b[1;33m[\u001b[0m\u001b[1;33m:\u001b[0m\u001b[1;33m-\u001b[0m\u001b[1;36m1\u001b[0m\u001b[1;33m]\u001b[0m\u001b[1;33m,\u001b[0m \u001b[0mbatch_ids\u001b[0m\u001b[1;33m)\u001b[0m \u001b[1;33m+\u001b[0m \u001b[1;33m[\u001b[0m\u001b[0mins\u001b[0m\u001b[1;33m[\u001b[0m\u001b[1;33m-\u001b[0m\u001b[1;36m1\u001b[0m\u001b[1;33m]\u001b[0m\u001b[1;33m]\u001b[0m\u001b[1;33m\u001b[0m\u001b[0m\n\u001b[0;32m    882\u001b[0m                     \u001b[1;32melse\u001b[0m\u001b[1;33m:\u001b[0m\u001b[1;33m\u001b[0m\u001b[0m\n\u001b[1;32m--> 883\u001b[1;33m                         \u001b[0mins_batch\u001b[0m \u001b[1;33m=\u001b[0m \u001b[0mslice_X\u001b[0m\u001b[1;33m(\u001b[0m\u001b[0mins\u001b[0m\u001b[1;33m,\u001b[0m \u001b[0mbatch_ids\u001b[0m\u001b[1;33m)\u001b[0m\u001b[1;33m\u001b[0m\u001b[0m\n\u001b[0m\u001b[0;32m    884\u001b[0m                 \u001b[1;32mexcept\u001b[0m \u001b[0mTypeError\u001b[0m\u001b[1;33m:\u001b[0m\u001b[1;33m\u001b[0m\u001b[0m\n\u001b[0;32m    885\u001b[0m                     raise TypeError('TypeError while preparing batch. '\n",
      "\u001b[1;32m/usr/local/lib/python2.7/dist-packages/Keras-1.2.1.1-py2.7.egg/keras/engine/training.pyc\u001b[0m in \u001b[0;36mslice_X\u001b[1;34m(X, start, stop)\u001b[0m\n\u001b[0;32m    297\u001b[0m             \u001b[1;32mif\u001b[0m \u001b[0mhasattr\u001b[0m\u001b[1;33m(\u001b[0m\u001b[0mstart\u001b[0m\u001b[1;33m,\u001b[0m \u001b[1;34m'shape'\u001b[0m\u001b[1;33m)\u001b[0m\u001b[1;33m:\u001b[0m\u001b[1;33m\u001b[0m\u001b[0m\n\u001b[0;32m    298\u001b[0m                 \u001b[0mstart\u001b[0m \u001b[1;33m=\u001b[0m \u001b[0mstart\u001b[0m\u001b[1;33m.\u001b[0m\u001b[0mtolist\u001b[0m\u001b[1;33m(\u001b[0m\u001b[1;33m)\u001b[0m\u001b[1;33m\u001b[0m\u001b[0m\n\u001b[1;32m--> 299\u001b[1;33m             \u001b[1;32mreturn\u001b[0m \u001b[1;33m[\u001b[0m\u001b[0mx\u001b[0m\u001b[1;33m[\u001b[0m\u001b[0mstart\u001b[0m\u001b[1;33m]\u001b[0m \u001b[1;32mfor\u001b[0m \u001b[0mx\u001b[0m \u001b[1;32min\u001b[0m \u001b[0mX\u001b[0m\u001b[1;33m]\u001b[0m\u001b[1;33m\u001b[0m\u001b[0m\n\u001b[0m\u001b[0;32m    300\u001b[0m         \u001b[1;32melse\u001b[0m\u001b[1;33m:\u001b[0m\u001b[1;33m\u001b[0m\u001b[0m\n\u001b[0;32m    301\u001b[0m             \u001b[1;32mreturn\u001b[0m \u001b[1;33m[\u001b[0m\u001b[0mx\u001b[0m\u001b[1;33m[\u001b[0m\u001b[0mstart\u001b[0m\u001b[1;33m:\u001b[0m\u001b[0mstop\u001b[0m\u001b[1;33m]\u001b[0m \u001b[1;32mfor\u001b[0m \u001b[0mx\u001b[0m \u001b[1;32min\u001b[0m \u001b[0mX\u001b[0m\u001b[1;33m]\u001b[0m\u001b[1;33m\u001b[0m\u001b[0m\n",
      "\u001b[1;31mKeyboardInterrupt\u001b[0m: "
     ]
    }
   ],
   "source": [
    "tables = [\"data_little_enc\", \"data_fraud_little\"]\n",
    "data_sets = []\n",
    "for t in tables:\n",
    "    data_sets.append(load_dataset(t))\n",
    "\n",
    "for ds in data_sets:\n",
    "    X_sub,Y_sub = ds\n",
    "    print X_sub.shape\n",
    "    print Y_sub.shape\n",
    "    nb_epochs = 50\n",
    "    m1 = ('log_reg',KerasClassifier(build_fn=keras_log_reg,input_dimensions=X_sub.shape[1], nb_epoch=nb_epochs, batch_size=10000, verbose=0))\n",
    "    m2 = ('log_reg_sk_learn',logistic_regresion())\n",
    "    m3 = ('lin_reg',KerasClassifier(build_fn=keras_lin_reg,input_dimensions=X_sub.shape[1], nb_epoch=nb_epochs, batch_size=10000, verbose=0))\n",
    "    m4 = ('mlp_2',KerasClassifier(build_fn=keras_mlp_model,input_dimensions=X_sub.shape[1], hidden=100,layers=1, nb_epoch=nb_epochs, batch_size=10000, verbose=0))\n",
    "    m5 = ('mlp_3',KerasClassifier(build_fn=keras_mlp_model,input_dimensions=X_sub.shape[1], hidden=100,layers=2, nb_epoch=nb_epochs, batch_size=10000, verbose=0))\n",
    "    results = compare({m1:None,m4:None,m5:None},X_sub,Y_sub)\n",
    "    compare_report(results)\n"
   ]
  },
  {
   "cell_type": "markdown",
   "metadata": {},
   "source": [
    "## Experiment set-up"
   ]
  },
  {
   "cell_type": "code",
   "execution_count": 29,
   "metadata": {
    "collapsed": true
   },
   "outputs": [],
   "source": [
    "from ccfd_dnn.utils import *"
   ]
  },
  {
   "cell_type": "code",
   "execution_count": 30,
   "metadata": {
    "collapsed": true
   },
   "outputs": [],
   "source": [
    "limit = 5e3\n",
    "lim = 'limit {}'.format(limit)\n",
    "lim = ''"
   ]
  },
  {
   "cell_type": "code",
   "execution_count": 31,
   "metadata": {
    "collapsed": true
   },
   "outputs": [],
   "source": [
    "tables = [\"data_little_enc\", \"data_fraud_little\"]"
   ]
  },
  {
   "cell_type": "code",
   "execution_count": 32,
   "metadata": {},
   "outputs": [],
   "source": [
    "def run_experiment(tables,scale,rm_unavail,lim,nb_epochs = 50):\n",
    "\n",
    "    data_sets = []\n",
    "    t_start = dt.datetime.now()\n",
    "    for t in tables:\n",
    "        data_sets.append(load_dataset(t,lim=lim, rm_unavail=rm_unavail))\n",
    "    print 'time taken: {time}'.format(time=days_hours_minutes_seconds(dt.datetime.now()-t_start))\n",
    "    for ds in data_sets:\n",
    "        X_sub,Y_sub = ds\n",
    "        print X_sub.shape\n",
    "        print Y_sub.shape\n",
    "        print X_sub.dtype, Y_sub.dtype\n",
    "        m1 = ('log_reg',KerasClassifier(build_fn=keras_log_reg,input_dimensions=X_sub.shape[1], nb_epoch=nb_epochs, batch_size=10000, verbose=0))\n",
    "        m4 = ('mlp_2',KerasClassifier(build_fn=keras_mlp_model,input_dimensions=X_sub.shape[1], hidden=100,layers=1, nb_epoch=nb_epochs, batch_size=10000, verbose=0))\n",
    "        m5 = ('mlp_3',KerasClassifier(build_fn=keras_mlp_model,input_dimensions=X_sub.shape[1], hidden=100,layers=2, nb_epoch=nb_epochs, batch_size=10000, verbose=0))\n",
    "        results = compare({m1:None,m4:None,m5:None},X_sub,Y_sub,scale=scale)\n",
    "        compare_report(results)\n",
    "    print 'time taken: {time}'.format(time=days_hours_minutes_seconds(dt.datetime.now()-t_start))"
   ]
  },
  {
   "cell_type": "markdown",
   "metadata": {},
   "source": [
    "### No scaling\n"
   ]
  },
  {
   "cell_type": "code",
   "execution_count": 34,
   "metadata": {
    "collapsed": true
   },
   "outputs": [],
   "source": [
    "scale = False\n",
    "rm_unav = False"
   ]
  },
  {
   "cell_type": "code",
   "execution_count": 35,
   "metadata": {
    "scrolled": true
   },
   "outputs": [
    {
     "name": "stdout",
     "output_type": "stream",
     "text": [
      "Shape [(500000, 47)]\n",
      "Fraud 0.13% \n",
      "('Total #samples:', 500000)\n",
      "shapes: X[(500000, 44)]=====Y[(500000, 2)]\n",
      "Shape [(600000, 47)]\n",
      "Fraud 16.6666666667% \n",
      "('Total #samples:', 600000)\n",
      "shapes: X[(600000, 44)]=====Y[(600000, 2)]\n",
      "time taken: (0, 0, 1, 7)\n",
      "(500000, 44)\n",
      "(500000, 2)\n",
      "float64 float64\n",
      "  mlp_3 0.4937 0.0125\n",
      "log_reg 0.4827 0.0108\n",
      "  mlp_2 0.5019 0.0155\n",
      "(600000, 44)\n",
      "(600000, 2)\n",
      "float64 float64\n",
      "log_reg 0.5014 0.0148\n",
      "  mlp_3 0.5078 0.0119\n",
      "  mlp_2 0.5057 0.0061\n",
      "time taken: (0, 0, 30, 43)\n"
     ]
    }
   ],
   "source": [
    "run_experiment(tables,scale,rm_unav,lim,nb_epochs=50)"
   ]
  },
  {
   "cell_type": "code",
   "execution_count": 36,
   "metadata": {},
   "outputs": [
    {
     "name": "stdout",
     "output_type": "stream",
     "text": [
      "Shape [(500000, 47)]\n",
      "Fraud 0.13% \n",
      "('Total #samples:', 500000)\n",
      "shapes: X[(500000, 44)]=====Y[(500000, 2)]\n",
      "Shape [(600000, 47)]\n",
      "Fraud 16.6666666667% \n",
      "('Total #samples:', 600000)\n",
      "shapes: X[(600000, 44)]=====Y[(600000, 2)]\n",
      "time taken: (0, 0, 1, 4)\n",
      "(500000, 44)\n",
      "(500000, 2)\n",
      "float64 float64\n",
      "log_reg 0.5064 0.0445\n",
      "  mlp_2 0.5414 0.0417\n",
      "  mlp_3 0.4999 0.0014\n",
      "(600000, 44)\n",
      "(600000, 2)\n",
      "float64 float64\n",
      "log_reg 0.4946 0.0142\n",
      "  mlp_3 0.5090 0.0262\n",
      "  mlp_2 0.5046 0.0068\n",
      "time taken: (0, 0, 58, 50)\n"
     ]
    }
   ],
   "source": [
    "run_experiment(tables,scale,rm_unav,lim,nb_epochs=100)"
   ]
  },
  {
   "cell_type": "code",
   "execution_count": 37,
   "metadata": {},
   "outputs": [
    {
     "name": "stdout",
     "output_type": "stream",
     "text": [
      "Shape [(500000, 47)]\n",
      "Fraud 0.13% \n",
      "('Total #samples:', 500000)\n",
      "shapes: X[(500000, 44)]=====Y[(500000, 2)]\n",
      "Shape [(600000, 47)]\n",
      "Fraud 16.6666666667% \n",
      "('Total #samples:', 600000)\n",
      "shapes: X[(600000, 44)]=====Y[(600000, 2)]\n",
      "time taken: (0, 0, 1, 1)\n",
      "(500000, 44)\n",
      "(500000, 2)\n",
      "float64 float64\n",
      "log_reg 0.5247 0.0497\n",
      "  mlp_2 0.5015 0.0273\n",
      "  mlp_3 0.5056 0.0640\n",
      "(600000, 44)\n",
      "(600000, 2)\n",
      "float64 float64\n",
      "log_reg 0.4948 0.0136\n",
      "  mlp_3 0.5030 0.0059\n",
      "  mlp_2 0.4825 0.0130\n",
      "time taken: (0, 1, 57, 24)\n"
     ]
    }
   ],
   "source": [
    "run_experiment(tables,scale,rm_unav,lim,nb_epochs=200)"
   ]
  },
  {
   "cell_type": "code",
   "execution_count": 46,
   "metadata": {
    "scrolled": true
   },
   "outputs": [
    {
     "data": {
      "text/plain": [
       "(848,)"
      ]
     },
     "execution_count": 46,
     "metadata": {},
     "output_type": "execute_result"
    }
   ],
   "source": [
    "np.where(Y_sub[:,1] == 0)[0].shape"
   ]
  },
  {
   "cell_type": "markdown",
   "metadata": {},
   "source": [
    "### Remove unvailable columns \n",
    "does not sound possible to shift as datapoints are scrambled"
   ]
  },
  {
   "cell_type": "code",
   "execution_count": null,
   "metadata": {
    "collapsed": true
   },
   "outputs": [],
   "source": [
    "#TODO"
   ]
  },
  {
   "cell_type": "code",
   "execution_count": 38,
   "metadata": {},
   "outputs": [
    {
     "name": "stdout",
     "output_type": "stream",
     "text": [
      "Shape [(500000, 43)]\n",
      "Fraud 0.13% \n",
      "('Total #samples:', 500000)\n",
      "shapes: X[(500000, 40)]=====Y[(500000, 2)]\n",
      "Shape [(600000, 43)]\n",
      "Fraud 16.6666666667% \n",
      "('Total #samples:', 600000)\n",
      "shapes: X[(600000, 40)]=====Y[(600000, 2)]\n",
      "time taken: (0, 0, 1, 7)\n",
      "(500000, 40)\n",
      "(500000, 2)\n",
      "float64 float64\n",
      "log_reg 0.4935 0.0227\n",
      "  mlp_3 0.4753 0.0455\n",
      "  mlp_2 0.4988 0.0709\n",
      "(600000, 40)\n",
      "(600000, 2)\n",
      "float64 float64\n",
      "log_reg 0.5022 0.0122\n",
      "  mlp_3 0.5060 0.0155\n",
      "  mlp_2 0.4942 0.0073\n",
      "time taken: (0, 0, 31, 20)\n"
     ]
    }
   ],
   "source": [
    "scale = False\n",
    "rm_unav = True\n",
    "run_experiment(tables,scale,rm_unav,lim,nb_epochs=50)"
   ]
  },
  {
   "cell_type": "code",
   "execution_count": 39,
   "metadata": {},
   "outputs": [
    {
     "name": "stdout",
     "output_type": "stream",
     "text": [
      "Shape [(500000, 43)]\n",
      "Fraud 0.13% \n",
      "('Total #samples:', 500000)\n",
      "shapes: X[(500000, 40)]=====Y[(500000, 2)]\n",
      "Shape [(600000, 43)]\n",
      "Fraud 16.6666666667% \n",
      "('Total #samples:', 600000)\n",
      "shapes: X[(600000, 40)]=====Y[(600000, 2)]\n",
      "time taken: (0, 0, 1, 6)\n",
      "(500000, 40)\n",
      "(500000, 2)\n",
      "float64 float64\n",
      "  mlp_3 0.5097 0.0350\n",
      "  mlp_2 0.5392 0.0603\n",
      "log_reg 0.4949 0.0709\n",
      "(600000, 40)\n",
      "(600000, 2)\n",
      "float64 float64\n",
      "log_reg 0.5080 0.0192\n",
      "  mlp_3 0.4995 0.0094\n",
      "  mlp_2 0.5021 0.0125\n",
      "time taken: (0, 1, 0, 5)\n"
     ]
    }
   ],
   "source": [
    "run_experiment(tables,scale,rm_unav,lim,nb_epochs=100)"
   ]
  },
  {
   "cell_type": "code",
   "execution_count": 40,
   "metadata": {},
   "outputs": [
    {
     "name": "stdout",
     "output_type": "stream",
     "text": [
      "Shape [(500000, 43)]\n",
      "Fraud 0.13% \n",
      "('Total #samples:', 500000)\n",
      "shapes: X[(500000, 40)]=====Y[(500000, 2)]\n",
      "Shape [(600000, 43)]\n",
      "Fraud 16.6666666667% \n",
      "('Total #samples:', 600000)\n",
      "shapes: X[(600000, 40)]=====Y[(600000, 2)]\n",
      "time taken: (0, 0, 1, 7)\n",
      "(500000, 40)\n",
      "(500000, 2)\n",
      "float64 float64\n",
      "log_reg 0.4872 0.0168\n",
      "  mlp_3 0.5345 0.0493\n",
      "  mlp_2 0.5541 0.0462\n",
      "(600000, 40)\n",
      "(600000, 2)\n",
      "float64 float64\n",
      "  mlp_2 0.4970 0.0129\n",
      "log_reg 0.5023 0.0067\n",
      "  mlp_3 0.5068 0.0147\n",
      "time taken: (0, 1, 58, 27)\n"
     ]
    }
   ],
   "source": [
    "run_experiment(tables,scale,rm_unav,lim,nb_epochs=200)"
   ]
  },
  {
   "cell_type": "code",
   "execution_count": null,
   "metadata": {},
   "outputs": [],
   "source": [
    "dataframe.columns"
   ]
  },
  {
   "cell_type": "code",
   "execution_count": null,
   "metadata": {},
   "outputs": [],
   "source": [
    "df.drop(['index'],inplace=True,axis=1)"
   ]
  },
  {
   "cell_type": "code",
   "execution_count": 411,
   "metadata": {
    "collapsed": true
   },
   "outputs": [],
   "source": [
    "from IPython.core.interactiveshell import InteractiveShell\n",
    "InteractiveShell.ast_node_interactivity = \"all\""
   ]
  },
  {
   "cell_type": "markdown",
   "metadata": {},
   "source": [
    "### or shift?\n",
    "does not sound possible to shift as datapoints are scrambled"
   ]
  },
  {
   "cell_type": "code",
   "execution_count": null,
   "metadata": {
    "scrolled": true
   },
   "outputs": [],
   "source": [
    "df.groupby('acct_id').count().mean()"
   ]
  },
  {
   "cell_type": "code",
   "execution_count": null,
   "metadata": {
    "collapsed": true
   },
   "outputs": [],
   "source": []
  },
  {
   "cell_type": "markdown",
   "metadata": {},
   "source": [
    "### Time only"
   ]
  },
  {
   "cell_type": "code",
   "execution_count": 22,
   "metadata": {
    "collapsed": true
   },
   "outputs": [],
   "source": [
    "def reshape_time(raw_data,seq_len=100):\n",
    "    tran_num = raw_data.shape[0]\n",
    "    feat_num = raw_data.shape[1]\n",
    "    seq_num = tran_num/seq_len\n",
    "    reshaped_data = raw_data.reshape((seq_num,seq_len,feat_num))\n",
    "    return reshaped_data\n",
    "    "
   ]
  },
  {
   "cell_type": "code",
   "execution_count": 23,
   "metadata": {},
   "outputs": [],
   "source": [
    "def load_dataset_time(table,lim=1e4):\n",
    "    # load dataset\n",
    "    engine = get_engine()\n",
    "    dataframe = pd.read_sql_query(\"select * from {table} limit {lim}\".format(table=table,lim=lim),engine)\n",
    "    dataset = dataframe.sort_values(['authzn_rqst_proc_tm'], ascending=[1]).values\n",
    "\n",
    "    print(\"Shape [{}]\".format(dataset.shape))\n",
    "\n",
    "    # split into input (X) and output (Y) variables\n",
    "    data_dimensions = 45\n",
    "    #first dimension is the index, must be removed!!!!\n",
    "    X = dataset[:, 1:data_dimensions]\n",
    "    Y = dataset[:, data_dimensions]\n",
    "\n",
    "    print(\"Fraud {}% \".format(float(np.sum(Y==1))*100.0/Y.shape[0]))\n",
    "    print(\"Total #samples:\",Y.shape[0])\n",
    "    Y = to_categorical(Y, nb_classes=None)\n",
    "\n",
    "\n",
    "    input_dimensions = X.shape[1]\n",
    "    print(\"prior shapes: X[{}]=====Y[{}]\".format(X.shape, Y.shape))\n",
    "    X = reshape_time(X)\n",
    "    Y = reshape_time(Y)\n",
    "    print(\"converted shapes: X[{}]=====Y[{}]\".format(X.shape, Y.shape))\n",
    "    return X,Y"
   ]
  },
  {
   "cell_type": "code",
   "execution_count": 34,
   "metadata": {},
   "outputs": [
    {
     "name": "stdout",
     "output_type": "stream",
     "text": [
      "Shape [(10000, 47)]\n",
      "Fraud 16.4% \n",
      "('Total #samples:', 10000)\n",
      "prior shapes: X[(10000, 44)]=====Y[(10000, 2)]\n",
      "converted shapes: X[(100, 100, 44)]=====Y[(100, 100, 2)]\n"
     ]
    }
   ],
   "source": [
    "tables = [\"data_fraud_little\"]\n",
    "data_sets = []\n",
    "for t in tables:\n",
    "    data_sets.append(load_dataset_time(t))"
   ]
  },
  {
   "cell_type": "code",
   "execution_count": 35,
   "metadata": {},
   "outputs": [
    {
     "ename": "NameError",
     "evalue": "name 'df' is not defined",
     "output_type": "error",
     "traceback": [
      "\u001b[1;31m---------------------------------------------------------------------------\u001b[0m",
      "\u001b[1;31mNameError\u001b[0m                                 Traceback (most recent call last)",
      "\u001b[1;32m<ipython-input-35-08194f4ddc86>\u001b[0m in \u001b[0;36m<module>\u001b[1;34m()\u001b[0m\n\u001b[1;32m----> 1\u001b[1;33m \u001b[0mraw_data\u001b[0m \u001b[1;33m=\u001b[0m \u001b[0mdf\u001b[0m\u001b[1;33m.\u001b[0m\u001b[0msort_values\u001b[0m\u001b[1;33m(\u001b[0m\u001b[1;33m[\u001b[0m\u001b[1;34m'authzn_rqst_proc_tm'\u001b[0m\u001b[1;33m]\u001b[0m\u001b[1;33m,\u001b[0m \u001b[0mascending\u001b[0m\u001b[1;33m=\u001b[0m\u001b[1;33m[\u001b[0m\u001b[1;36m1\u001b[0m\u001b[1;33m]\u001b[0m\u001b[1;33m)\u001b[0m\u001b[1;33m.\u001b[0m\u001b[0mvalues\u001b[0m\u001b[1;33m\u001b[0m\u001b[0m\n\u001b[0m",
      "\u001b[1;31mNameError\u001b[0m: name 'df' is not defined"
     ]
    }
   ],
   "source": [
    "raw_data = df.sort_values(['authzn_rqst_proc_tm'], ascending=[1]).values"
   ]
  },
  {
   "cell_type": "code",
   "execution_count": 24,
   "metadata": {
    "collapsed": true
   },
   "outputs": [],
   "source": [
    "from keras.layers import TimeDistributed\n",
    "from keras.layers.recurrent import SimpleRNN"
   ]
  },
  {
   "cell_type": "code",
   "execution_count": 209,
   "metadata": {},
   "outputs": [],
   "source": [
    "def keras_rnn_model(input_dimensions,seq_len,hidden=100,layers=1,unit=SimpleRNN):\n",
    "    # create model\n",
    "    model = Sequential()\n",
    "    model.add(unit(hidden, input_shape=(seq_len,input_dimensions), init='normal', activation='relu',return_sequences=True))\n",
    "    if hidden is not None:\n",
    "        for l in range(layers):\n",
    "            model.add(unit(hidden, init='normal', activation='relu',return_sequences=True))\n",
    "    model.add(TimeDistributed(Dense(2, init='normal', activation='softmax')))\n",
    "    # Compile model\n",
    "    model.compile(loss='binary_crossentropy', optimizer='rmsprop')\n",
    "    return model"
   ]
  },
  {
   "cell_type": "code",
   "execution_count": 27,
   "metadata": {
    "scrolled": true
   },
   "outputs": [
    {
     "name": "stdout",
     "output_type": "stream",
     "text": [
      "Shape [(10000, 47)]\n",
      "Fraud 16.4% \n",
      "('Total #samples:', 10000)\n",
      "prior shapes: X[(10000, 44)]=====Y[(10000, 2)]\n",
      "converted shapes: X[(100, 100, 44)]=====Y[(100, 100, 2)]\n",
      "(100, 100, 44)\n",
      "(100, 100, 2)\n"
     ]
    },
    {
     "ename": "ValueError",
     "evalue": "The truth value of an array with more than one element is ambiguous. Use a.any() or a.all()",
     "output_type": "error",
     "traceback": [
      "\u001b[1;31m---------------------------------------------------------------------------\u001b[0m",
      "\u001b[1;31mValueError\u001b[0m                                Traceback (most recent call last)",
      "\u001b[1;32m<ipython-input-27-d5cace84cae0>\u001b[0m in \u001b[0;36m<module>\u001b[1;34m()\u001b[0m\n\u001b[0;32m     11\u001b[0m     \u001b[0mbatch_size\u001b[0m \u001b[1;33m=\u001b[0m \u001b[1;36m1e4\u001b[0m\u001b[1;33m/\u001b[0m \u001b[0mX_sub\u001b[0m\u001b[1;33m.\u001b[0m\u001b[0mshape\u001b[0m\u001b[1;33m[\u001b[0m\u001b[1;36m1\u001b[0m\u001b[1;33m]\u001b[0m\u001b[1;33m\u001b[0m\u001b[0m\n\u001b[0;32m     12\u001b[0m     \u001b[0mm5\u001b[0m \u001b[1;33m=\u001b[0m \u001b[1;33m(\u001b[0m\u001b[1;34m'rnn'\u001b[0m\u001b[1;33m,\u001b[0m\u001b[0mKerasClassifier\u001b[0m\u001b[1;33m(\u001b[0m\u001b[0mbuild_fn\u001b[0m\u001b[1;33m=\u001b[0m\u001b[0mkeras_rnn_model\u001b[0m\u001b[1;33m,\u001b[0m\u001b[0minput_dimensions\u001b[0m\u001b[1;33m=\u001b[0m\u001b[0mX_sub\u001b[0m\u001b[1;33m.\u001b[0m\u001b[0mshape\u001b[0m\u001b[1;33m[\u001b[0m\u001b[1;36m2\u001b[0m\u001b[1;33m]\u001b[0m\u001b[1;33m,\u001b[0m\u001b[0mseq_len\u001b[0m\u001b[1;33m=\u001b[0m\u001b[0mX_sub\u001b[0m\u001b[1;33m.\u001b[0m\u001b[0mshape\u001b[0m\u001b[1;33m[\u001b[0m\u001b[1;36m1\u001b[0m\u001b[1;33m]\u001b[0m\u001b[1;33m,\u001b[0m\u001b[0mhidden\u001b[0m\u001b[1;33m=\u001b[0m\u001b[1;36m100\u001b[0m\u001b[1;33m,\u001b[0m\u001b[0mlayers\u001b[0m\u001b[1;33m=\u001b[0m\u001b[1;36m2\u001b[0m\u001b[1;33m,\u001b[0m \u001b[0mnb_epoch\u001b[0m\u001b[1;33m=\u001b[0m\u001b[0mnb_epochs\u001b[0m\u001b[1;33m,\u001b[0m \u001b[0mbatch_size\u001b[0m\u001b[1;33m=\u001b[0m\u001b[0mbatch_size\u001b[0m\u001b[1;33m,\u001b[0m \u001b[0mverbose\u001b[0m\u001b[1;33m=\u001b[0m\u001b[1;36m0\u001b[0m\u001b[1;33m)\u001b[0m\u001b[1;33m)\u001b[0m\u001b[1;33m\u001b[0m\u001b[0m\n\u001b[1;32m---> 13\u001b[1;33m     \u001b[0mresults\u001b[0m \u001b[1;33m=\u001b[0m \u001b[0mcompare\u001b[0m\u001b[1;33m(\u001b[0m\u001b[1;33m{\u001b[0m\u001b[0mm5\u001b[0m\u001b[1;33m:\u001b[0m\u001b[0mNone\u001b[0m\u001b[1;33m}\u001b[0m\u001b[1;33m,\u001b[0m\u001b[0mX_sub\u001b[0m\u001b[1;33m,\u001b[0m\u001b[0mY_sub\u001b[0m\u001b[1;33m,\u001b[0m\u001b[0mscale\u001b[0m\u001b[1;33m=\u001b[0m\u001b[0mFalse\u001b[0m\u001b[1;33m)\u001b[0m\u001b[1;33m\u001b[0m\u001b[0m\n\u001b[0m\u001b[0;32m     14\u001b[0m     \u001b[0mcompare_report\u001b[0m\u001b[1;33m(\u001b[0m\u001b[0mresults\u001b[0m\u001b[1;33m)\u001b[0m\u001b[1;33m\u001b[0m\u001b[0m\n",
      "\u001b[1;32m<ipython-input-15-c8c2c1f29648>\u001b[0m in \u001b[0;36mcompare\u001b[1;34m(models, X, Y, scale)\u001b[0m\n\u001b[0;32m     25\u001b[0m             \u001b[0mkfold\u001b[0m \u001b[1;33m=\u001b[0m \u001b[0mStratifiedKFold\u001b[0m\u001b[1;33m(\u001b[0m\u001b[0mn_splits\u001b[0m\u001b[1;33m=\u001b[0m\u001b[1;36m5\u001b[0m\u001b[1;33m,\u001b[0m \u001b[0mrandom_state\u001b[0m\u001b[1;33m=\u001b[0m\u001b[0mseed\u001b[0m\u001b[1;33m)\u001b[0m\u001b[1;33m\u001b[0m\u001b[0m\n\u001b[0;32m     26\u001b[0m \u001b[1;31m#         from IPython.core.debugger import Tracer; Tracer()()\u001b[0m\u001b[1;33m\u001b[0m\u001b[1;33m\u001b[0m\u001b[0m\n\u001b[1;32m---> 27\u001b[1;33m         \u001b[0mresults\u001b[0m\u001b[1;33m[\u001b[0m\u001b[0mm\u001b[0m\u001b[1;33m]\u001b[0m \u001b[1;33m=\u001b[0m \u001b[0mcross_val_score\u001b[0m\u001b[1;33m(\u001b[0m\u001b[0mpipeline\u001b[0m\u001b[1;33m,\u001b[0m \u001b[0mX\u001b[0m\u001b[1;33m,\u001b[0m \u001b[0mY_shaped\u001b[0m\u001b[1;33m,\u001b[0m \u001b[0mcv\u001b[0m\u001b[1;33m=\u001b[0m\u001b[0mkfold\u001b[0m\u001b[1;33m,\u001b[0m \u001b[0mscoring\u001b[0m\u001b[1;33m=\u001b[0m\u001b[1;34m'roc_auc'\u001b[0m\u001b[1;33m,\u001b[0m\u001b[0mn_jobs\u001b[0m\u001b[1;33m=\u001b[0m\u001b[1;36m1\u001b[0m\u001b[1;33m)\u001b[0m\u001b[1;33m\u001b[0m\u001b[0m\n\u001b[0m\u001b[0;32m     28\u001b[0m     \u001b[1;32mreturn\u001b[0m \u001b[0mresults\u001b[0m\u001b[1;33m\u001b[0m\u001b[0m\n\u001b[0;32m     29\u001b[0m \u001b[1;33m\u001b[0m\u001b[0m\n",
      "\u001b[1;32m/home/botty/Documents/scikit-learn/sklearn/model_selection/_validation.pyc\u001b[0m in \u001b[0;36mcross_val_score\u001b[1;34m(estimator, X, y, groups, scoring, cv, n_jobs, verbose, fit_params, pre_dispatch)\u001b[0m\n\u001b[0;32m    138\u001b[0m                                               \u001b[0mtrain\u001b[0m\u001b[1;33m,\u001b[0m \u001b[0mtest\u001b[0m\u001b[1;33m,\u001b[0m \u001b[0mverbose\u001b[0m\u001b[1;33m,\u001b[0m \u001b[0mNone\u001b[0m\u001b[1;33m,\u001b[0m\u001b[1;33m\u001b[0m\u001b[0m\n\u001b[0;32m    139\u001b[0m                                               fit_params)\n\u001b[1;32m--> 140\u001b[1;33m                       for train, test in cv.split(X, y, groups))\n\u001b[0m\u001b[0;32m    141\u001b[0m     \u001b[1;32mreturn\u001b[0m \u001b[0mnp\u001b[0m\u001b[1;33m.\u001b[0m\u001b[0marray\u001b[0m\u001b[1;33m(\u001b[0m\u001b[0mscores\u001b[0m\u001b[1;33m)\u001b[0m\u001b[1;33m[\u001b[0m\u001b[1;33m:\u001b[0m\u001b[1;33m,\u001b[0m \u001b[1;36m0\u001b[0m\u001b[1;33m]\u001b[0m\u001b[1;33m\u001b[0m\u001b[0m\n\u001b[0;32m    142\u001b[0m \u001b[1;33m\u001b[0m\u001b[0m\n",
      "\u001b[1;32m/home/botty/Documents/scikit-learn/sklearn/externals/joblib/parallel.pyc\u001b[0m in \u001b[0;36m__call__\u001b[1;34m(self, iterable)\u001b[0m\n\u001b[0;32m    777\u001b[0m             \u001b[1;31m# was dispatched. In particular this covers the edge\u001b[0m\u001b[1;33m\u001b[0m\u001b[1;33m\u001b[0m\u001b[0m\n\u001b[0;32m    778\u001b[0m             \u001b[1;31m# case of Parallel used with an exhausted iterator.\u001b[0m\u001b[1;33m\u001b[0m\u001b[1;33m\u001b[0m\u001b[0m\n\u001b[1;32m--> 779\u001b[1;33m             \u001b[1;32mwhile\u001b[0m \u001b[0mself\u001b[0m\u001b[1;33m.\u001b[0m\u001b[0mdispatch_one_batch\u001b[0m\u001b[1;33m(\u001b[0m\u001b[0miterator\u001b[0m\u001b[1;33m)\u001b[0m\u001b[1;33m:\u001b[0m\u001b[1;33m\u001b[0m\u001b[0m\n\u001b[0m\u001b[0;32m    780\u001b[0m                 \u001b[0mself\u001b[0m\u001b[1;33m.\u001b[0m\u001b[0m_iterating\u001b[0m \u001b[1;33m=\u001b[0m \u001b[0mTrue\u001b[0m\u001b[1;33m\u001b[0m\u001b[0m\n\u001b[0;32m    781\u001b[0m             \u001b[1;32melse\u001b[0m\u001b[1;33m:\u001b[0m\u001b[1;33m\u001b[0m\u001b[0m\n",
      "\u001b[1;32m/home/botty/Documents/scikit-learn/sklearn/externals/joblib/parallel.pyc\u001b[0m in \u001b[0;36mdispatch_one_batch\u001b[1;34m(self, iterator)\u001b[0m\n\u001b[0;32m    618\u001b[0m \u001b[1;33m\u001b[0m\u001b[0m\n\u001b[0;32m    619\u001b[0m         \u001b[1;32mwith\u001b[0m \u001b[0mself\u001b[0m\u001b[1;33m.\u001b[0m\u001b[0m_lock\u001b[0m\u001b[1;33m:\u001b[0m\u001b[1;33m\u001b[0m\u001b[0m\n\u001b[1;32m--> 620\u001b[1;33m             \u001b[0mtasks\u001b[0m \u001b[1;33m=\u001b[0m \u001b[0mBatchedCalls\u001b[0m\u001b[1;33m(\u001b[0m\u001b[0mitertools\u001b[0m\u001b[1;33m.\u001b[0m\u001b[0mislice\u001b[0m\u001b[1;33m(\u001b[0m\u001b[0miterator\u001b[0m\u001b[1;33m,\u001b[0m \u001b[0mbatch_size\u001b[0m\u001b[1;33m)\u001b[0m\u001b[1;33m)\u001b[0m\u001b[1;33m\u001b[0m\u001b[0m\n\u001b[0m\u001b[0;32m    621\u001b[0m             \u001b[1;32mif\u001b[0m \u001b[0mlen\u001b[0m\u001b[1;33m(\u001b[0m\u001b[0mtasks\u001b[0m\u001b[1;33m)\u001b[0m \u001b[1;33m==\u001b[0m \u001b[1;36m0\u001b[0m\u001b[1;33m:\u001b[0m\u001b[1;33m\u001b[0m\u001b[0m\n\u001b[0;32m    622\u001b[0m                 \u001b[1;31m# No more tasks available in the iterator: tell caller to stop.\u001b[0m\u001b[1;33m\u001b[0m\u001b[1;33m\u001b[0m\u001b[0m\n",
      "\u001b[1;32m/home/botty/Documents/scikit-learn/sklearn/externals/joblib/parallel.pyc\u001b[0m in \u001b[0;36m__init__\u001b[1;34m(self, iterator_slice)\u001b[0m\n\u001b[0;32m    125\u001b[0m \u001b[1;33m\u001b[0m\u001b[0m\n\u001b[0;32m    126\u001b[0m     \u001b[1;32mdef\u001b[0m \u001b[0m__init__\u001b[0m\u001b[1;33m(\u001b[0m\u001b[0mself\u001b[0m\u001b[1;33m,\u001b[0m \u001b[0miterator_slice\u001b[0m\u001b[1;33m)\u001b[0m\u001b[1;33m:\u001b[0m\u001b[1;33m\u001b[0m\u001b[0m\n\u001b[1;32m--> 127\u001b[1;33m         \u001b[0mself\u001b[0m\u001b[1;33m.\u001b[0m\u001b[0mitems\u001b[0m \u001b[1;33m=\u001b[0m \u001b[0mlist\u001b[0m\u001b[1;33m(\u001b[0m\u001b[0miterator_slice\u001b[0m\u001b[1;33m)\u001b[0m\u001b[1;33m\u001b[0m\u001b[0m\n\u001b[0m\u001b[0;32m    128\u001b[0m         \u001b[0mself\u001b[0m\u001b[1;33m.\u001b[0m\u001b[0m_size\u001b[0m \u001b[1;33m=\u001b[0m \u001b[0mlen\u001b[0m\u001b[1;33m(\u001b[0m\u001b[0mself\u001b[0m\u001b[1;33m.\u001b[0m\u001b[0mitems\u001b[0m\u001b[1;33m)\u001b[0m\u001b[1;33m\u001b[0m\u001b[0m\n\u001b[0;32m    129\u001b[0m \u001b[1;33m\u001b[0m\u001b[0m\n",
      "\u001b[1;32m/home/botty/Documents/scikit-learn/sklearn/model_selection/_validation.pyc\u001b[0m in \u001b[0;36m<genexpr>\u001b[1;34m(***failed resolving arguments***)\u001b[0m\n\u001b[0;32m    135\u001b[0m     parallel = Parallel(n_jobs=n_jobs, verbose=verbose,\n\u001b[0;32m    136\u001b[0m                         pre_dispatch=pre_dispatch)\n\u001b[1;32m--> 137\u001b[1;33m     scores = parallel(delayed(_fit_and_score)(clone(estimator), X, y, scorer,\n\u001b[0m\u001b[0;32m    138\u001b[0m                                               \u001b[0mtrain\u001b[0m\u001b[1;33m,\u001b[0m \u001b[0mtest\u001b[0m\u001b[1;33m,\u001b[0m \u001b[0mverbose\u001b[0m\u001b[1;33m,\u001b[0m \u001b[0mNone\u001b[0m\u001b[1;33m,\u001b[0m\u001b[1;33m\u001b[0m\u001b[0m\n\u001b[0;32m    139\u001b[0m                                               fit_params)\n",
      "\u001b[1;32m/home/botty/Documents/scikit-learn/sklearn/model_selection/_split.py\u001b[0m in \u001b[0;36msplit\u001b[1;34m(self, X, y, groups)\u001b[0m\n\u001b[0;32m    322\u001b[0m                                                              n_samples))\n\u001b[0;32m    323\u001b[0m \u001b[1;33m\u001b[0m\u001b[0m\n\u001b[1;32m--> 324\u001b[1;33m         \u001b[1;32mfor\u001b[0m \u001b[0mtrain\u001b[0m\u001b[1;33m,\u001b[0m \u001b[0mtest\u001b[0m \u001b[1;32min\u001b[0m \u001b[0msuper\u001b[0m\u001b[1;33m(\u001b[0m\u001b[0m_BaseKFold\u001b[0m\u001b[1;33m,\u001b[0m \u001b[0mself\u001b[0m\u001b[1;33m)\u001b[0m\u001b[1;33m.\u001b[0m\u001b[0msplit\u001b[0m\u001b[1;33m(\u001b[0m\u001b[0mX\u001b[0m\u001b[1;33m,\u001b[0m \u001b[0my\u001b[0m\u001b[1;33m,\u001b[0m \u001b[0mgroups\u001b[0m\u001b[1;33m)\u001b[0m\u001b[1;33m:\u001b[0m\u001b[1;33m\u001b[0m\u001b[0m\n\u001b[0m\u001b[0;32m    325\u001b[0m             \u001b[1;32myield\u001b[0m \u001b[0mtrain\u001b[0m\u001b[1;33m,\u001b[0m \u001b[0mtest\u001b[0m\u001b[1;33m\u001b[0m\u001b[0m\n\u001b[0;32m    326\u001b[0m \u001b[1;33m\u001b[0m\u001b[0m\n",
      "\u001b[1;32m/home/botty/Documents/scikit-learn/sklearn/model_selection/_split.py\u001b[0m in \u001b[0;36msplit\u001b[1;34m(self, X, y, groups)\u001b[0m\n\u001b[0;32m     91\u001b[0m         \u001b[0mX\u001b[0m\u001b[1;33m,\u001b[0m \u001b[0my\u001b[0m\u001b[1;33m,\u001b[0m \u001b[0mgroups\u001b[0m \u001b[1;33m=\u001b[0m \u001b[0mindexable\u001b[0m\u001b[1;33m(\u001b[0m\u001b[0mX\u001b[0m\u001b[1;33m,\u001b[0m \u001b[0my\u001b[0m\u001b[1;33m,\u001b[0m \u001b[0mgroups\u001b[0m\u001b[1;33m)\u001b[0m\u001b[1;33m\u001b[0m\u001b[0m\n\u001b[0;32m     92\u001b[0m         \u001b[0mindices\u001b[0m \u001b[1;33m=\u001b[0m \u001b[0mnp\u001b[0m\u001b[1;33m.\u001b[0m\u001b[0marange\u001b[0m\u001b[1;33m(\u001b[0m\u001b[0m_num_samples\u001b[0m\u001b[1;33m(\u001b[0m\u001b[0mX\u001b[0m\u001b[1;33m)\u001b[0m\u001b[1;33m)\u001b[0m\u001b[1;33m\u001b[0m\u001b[0m\n\u001b[1;32m---> 93\u001b[1;33m         \u001b[1;32mfor\u001b[0m \u001b[0mtest_index\u001b[0m \u001b[1;32min\u001b[0m \u001b[0mself\u001b[0m\u001b[1;33m.\u001b[0m\u001b[0m_iter_test_masks\u001b[0m\u001b[1;33m(\u001b[0m\u001b[0mX\u001b[0m\u001b[1;33m,\u001b[0m \u001b[0my\u001b[0m\u001b[1;33m,\u001b[0m \u001b[0mgroups\u001b[0m\u001b[1;33m)\u001b[0m\u001b[1;33m:\u001b[0m\u001b[1;33m\u001b[0m\u001b[0m\n\u001b[0m\u001b[0;32m     94\u001b[0m             \u001b[0mtrain_index\u001b[0m \u001b[1;33m=\u001b[0m \u001b[0mindices\u001b[0m\u001b[1;33m[\u001b[0m\u001b[0mnp\u001b[0m\u001b[1;33m.\u001b[0m\u001b[0mlogical_not\u001b[0m\u001b[1;33m(\u001b[0m\u001b[0mtest_index\u001b[0m\u001b[1;33m)\u001b[0m\u001b[1;33m]\u001b[0m\u001b[1;33m\u001b[0m\u001b[0m\n\u001b[0;32m     95\u001b[0m             \u001b[0mtest_index\u001b[0m \u001b[1;33m=\u001b[0m \u001b[0mindices\u001b[0m\u001b[1;33m[\u001b[0m\u001b[0mtest_index\u001b[0m\u001b[1;33m]\u001b[0m\u001b[1;33m\u001b[0m\u001b[0m\n",
      "\u001b[1;32m/home/botty/Documents/scikit-learn/sklearn/model_selection/_split.py\u001b[0m in \u001b[0;36m_iter_test_masks\u001b[1;34m(self, X, y, groups)\u001b[0m\n\u001b[0;32m    618\u001b[0m \u001b[1;33m\u001b[0m\u001b[0m\n\u001b[0;32m    619\u001b[0m     \u001b[1;32mdef\u001b[0m \u001b[0m_iter_test_masks\u001b[0m\u001b[1;33m(\u001b[0m\u001b[0mself\u001b[0m\u001b[1;33m,\u001b[0m \u001b[0mX\u001b[0m\u001b[1;33m,\u001b[0m \u001b[0my\u001b[0m\u001b[1;33m=\u001b[0m\u001b[0mNone\u001b[0m\u001b[1;33m,\u001b[0m \u001b[0mgroups\u001b[0m\u001b[1;33m=\u001b[0m\u001b[0mNone\u001b[0m\u001b[1;33m)\u001b[0m\u001b[1;33m:\u001b[0m\u001b[1;33m\u001b[0m\u001b[0m\n\u001b[1;32m--> 620\u001b[1;33m         \u001b[0mtest_folds\u001b[0m \u001b[1;33m=\u001b[0m \u001b[0mself\u001b[0m\u001b[1;33m.\u001b[0m\u001b[0m_make_test_folds\u001b[0m\u001b[1;33m(\u001b[0m\u001b[0mX\u001b[0m\u001b[1;33m,\u001b[0m \u001b[0my\u001b[0m\u001b[1;33m)\u001b[0m\u001b[1;33m\u001b[0m\u001b[0m\n\u001b[0m\u001b[0;32m    621\u001b[0m         \u001b[1;32mfor\u001b[0m \u001b[0mi\u001b[0m \u001b[1;32min\u001b[0m \u001b[0mrange\u001b[0m\u001b[1;33m(\u001b[0m\u001b[0mself\u001b[0m\u001b[1;33m.\u001b[0m\u001b[0mn_splits\u001b[0m\u001b[1;33m)\u001b[0m\u001b[1;33m:\u001b[0m\u001b[1;33m\u001b[0m\u001b[0m\n\u001b[0;32m    622\u001b[0m             \u001b[1;32myield\u001b[0m \u001b[0mtest_folds\u001b[0m \u001b[1;33m==\u001b[0m \u001b[0mi\u001b[0m\u001b[1;33m\u001b[0m\u001b[0m\n",
      "\u001b[1;32m/home/botty/Documents/scikit-learn/sklearn/model_selection/_split.py\u001b[0m in \u001b[0;36m_make_test_folds\u001b[1;34m(self, X, y, groups)\u001b[0m\n\u001b[0;32m    743\u001b[0m             KFold(self.n_splits, shuffle=self.shuffle,\n\u001b[0;32m    744\u001b[0m                   random_state=rng).split(np.zeros(max(count, self.n_splits)))\n\u001b[1;32m--> 745\u001b[1;33m             for count in y_counts]\n\u001b[0m\u001b[0;32m    746\u001b[0m \u001b[1;33m\u001b[0m\u001b[0m\n\u001b[0;32m    747\u001b[0m         \u001b[0mtest_folds\u001b[0m \u001b[1;33m=\u001b[0m \u001b[0mnp\u001b[0m\u001b[1;33m.\u001b[0m\u001b[0mzeros\u001b[0m\u001b[1;33m(\u001b[0m\u001b[0mn_samples\u001b[0m\u001b[1;33m,\u001b[0m \u001b[0mdtype\u001b[0m\u001b[1;33m=\u001b[0m\u001b[0mnp\u001b[0m\u001b[1;33m.\u001b[0m\u001b[0mint\u001b[0m\u001b[1;33m)\u001b[0m\u001b[1;33m\u001b[0m\u001b[0m\n",
      "\u001b[1;31mValueError\u001b[0m: The truth value of an array with more than one element is ambiguous. Use a.any() or a.all()"
     ]
    }
   ],
   "source": [
    "tables = [\"data_fraud_little\"]\n",
    "data_sets = []\n",
    "for t in tables:\n",
    "    data_sets.append(load_dataset_time(t))\n",
    "\n",
    "for ds in data_sets:\n",
    "    X_sub,Y_sub = ds\n",
    "    print X_sub.shape\n",
    "    print Y_sub.shape\n",
    "    nb_epochs = 1\n",
    "    batch_size = 1e4/ X_sub.shape[1]\n",
    "    m5 = ('rnn',KerasClassifier(build_fn=keras_rnn_model,input_dimensions=X_sub.shape[2],seq_len=X_sub.shape[1],hidden=100,layers=2, nb_epoch=nb_epochs, batch_size=batch_size, verbose=0))\n",
    "    results = compare({m5:None},X_sub,Y_sub,scale=False)\n",
    "    compare_report(results)"
   ]
  },
  {
   "cell_type": "code",
   "execution_count": 28,
   "metadata": {},
   "outputs": [
    {
     "name": "stdout",
     "output_type": "stream",
     "text": [
      "Stored 'ds' (tuple)\n"
     ]
    }
   ],
   "source": [
    "%store ds "
   ]
  },
  {
   "cell_type": "code",
   "execution_count": 423,
   "metadata": {},
   "outputs": [
    {
     "data": {
      "text/plain": [
       "(100000, 46)"
      ]
     },
     "execution_count": 423,
     "metadata": {},
     "output_type": "execute_result"
    }
   ],
   "source": [
    "raw_data.shape"
   ]
  },
  {
   "cell_type": "code",
   "execution_count": 424,
   "metadata": {},
   "outputs": [
    {
     "data": {
      "text/plain": [
       "(1000, 100, 46)"
      ]
     },
     "execution_count": 424,
     "metadata": {},
     "output_type": "execute_result"
    },
    {
     "data": {
      "text/plain": [
       "array([[  5.66087000e+05,   1.36736720e+18,   9.57990000e+04, ...,\n",
       "          1.34265600e+18,   0.00000000e+00,  -9.22337204e+18],\n",
       "       [  1.05023900e+06,   1.36736829e+18,   3.28160000e+04, ...,\n",
       "          1.35907200e+18,   0.00000000e+00,  -9.22337204e+18],\n",
       "       [  7.99590000e+05,   1.36737127e+18,   1.00165000e+05, ...,\n",
       "          1.36149120e+18,   1.00000000e+00,   1.36814400e+18],\n",
       "       ..., \n",
       "       [  9.64835000e+05,   1.36741052e+18,   1.00165000e+05, ...,\n",
       "          1.32010560e+18,   1.00000000e+00,   1.37108160e+18],\n",
       "       [  9.79221000e+05,   1.36741067e+18,   1.57380000e+04, ...,\n",
       "          1.33332480e+18,   0.00000000e+00,  -9.22337204e+18],\n",
       "       [  5.50230000e+04,   1.36741070e+18,   4.07940000e+04, ...,\n",
       "          1.36002240e+18,   0.00000000e+00,  -9.22337204e+18]])"
      ]
     },
     "execution_count": 424,
     "metadata": {},
     "output_type": "execute_result"
    }
   ],
   "source": [
    "seq_len = 100\n",
    "tran_num = raw_data.shape[0]\n",
    "feat_num = raw_data.shape[1]\n",
    "seq_num = tran_num/seq_len\n",
    "reshaped_data = raw_data.reshape((seq_num,seq_len,feat_num))\n",
    "reshaped_data.shape\n",
    "reshaped_data[0]"
   ]
  },
  {
   "cell_type": "code",
   "execution_count": null,
   "metadata": {},
   "outputs": [],
   "source": [
    "def reshape_to_sequence(raw_data,batch_size):\n",
    "    data_len = raw_data.shape[0]\n",
    "    data_shape = list(raw_data.shape[1:])\n",
    "    batch_len = data_len // batch_size\n",
    "    print data_len\n",
    "    print batch_len\n",
    "    print batch_size\n",
    "    print data_shape\n",
    "    print raw_data[0 : batch_size * batch_len].shape\n",
    "    return np.reshape(raw_data[0 : batch_size * batch_len],\n",
    "                          [batch_size, batch_len]+data_shape)"
   ]
  },
  {
   "cell_type": "code",
   "execution_count": null,
   "metadata": {},
   "outputs": [],
   "source": [
    "from keras.preprocessing.sequence import pad_sequences"
   ]
  },
  {
   "cell_type": "code",
   "execution_count": null,
   "metadata": {
    "collapsed": true
   },
   "outputs": [],
   "source": [
    "import math"
   ]
  },
  {
   "cell_type": "code",
   "execution_count": null,
   "metadata": {},
   "outputs": [],
   "source": [
    "pad_seq = pad_sequences(raw_data, maxlen=None, \n",
    "    padding='pre', truncating='pre', value=0.)"
   ]
  },
  {
   "cell_type": "code",
   "execution_count": null,
   "metadata": {
    "scrolled": true
   },
   "outputs": [],
   "source": [
    "pad_seq.shape"
   ]
  },
  {
   "cell_type": "code",
   "execution_count": null,
   "metadata": {},
   "outputs": [],
   "source": [
    "seq_len_param = 100\n",
    "def chunck_seq(seq_list,seq_len=10):\n",
    "    split_seq = map(lambda x: np.array_split(x,math.ceil(len(x)/seq_len)) if len(x)>seq_len else [x],seq_list)\n",
    "    flattened = [sequence for user_seq in split_seq for sequence in user_seq]\n",
    "    assert sum(map(lambda x: len(x),flattened)) == sum(map(lambda x: len(x),seq_list))\n",
    "    chunks_lens = map(lambda x: len(x),flattened)\n",
    "    for cnk in chunks_lens:\n",
    "        assert cnk <= seq_len_param, 'Sequence chunks are exceeding the max_len of {} \\n {}'.format(seq_len_param,chunks_lens)\n",
    "    return flattened\n"
   ]
  },
  {
   "cell_type": "code",
   "execution_count": null,
   "metadata": {},
   "outputs": [],
   "source": [
    "np.array(chunck_seq(raw_data)).shape"
   ]
  },
  {
   "cell_type": "code",
   "execution_count": 417,
   "metadata": {
    "collapsed": true
   },
   "outputs": [
    {
     "name": "stdout",
     "output_type": "stream",
     "text": [
      "100000\n",
      "100\n",
      "1000\n",
      "[46]\n",
      "(100000, 46)\n"
     ]
    }
   ],
   "source": [
    "batch_size = 1000\n",
    "seq_data = reshape_to_sequence(raw_data,batch_size)"
   ]
  },
  {
   "cell_type": "code",
   "execution_count": 418,
   "metadata": {},
   "outputs": [
    {
     "ename": "TypeError",
     "evalue": "keras_rnn_model() takes at least 1 argument (0 given)",
     "output_type": "error",
     "traceback": [
      "\u001b[1;31m---------------------------------------------------------------------------\u001b[0m",
      "\u001b[1;31mTypeError\u001b[0m                                 Traceback (most recent call last)",
      "\u001b[1;32m<ipython-input-418-8053ab00e31e>\u001b[0m in \u001b[0;36m<module>\u001b[1;34m()\u001b[0m\n\u001b[1;32m----> 1\u001b[1;33m \u001b[0mmodel\u001b[0m \u001b[1;33m=\u001b[0m \u001b[0mkeras_rnn_model\u001b[0m\u001b[1;33m(\u001b[0m\u001b[1;33m)\u001b[0m\u001b[1;33m\u001b[0m\u001b[0m\n\u001b[0m",
      "\u001b[1;31mTypeError\u001b[0m: keras_rnn_model() takes at least 1 argument (0 given)"
     ]
    }
   ],
   "source": [
    "model = keras_rnn_model(raw_data.shape[])"
   ]
  },
  {
   "cell_type": "markdown",
   "metadata": {},
   "source": [
    "### User and time"
   ]
  },
  {
   "cell_type": "code",
   "execution_count": null,
   "metadata": {},
   "outputs": [],
   "source": [
    "df.sort_values(['acct_id', 'authzn_rqst_proc_tm'], ascending=[1, 1])"
   ]
  },
  {
   "cell_type": "code",
   "execution_count": null,
   "metadata": {},
   "outputs": [],
   "source": [
    "ds = df.sort_values(['acct_id', 'authzn_rqst_proc_tm'], ascending=[1, 1]).values"
   ]
  },
  {
   "cell_type": "code",
   "execution_count": null,
   "metadata": {
    "collapsed": true
   },
   "outputs": [],
   "source": [
    "np.reshape(ds)"
   ]
  }
 ],
 "metadata": {
  "kernelspec": {
   "display_name": "Python 2",
   "language": "python",
   "name": "python2"
  },
  "language_info": {
   "codemirror_mode": {
    "name": "ipython",
    "version": 2
   },
   "file_extension": ".py",
   "mimetype": "text/x-python",
   "name": "python",
   "nbconvert_exporter": "python",
   "pygments_lexer": "ipython2",
   "version": "2.7.6"
  }
 },
 "nbformat": 4,
 "nbformat_minor": 1
}
