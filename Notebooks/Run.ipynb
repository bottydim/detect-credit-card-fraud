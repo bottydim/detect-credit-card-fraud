{
 "cells": [
  {
   "cell_type": "code",
   "execution_count": 1,
   "metadata": {},
   "outputs": [
    {
     "name": "stderr",
     "output_type": "stream",
     "text": [
      "Using Theano backend.\n",
      "Using gpu device 0: GeForce GTX 980 (CNMeM is disabled, cuDNN 5103)\n",
      "/usr/local/lib/python2.7/dist-packages/theano/sandbox/cuda/__init__.py:600: UserWarning: Your cuDNN version is more recent than the one Theano officially supports. If you see any problems, try updating Theano or downgrading cuDNN to version 5.\n",
      "  warnings.warn(warn)\n"
     ]
    },
    {
     "name": "stdout",
     "output_type": "stream",
     "text": [
      "The scikit-learn version is 0.19.dev1.1.\n"
     ]
    }
   ],
   "source": [
    "%matplotlib inline\n",
    "import seaborn as sns\n",
    "import pandas as pd\n",
    "import numpy as np\n",
    "from keras.utils.np_utils import to_categorical\n",
    "from keras.models import Sequential\n",
    "from keras.layers import Dense, Input\n",
    "from keras.models import Model\n",
    "from keras.wrappers.scikit_learn import KerasRegressor, KerasClassifier\n",
    "import sklearn\n",
    "from sklearn.model_selection import cross_val_score\n",
    "from sklearn.model_selection import KFold, StratifiedKFold,CategoricalStratifiedKFold\n",
    "from sklearn.preprocessing import StandardScaler\n",
    "from sklearn.pipeline import Pipeline\n",
    "import os\n",
    "import sys\n",
    "from sklearn import linear_model\n",
    "import matplotlib.pyplot as plt\n",
    "print('The scikit-learn version is {}.'.format(sklearn.__version__))"
   ]
  },
  {
   "cell_type": "code",
   "execution_count": 3,
   "metadata": {
    "collapsed": true
   },
   "outputs": [],
   "source": [
    "from sklearn.metrics import classification_report\n",
    "from sklearn.metrics import confusion_matrix\n",
    "from sklearn.metrics import roc_curve,auc\n",
    "from ccfd_dnn.utils import get_engine"
   ]
  },
  {
   "cell_type": "code",
   "execution_count": 2,
   "metadata": {},
   "outputs": [
    {
     "name": "stdout",
     "output_type": "stream",
     "text": [
      "/home/botty/Documents/CCFD\n"
     ]
    }
   ],
   "source": [
    "module_path = os.path.abspath(os.path.join('..'))\n",
    "print module_path\n",
    "if module_path not in sys.path:\n",
    "    sys.path.append(module_path)\n",
    "    "
   ]
  },
  {
   "cell_type": "code",
   "execution_count": 14,
   "metadata": {},
   "outputs": [],
   "source": [
    "table = \"data_fraud\"\n",
    "total_samples = pd.read_sql_query(\"select count(*) from {table}\".format(table=table),engine).values"
   ]
  },
  {
   "cell_type": "code",
   "execution_count": 17,
   "metadata": {},
   "outputs": [
    {
     "data": {
      "text/plain": [
       "4732132"
      ]
     },
     "execution_count": 17,
     "metadata": {},
     "output_type": "execute_result"
    }
   ],
   "source": [
    "total_samples[0][0]"
   ]
  },
  {
   "cell_type": "code",
   "execution_count": 7,
   "metadata": {},
   "outputs": [
    {
     "data": {
      "text/html": [
       "<div>\n",
       "<table border=\"1\" class=\"dataframe\">\n",
       "  <thead>\n",
       "    <tr style=\"text-align: right;\">\n",
       "      <th></th>\n",
       "      <th>count</th>\n",
       "    </tr>\n",
       "  </thead>\n",
       "  <tbody>\n",
       "    <tr>\n",
       "      <th>0</th>\n",
       "      <td>600000</td>\n",
       "    </tr>\n",
       "  </tbody>\n",
       "</table>\n",
       "</div>"
      ],
      "text/plain": [
       "    count\n",
       "0  600000"
      ]
     },
     "execution_count": 7,
     "metadata": {},
     "output_type": "execute_result"
    }
   ],
   "source": [
    "table = \"data_fraud_little\"\n",
    "pd.read_sql_query(\"select count(*) from {table}\".format(table=table),engine)"
   ]
  },
  {
   "cell_type": "code",
   "execution_count": 4,
   "metadata": {
    "scrolled": true
   },
   "outputs": [
    {
     "name": "stdout",
     "output_type": "stream",
     "text": [
      "First one row of the dataset\n",
      "Shape [(100000, 47)]\n",
      "[[  4.04144290e+07   9.64125000e+05   1.37605392e+18   4.11620000e+04\n",
      "    1.20000000e+01   7.20776000e+05   1.61830000e+04   4.70615000e+05\n",
      "    3.67000000e+02   3.88896000e+05   2.91780000e+04   6.55000000e+02\n",
      "    1.00000000e+00   8.00000000e+00   0.00000000e+00   6.00000000e+00\n",
      "    0.00000000e+00   0.00000000e+00   5.00000000e+00   4.00000000e+00\n",
      "    1.00000000e+00   1.00000000e+02   0.00000000e+00   0.00000000e+00\n",
      "    0.00000000e+00   9.80000000e+01   1.00000000e+00   1.00000000e+00\n",
      "    0.00000000e+00   3.00000000e+00   3.00000000e+00   0.00000000e+00\n",
      "    1.90000000e+01   5.84100000e+03   8.26000000e+02   6.10000000e+07\n",
      "    1.20000000e+01   9.51497000e+03   1.00000000e+04   1.00000000e+04\n",
      "    5.85030000e+02  -9.22337204e+18   1.37341440e+18   9.60560000e+02\n",
      "    1.37013120e+18   0.00000000e+00  -9.22337204e+18]\n",
      " [  4.04144770e+07   9.64125000e+05   1.38825685e+18   1.45520000e+04\n",
      "    4.40000000e+01   2.03993000e+06   6.12110000e+04   1.34693000e+05\n",
      "    3.67000000e+02   1.75391300e+06   1.29106100e+06   5.58000000e+02\n",
      "    5.00000000e+00   0.00000000e+00   0.00000000e+00   8.00000000e+00\n",
      "    1.00000000e+00   0.00000000e+00   4.00000000e+00   0.00000000e+00\n",
      "    1.00000000e+00   1.00000000e+02   0.00000000e+00   0.00000000e+00\n",
      "    0.00000000e+00   1.00000000e+00   1.00000000e+00   1.00000000e+00\n",
      "    0.00000000e+00   1.00000000e+00   3.00000000e+00   0.00000000e+00\n",
      "    1.90000000e+01   1.84000000e+03   8.26000000e+02   6.10000000e+07\n",
      "    4.40000000e+01   9.66666000e+03   1.00000000e+04   1.00000000e+04\n",
      "    3.25840000e+02  -9.22337204e+18   1.38663360e+18   3.49840000e+02\n",
      "    1.37013120e+18   0.00000000e+00  -9.22337204e+18]]\n",
      "Fraud 3.51% \n",
      "('Total #samples:', 100000)\n",
      "shapes: X[(100000, 44)]=====Y[(100000, 2)]\n"
     ]
    }
   ],
   "source": [
    "# load dataset\n",
    "table = \"data_fraud\"\n",
    "engine = get_engine()\n",
    "dataframe = pd.read_sql_query(\"select * from {table} limit 100000\".format(table=table),engine)\n",
    "dataset = dataframe.values\n",
    "print(\"First one row of the dataset\")\n",
    "print(\"Shape [{}]\".format(dataset.shape))\n",
    "print(dataset[0:2,:])\n",
    "# split into input (X) and output (Y) variables\n",
    "data_dimensions = 45\n",
    "#first dimension is the index, must be removed!!!!\n",
    "X = dataset[:, 1:data_dimensions]\n",
    "Y = dataset[:, data_dimensions]\n",
    "\n",
    "print(\"Fraud {}% \".format(float(np.sum(Y==1))*100.0/Y.shape[0]))\n",
    "print(\"Total #samples:\",Y.shape[0])\n",
    "Y = to_categorical(Y, nb_classes=None)\n",
    "\n",
    "\n",
    "input_dimensions = X.shape[1]\n",
    "print(\"shapes: X[{}]=====Y[{}]\".format(X.shape, Y.shape))"
   ]
  },
  {
   "cell_type": "code",
   "execution_count": 69,
   "metadata": {
    "collapsed": true
   },
   "outputs": [],
   "source": [
    "def reshape_time(raw_data,seq_len=100):\n",
    "    total = raw_data.shape[0]\n",
    "    feat_num = raw_data.shape[1]\n",
    "    seq_num = total/seq_len\n",
    "    reshaped_data = raw_data.reshape((seq_num,seq_len,feat_num))\n",
    "    return reshaped_data"
   ]
  },
  {
   "cell_type": "code",
   "execution_count": 68,
   "metadata": {
    "collapsed": true
   },
   "outputs": [],
   "source": [
    "def load_sql(index,table,lim = 1e5):\n",
    "    dataframe = pd.read_sql_query(\"select * from {table} limit {lim} offset {offset}\".format(table=table,lim=lim,offset=index),engine)\n",
    "    dataset = dataframe.values\n",
    "    # split into input (X) and output (Y) variables\n",
    "    data_dimensions = 45\n",
    "    #first dimension is the index, must be removed!!!!\n",
    "    X = dataset[:, 1:data_dimensions]\n",
    "    Y = dataset[:, data_dimensions]\n",
    "    Y = to_categorical(Y, nb_classes=None)\n",
    "    return X, Y"
   ]
  },
  {
   "cell_type": "code",
   "execution_count": 70,
   "metadata": {
    "collapsed": true
   },
   "outputs": [],
   "source": [
    "def load_sql_time(index,table,batch_size = 1e5):\n",
    "    dataframe = pd.read_sql_query(\"select * from {table} order by authzn_rqst_proc_tm limit {lim} offset {offset}\".format(table=table,lim=batch_size,offset=index),engine)\n",
    "#     dataset = dataframe.sort_values(['authzn_rqst_proc_tm'], ascending=[1]).values\n",
    "    dataset = dataframe.values\n",
    "#     print (dataframe.columns)\n",
    "    # split into input (X) and output (Y) variables\n",
    "    data_dimensions = 45\n",
    "    #first dimension is the index, must be removed!!!!\n",
    "    X = dataset[:, 1:data_dimensions]\n",
    "    Y = dataset[:, data_dimensions]\n",
    "    Y = to_categorical(Y, nb_classes=None)\n",
    "    X = reshape_time(X)\n",
    "    Y = reshape_time(Y)\n",
    "    return X, Y"
   ]
  },
  {
   "cell_type": "code",
   "execution_count": 46,
   "metadata": {},
   "outputs": [],
   "source": [
    "#this will give chunk of 10K pictures, 100 such chunks form entire dataset:\n",
    "def myGenerator(total_samples,table=\"data_fraud_little\",batch_size=):\n",
    "    engine = get_engine()\n",
    "    total_samples = pd.read_sql_query(\"select count(*) from {table}\".format(table=table),engine).values[0][0]\n",
    "    print(\"total samples {}\".format(total_samples))\n",
    "\n",
    "    while 1:\n",
    "            # following loads data from sql file numbered with fileIndex\n",
    "            for fileIndex in range(0,total_samples,batch_size)\n",
    "            (X_train, y_train) = load_sql_time(fileIndex,table,batch_size)\n",
    "            yield X_train, y_train\n",
    "\n"
   ]
  },
  {
   "cell_type": "code",
   "execution_count": 71,
   "metadata": {},
   "outputs": [
    {
     "name": "stdout",
     "output_type": "stream",
     "text": [
      "total samples 600000\n",
      "[  1.36736678e+18   1.36736694e+18   1.36736704e+18   1.36736720e+18\n",
      "   1.36736739e+18   1.36736793e+18   1.36736809e+18   1.36736810e+18\n",
      "   1.36736811e+18   1.36736825e+18   1.36736829e+18   1.36736829e+18\n",
      "   1.36736887e+18   1.36736894e+18   1.36736918e+18   1.36736990e+18\n",
      "   1.36737033e+18   1.36737046e+18   1.36737053e+18   1.36737061e+18\n",
      "   1.36737085e+18   1.36737127e+18   1.36737135e+18   1.36737137e+18\n",
      "   1.36737140e+18   1.36737159e+18   1.36737166e+18   1.36737175e+18\n",
      "   1.36737210e+18   1.36737211e+18   1.36737214e+18   1.36737234e+18\n",
      "   1.36737244e+18   1.36737327e+18   1.36737344e+18   1.36737381e+18\n",
      "   1.36737394e+18   1.36737394e+18   1.36737411e+18   1.36737455e+18\n",
      "   1.36737483e+18   1.36737484e+18   1.36737487e+18   1.36737489e+18\n",
      "   1.36737494e+18   1.36737498e+18   1.36737499e+18   1.36737511e+18\n",
      "   1.36737518e+18   1.36737539e+18   1.36737540e+18   1.36737542e+18\n",
      "   1.36737545e+18   1.36737545e+18   1.36737568e+18   1.36737593e+18\n",
      "   1.36737692e+18   1.36737693e+18   1.36737710e+18   1.36737719e+18\n",
      "   1.36737736e+18   1.36737742e+18   1.36737836e+18   1.36737836e+18\n",
      "   1.36737836e+18   1.36737840e+18   1.36737847e+18   1.36737853e+18\n",
      "   1.36737854e+18   1.36737857e+18   1.36737872e+18   1.36737887e+18\n",
      "   1.36737891e+18   1.36737899e+18   1.36737919e+18   1.36737937e+18\n",
      "   1.36737967e+18   1.36737978e+18   1.36737998e+18   1.36738001e+18\n",
      "   1.36738001e+18   1.36738022e+18   1.36738027e+18   1.36738096e+18\n",
      "   1.36738116e+18   1.36738143e+18   1.36738186e+18   1.36738206e+18\n",
      "   1.36738212e+18   1.36738234e+18   1.36738258e+18   1.36738272e+18\n",
      "   1.36738277e+18   1.36738301e+18   1.36738302e+18   1.36738303e+18\n",
      "   1.36738304e+18   1.36738305e+18   1.36738312e+18   1.36738352e+18]\n",
      "[  1.36736694e+18   1.36736704e+18   1.36736720e+18   1.36736739e+18\n",
      "   1.36736793e+18   1.36736809e+18   1.36736810e+18   1.36736811e+18\n",
      "   1.36736825e+18   1.36736829e+18   1.36736829e+18   1.36736887e+18\n",
      "   1.36736894e+18   1.36736918e+18   1.36736990e+18   1.36737033e+18\n",
      "   1.36737046e+18   1.36737053e+18   1.36737061e+18   1.36737085e+18\n",
      "   1.36737127e+18   1.36737135e+18   1.36737137e+18   1.36737140e+18\n",
      "   1.36737159e+18   1.36737166e+18   1.36737175e+18   1.36737210e+18\n",
      "   1.36737211e+18   1.36737214e+18   1.36737234e+18   1.36737244e+18\n",
      "   1.36737327e+18   1.36737344e+18   1.36737381e+18   1.36737394e+18\n",
      "   1.36737394e+18   1.36737411e+18   1.36737455e+18   1.36737483e+18\n",
      "   1.36737484e+18   1.36737487e+18   1.36737489e+18   1.36737494e+18\n",
      "   1.36737498e+18   1.36737499e+18   1.36737511e+18   1.36737518e+18\n",
      "   1.36737539e+18   1.36737540e+18   1.36737542e+18   1.36737545e+18\n",
      "   1.36737545e+18   1.36737568e+18   1.36737593e+18   1.36737692e+18\n",
      "   1.36737693e+18   1.36737710e+18   1.36737719e+18   1.36737736e+18\n",
      "   1.36737742e+18   1.36737836e+18   1.36737836e+18   1.36737836e+18\n",
      "   1.36737840e+18   1.36737847e+18   1.36737853e+18   1.36737854e+18\n",
      "   1.36737857e+18   1.36737872e+18   1.36737887e+18   1.36737891e+18\n",
      "   1.36737899e+18   1.36737919e+18   1.36737937e+18   1.36737967e+18\n",
      "   1.36737978e+18   1.36737998e+18   1.36738001e+18   1.36738001e+18\n",
      "   1.36738022e+18   1.36738027e+18   1.36738096e+18   1.36738116e+18\n",
      "   1.36738143e+18   1.36738186e+18   1.36738206e+18   1.36738212e+18\n",
      "   1.36738234e+18   1.36738258e+18   1.36738272e+18   1.36738277e+18\n",
      "   1.36738301e+18   1.36738302e+18   1.36738303e+18   1.36738304e+18\n",
      "   1.36738305e+18   1.36738312e+18   1.36738352e+18   1.36738448e+18]\n"
     ]
    }
   ],
   "source": [
    "gen = myGenerator(\"data_fraud_little\")\n",
    "for i in range(2):\n",
    "    data = next(gen)\n",
    "    print(data[0][0][:][:,1])"
   ]
  },
  {
   "cell_type": "markdown",
   "metadata": {},
   "source": [
    "data[0][0][0:10] returns a matrix (10,44), which can than be indexed"
   ]
  },
  {
   "cell_type": "code",
   "execution_count": 59,
   "metadata": {},
   "outputs": [
    {
     "data": {
      "text/plain": [
       "array([  1.36736694e+18,   1.36736704e+18,   1.36736720e+18,\n",
       "         1.36736739e+18,   1.36736793e+18,   1.36736809e+18,\n",
       "         1.36736810e+18,   1.36736811e+18,   1.36736825e+18,\n",
       "         1.36736829e+18])"
      ]
     },
     "execution_count": 59,
     "metadata": {},
     "output_type": "execute_result"
    }
   ],
   "source": [
    "X = data[0]\n",
    "data[0][0][0:10][:,1]"
   ]
  },
  {
   "cell_type": "code",
   "execution_count": 51,
   "metadata": {},
   "outputs": [
    {
     "data": {
      "text/plain": [
       "(44,)"
      ]
     },
     "execution_count": 51,
     "metadata": {},
     "output_type": "execute_result"
    }
   ],
   "source": [
    "data[0][0][0].shape"
   ]
  },
  {
   "cell_type": "code",
   "execution_count": 63,
   "metadata": {},
   "outputs": [
    {
     "data": {
      "text/plain": [
       "(1000, 100, 44)"
      ]
     },
     "execution_count": 63,
     "metadata": {},
     "output_type": "execute_result"
    }
   ],
   "source": [
    "data[0].shape"
   ]
  },
  {
   "cell_type": "code",
   "execution_count": 62,
   "metadata": {},
   "outputs": [
    {
     "data": {
      "text/plain": [
       "(1000, 100, 2)"
      ]
     },
     "execution_count": 62,
     "metadata": {},
     "output_type": "execute_result"
    }
   ],
   "source": [
    "data[1].shape"
   ]
  },
  {
   "cell_type": "code",
   "execution_count": 64,
   "metadata": {
    "collapsed": true
   },
   "outputs": [],
   "source": [
    "from keras.layers import TimeDistributed\n",
    "from keras.layers.recurrent import SimpleRNN"
   ]
  },
  {
   "cell_type": "code",
   "execution_count": 65,
   "metadata": {
    "collapsed": true
   },
   "outputs": [],
   "source": [
    "def keras_rnn_model(input_dimensions,seq_len,hidden=100,layers=1,unit=SimpleRNN):\n",
    "    # create model\n",
    "    model = Sequential()\n",
    "    model.add(unit(hidden, input_shape=(seq_len,input_dimensions), init='normal', activation='relu',return_sequences=True))\n",
    "    if hidden is not None:\n",
    "        for l in range(layers):\n",
    "            model.add(unit(hidden, init='normal', activation='relu',return_sequences=True))\n",
    "    model.add(TimeDistributed(Dense(2, init='normal', activation='softmax')))\n",
    "    # Compile model\n",
    "    model.compile(loss='binary_crossentropy', optimizer='rmsprop')\n",
    "    return model"
   ]
  },
  {
   "cell_type": "code",
   "execution_count": null,
   "metadata": {
    "collapsed": true
   },
   "outputs": [],
   "source": []
  }
 ],
 "metadata": {
  "kernelspec": {
   "display_name": "Python 2",
   "language": "python",
   "name": "python2"
  },
  "language_info": {
   "codemirror_mode": {
    "name": "ipython",
    "version": 2
   },
   "file_extension": ".py",
   "mimetype": "text/x-python",
   "name": "python",
   "nbconvert_exporter": "python",
   "pygments_lexer": "ipython2",
   "version": "2.7.6"
  }
 },
 "nbformat": 4,
 "nbformat_minor": 2
}
