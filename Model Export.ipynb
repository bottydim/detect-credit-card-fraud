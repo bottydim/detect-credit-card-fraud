{
 "cells": [
  {
   "cell_type": "code",
   "execution_count": 3,
   "metadata": {
    "collapsed": false,
    "scrolled": true
   },
   "outputs": [
    {
     "name": "stderr",
     "output_type": "stream",
     "text": [
      "Using Theano backend.\n",
      "Using gpu device 0: GeForce GTX 980 (CNMeM is disabled, cuDNN 5103)\n",
      "/usr/local/lib/python2.7/dist-packages/theano/sandbox/cuda/__init__.py:600: UserWarning:\n",
      "\n",
      "Your cuDNN version is more recent than the one Theano officially supports. If you see any problems, try updating Theano or downgrading cuDNN to version 5.\n",
      "\n"
     ]
    }
   ],
   "source": [
    "import h5py\n",
    "import numpy as np\n",
    "from ccfd_dnn.model import *\n",
    "from ccfd_dnn.model_eval import *"
   ]
  },
  {
   "cell_type": "code",
   "execution_count": 4,
   "metadata": {
    "collapsed": true
   },
   "outputs": [],
   "source": [
    "table = 'data_little_enc'\n",
    "w_id = 1"
   ]
  },
  {
   "cell_type": "code",
   "execution_count": 5,
   "metadata": {
    "collapsed": false
   },
   "outputs": [
    {
     "name": "stdout",
     "output_type": "stream",
     "text": [
      "Model LOADED!\n"
     ]
    }
   ],
   "source": [
    "    disk_engine = get_engine()\n",
    "    ml = ModelLoader(table,w_id)\n",
    "    model = ml.model\n",
    "    title = 'BiRNN-DO3-DLE'"
   ]
  },
  {
   "cell_type": "code",
   "execution_count": 6,
   "metadata": {
    "collapsed": false,
    "scrolled": true
   },
   "outputs": [
    {
     "data": {
      "text/plain": [
       "{'_function_kwargs': {},\n",
       " '_output_mask_cache': {'140177944842064_140177756121744': All{2}.0,\n",
       "  '140177944842064_9545840': All{2}.0},\n",
       " '_output_shape_cache': {'(None, 60, 44)': (None, 60, 3)},\n",
       " '_output_tensor_cache': {'140177944842064_9545840': Reshape{3}.0},\n",
       " 'built': True,\n",
       " 'container_nodes': {'gru_1_ib-0',\n",
       "  'gru_2_ib-0',\n",
       "  'gru_3_ib-0',\n",
       "  'gru_4_ib-0',\n",
       "  'gru_5_ib-0',\n",
       "  'gru_6_ib-0',\n",
       "  'gru_7_ib-0',\n",
       "  'gru_8_ib-0',\n",
       "  'main_input_ib-0',\n",
       "  'masking_1_ib-0',\n",
       "  'merge_1_ib-0',\n",
       "  'merge_2_ib-0',\n",
       "  'merge_3_ib-0',\n",
       "  'merge_4_ib-0',\n",
       "  'timedistributed_1_ib-0'},\n",
       " 'inbound_nodes': [<keras.engine.topology.Node at 0x7f7dad5d20d0>],\n",
       " 'input_layers': [<keras.engine.topology.InputLayer at 0x7f7db89b8f90>],\n",
       " 'input_layers_node_indices': [0],\n",
       " 'input_layers_tensor_indices': [0],\n",
       " 'input_names': ['main_input'],\n",
       " 'inputs': [main_input],\n",
       " 'internal_input_shapes': [(None, 60, 44)],\n",
       " 'internal_output_shapes': [(None, 60, 3)],\n",
       " 'layers': [<keras.engine.topology.InputLayer at 0x7f7db89b8f90>,\n",
       "  <keras.layers.core.Masking at 0x7f7db88ae150>,\n",
       "  <keras.layers.recurrent.GRU at 0x7f7db88ae190>,\n",
       "  <keras.layers.recurrent.GRU at 0x7f7db890cdd0>,\n",
       "  <keras.engine.topology.Merge at 0x7f7db8372350>,\n",
       "  <keras.layers.recurrent.GRU at 0x7f7db828ca90>,\n",
       "  <keras.layers.recurrent.GRU at 0x7f7db82ae310>,\n",
       "  <keras.engine.topology.Merge at 0x7f7db80cf1d0>,\n",
       "  <keras.layers.recurrent.GRU at 0x7f7db80461d0>,\n",
       "  <keras.layers.recurrent.GRU at 0x7f7db8046990>,\n",
       "  <keras.engine.topology.Merge at 0x7f7db02ddc10>,\n",
       "  <keras.layers.recurrent.GRU at 0x7f7db00bbd50>,\n",
       "  <keras.layers.recurrent.GRU at 0x7f7db00c1550>,\n",
       "  <keras.engine.topology.Merge at 0x7f7db0072290>,\n",
       "  <keras.layers.wrappers.TimeDistributed at 0x7f7db888a690>],\n",
       " 'layers_by_depth': {0: [<keras.layers.wrappers.TimeDistributed at 0x7f7db888a690>],\n",
       "  1: [<keras.engine.topology.Merge at 0x7f7db0072290>],\n",
       "  2: [<keras.layers.recurrent.GRU at 0x7f7db00bbd50>,\n",
       "   <keras.layers.recurrent.GRU at 0x7f7db00c1550>],\n",
       "  3: [<keras.engine.topology.Merge at 0x7f7db02ddc10>],\n",
       "  4: [<keras.layers.recurrent.GRU at 0x7f7db80461d0>,\n",
       "   <keras.layers.recurrent.GRU at 0x7f7db8046990>],\n",
       "  5: [<keras.engine.topology.Merge at 0x7f7db80cf1d0>],\n",
       "  6: [<keras.layers.recurrent.GRU at 0x7f7db828ca90>,\n",
       "   <keras.layers.recurrent.GRU at 0x7f7db82ae310>],\n",
       "  7: [<keras.engine.topology.Merge at 0x7f7db8372350>],\n",
       "  8: [<keras.layers.recurrent.GRU at 0x7f7db88ae190>,\n",
       "   <keras.layers.recurrent.GRU at 0x7f7db890cdd0>],\n",
       "  9: [<keras.layers.core.Masking at 0x7f7db88ae150>],\n",
       "  10: [<keras.engine.topology.InputLayer at 0x7f7db89b8f90>]},\n",
       " 'loss': 'sparse_categorical_crossentropy',\n",
       " 'loss_functions': [<function keras.objectives.sparse_categorical_crossentropy>],\n",
       " 'loss_weights': None,\n",
       " 'metrics': [mean],\n",
       " 'metrics_names': ['loss', 'acc'],\n",
       " 'name': 'model_1',\n",
       " 'nodes_by_depth': {0: [<keras.engine.topology.Node at 0x7f7dad57a5d0>],\n",
       "  1: [<keras.engine.topology.Node at 0x7f7dad5bead0>],\n",
       "  2: [<keras.engine.topology.Node at 0x7f7db0005e50>,\n",
       "   <keras.engine.topology.Node at 0x7f7dad5c5690>],\n",
       "  3: [<keras.engine.topology.Node at 0x7f7db00c1350>],\n",
       "  4: [<keras.engine.topology.Node at 0x7f7db00bb990>,\n",
       "   <keras.engine.topology.Node at 0x7f7db02dd7d0>],\n",
       "  5: [<keras.engine.topology.Node at 0x7f7db8046790>],\n",
       "  6: [<keras.engine.topology.Node at 0x7f7db03f4dd0>,\n",
       "   <keras.engine.topology.Node at 0x7f7db80c2d90>],\n",
       "  7: [<keras.engine.topology.Node at 0x7f7db82ae110>],\n",
       "  8: [<keras.engine.topology.Node at 0x7f7db828c6d0>,\n",
       "   <keras.engine.topology.Node at 0x7f7db836ded0>],\n",
       "  9: [<keras.engine.topology.Node at 0x7f7db890cf90>],\n",
       "  10: [<keras.engine.topology.Node at 0x7f7db88ae110>]},\n",
       " 'optimizer': <keras.optimizers.RMSprop at 0x7f7dad57a650>,\n",
       " 'outbound_nodes': [],\n",
       " 'output_layers': [<keras.layers.wrappers.TimeDistributed at 0x7f7db888a690>],\n",
       " 'output_layers_node_indices': [0],\n",
       " 'output_layers_tensor_indices': [0],\n",
       " 'output_names': ['timedistributed_1'],\n",
       " 'outputs': [Reshape{3}.0],\n",
       " 'predict_function': None,\n",
       " 'sample_weight_mode': 'temporal',\n",
       " 'sample_weight_modes': ['temporal'],\n",
       " 'sample_weights': [timedistributed_1_sample_weights],\n",
       " 'supports_masking': False,\n",
       " 'targets': [timedistributed_1_target],\n",
       " 'test_function': None,\n",
       " 'total_loss': Elemwise{mul,no_inplace}.0,\n",
       " 'train_function': None}"
      ]
     },
     "execution_count": 6,
     "metadata": {},
     "output_type": "execute_result"
    }
   ],
   "source": [
    "model.__dict__"
   ]
  },
  {
   "cell_type": "code",
   "execution_count": 16,
   "metadata": {
    "collapsed": false
   },
   "outputs": [
    {
     "data": {
      "text/plain": [
       "{'inbound_layers': [],\n",
       " 'input_masks': [None],\n",
       " 'input_shapes': [(None, 60, 44)],\n",
       " 'input_tensors': [main_input],\n",
       " 'node_indices': [],\n",
       " 'outbound_layer': <keras.engine.topology.InputLayer at 0x7f7db89b8f90>,\n",
       " 'output_masks': [None],\n",
       " 'output_shapes': [(None, 60, 44)],\n",
       " 'output_tensors': [main_input],\n",
       " 'tensor_indices': []}"
      ]
     },
     "execution_count": 16,
     "metadata": {},
     "output_type": "execute_result"
    }
   ],
   "source": [
    "model.layers[0].inbound_nodes[0].__dict__"
   ]
  },
  {
   "cell_type": "code",
   "execution_count": 27,
   "metadata": {
    "collapsed": false
   },
   "outputs": [
    {
     "data": {
      "text/plain": [
       "{'U': gru_1_U,\n",
       " 'U_regularizer': None,\n",
       " 'W': gru_1_W,\n",
       " 'W_regularizer': None,\n",
       " 'activation': <function keras.activations.tanh>,\n",
       " 'b': gru_1_b,\n",
       " 'b_regularizer': None,\n",
       " 'batch_input_shape': (None, None, 44),\n",
       " 'built': True,\n",
       " 'constraints': {},\n",
       " 'consume_less': 'gpu',\n",
       " 'dropout_U': 0.0,\n",
       " 'dropout_W': 0.3,\n",
       " 'go_backwards': False,\n",
       " 'inbound_nodes': [<keras.engine.topology.Node at 0x7f7db836ded0>],\n",
       " 'init': <function keras.initializations.glorot_uniform>,\n",
       " 'initial_weights': None,\n",
       " 'inner_activation': <function keras.activations.hard_sigmoid>,\n",
       " 'inner_init': <function keras.initializations.orthogonal>,\n",
       " 'input_dim': 44,\n",
       " 'input_dtype': 'float32',\n",
       " 'input_length': None,\n",
       " 'input_spec': [<keras.engine.topology.InputSpec at 0x7f7db891ce10>],\n",
       " 'name': 'gru_1',\n",
       " 'non_trainable_weights': [],\n",
       " 'outbound_nodes': [<keras.engine.topology.Node at 0x7f7db82ae110>],\n",
       " 'output_dim': 320,\n",
       " 'regularizers': [],\n",
       " 'return_sequences': True,\n",
       " 'stateful': False,\n",
       " 'states': [None],\n",
       " 'supports_masking': True,\n",
       " 'trainable': True,\n",
       " 'trainable_weights': [gru_1_W, gru_1_U, gru_1_b],\n",
       " 'unroll': False,\n",
       " 'uses_learning_phase': True}"
      ]
     },
     "execution_count": 27,
     "metadata": {},
     "output_type": "execute_result"
    }
   ],
   "source": [
    "model.layers[2].__dict__"
   ]
  },
  {
   "cell_type": "code",
   "execution_count": 30,
   "metadata": {
    "collapsed": false,
    "scrolled": true
   },
   "outputs": [
    {
     "name": "stdout",
     "output_type": "stream",
     "text": [
      "{'layers': None, 'regularizers': [], 'outbound_nodes': [<keras.engine.topology.Node object at 0x7f7db80c2d90>, <keras.engine.topology.Node object at 0x7f7db03f4dd0>], 'trainable_weights': [], 'name': 'merge_1', 'concat_axis': -1, 'supports_masking': True, 'uses_learning_phase': False, 'non_trainable_weights': [], 'dot_axes': [-1, -1], '_output_shape': None, 'mode': 'concat', 'built': True, '_output_mask': None, 'inbound_nodes': [<keras.engine.topology.Node object at 0x7f7db82ae110>], 'input_spec': None, 'node_indices': None, 'constraints': {}}\n",
      "{'layers': None, 'regularizers': [], 'outbound_nodes': [<keras.engine.topology.Node object at 0x7f7db02dd7d0>, <keras.engine.topology.Node object at 0x7f7db00bb990>], 'trainable_weights': [], 'name': 'merge_2', 'concat_axis': -1, 'supports_masking': True, 'uses_learning_phase': False, 'non_trainable_weights': [], 'dot_axes': [-1, -1], '_output_shape': None, 'mode': 'concat', 'built': True, '_output_mask': None, 'inbound_nodes': [<keras.engine.topology.Node object at 0x7f7db8046790>], 'input_spec': None, 'node_indices': None, 'constraints': {}}\n",
      "{'layers': None, 'regularizers': [], 'outbound_nodes': [<keras.engine.topology.Node object at 0x7f7db0005e50>, <keras.engine.topology.Node object at 0x7f7dad5c5690>], 'trainable_weights': [], 'name': 'merge_3', 'concat_axis': -1, 'supports_masking': True, 'uses_learning_phase': False, 'non_trainable_weights': [], 'dot_axes': [-1, -1], '_output_shape': None, 'mode': 'concat', 'built': True, '_output_mask': None, 'inbound_nodes': [<keras.engine.topology.Node object at 0x7f7db00c1350>], 'input_spec': None, 'node_indices': None, 'constraints': {}}\n",
      "{'layers': None, 'regularizers': [], 'outbound_nodes': [<keras.engine.topology.Node object at 0x7f7dad57a5d0>], 'trainable_weights': [], 'name': 'merge_4', 'concat_axis': -1, 'supports_masking': True, 'uses_learning_phase': False, 'non_trainable_weights': [], 'dot_axes': [-1, -1], '_output_shape': None, 'mode': 'concat', 'built': True, '_output_mask': None, 'inbound_nodes': [<keras.engine.topology.Node object at 0x7f7dad5bead0>], 'input_spec': None, 'node_indices': None, 'constraints': {}}\n"
     ]
    }
   ],
   "source": [
    "inter_models = []\n",
    "for layer in model.layers:\n",
    "    if type(layer) == keras.engine.topology.Merge:\n",
    "        print layer.__dict__\n",
    "        inter_models.append(Model(input=model.inputs, output=layer.output))"
   ]
  },
  {
   "cell_type": "code",
   "execution_count": 28,
   "metadata": {
    "collapsed": false,
    "scrolled": true
   },
   "outputs": [
    {
     "ename": "AttributeError",
     "evalue": "'Model' object has no attribute 'merge_1_ib'",
     "output_type": "error",
     "traceback": [
      "\u001b[1;31m---------------------------------------------------------------------------\u001b[0m",
      "\u001b[1;31mAttributeError\u001b[0m                            Traceback (most recent call last)",
      "\u001b[1;32m<ipython-input-28-1d0d327b58fe>\u001b[0m in \u001b[0;36m<module>\u001b[1;34m()\u001b[0m\n\u001b[0;32m      1\u001b[0m \u001b[0minter_models\u001b[0m \u001b[1;33m=\u001b[0m \u001b[1;33m[\u001b[0m\u001b[1;33m]\u001b[0m\u001b[1;33m\u001b[0m\u001b[0m\n\u001b[1;32m----> 2\u001b[1;33m \u001b[1;32mfor\u001b[0m \u001b[0mlayer\u001b[0m \u001b[1;32min\u001b[0m \u001b[0mmodel\u001b[0m\u001b[1;33m.\u001b[0m\u001b[0mmerge_1_ib\u001b[0m\u001b[1;33m-\u001b[0m\u001b[1;36m0\u001b[0m\u001b[1;33m:\u001b[0m\u001b[1;33m\u001b[0m\u001b[0m\n\u001b[0m\u001b[0;32m      3\u001b[0m     \u001b[1;32mif\u001b[0m \u001b[0mtype\u001b[0m\u001b[1;33m(\u001b[0m\u001b[0mlayer\u001b[0m\u001b[1;33m)\u001b[0m \u001b[1;33m==\u001b[0m \u001b[0mkeras\u001b[0m\u001b[1;33m.\u001b[0m\u001b[0mengine\u001b[0m\u001b[1;33m.\u001b[0m\u001b[0mtopology\u001b[0m\u001b[1;33m.\u001b[0m\u001b[0mMerge\u001b[0m\u001b[1;33m:\u001b[0m\u001b[1;33m\u001b[0m\u001b[0m\n\u001b[0;32m      4\u001b[0m         \u001b[1;32mprint\u001b[0m \u001b[0mlayer\u001b[0m\u001b[1;33m.\u001b[0m\u001b[0m__dict__\u001b[0m\u001b[1;33m\u001b[0m\u001b[0m\n\u001b[0;32m      5\u001b[0m         \u001b[1;32mprint\u001b[0m \u001b[0mtype\u001b[0m\u001b[1;33m(\u001b[0m\u001b[0mlayer\u001b[0m\u001b[1;33m(\u001b[0m\u001b[1;33m)\u001b[0m\u001b[1;33m)\u001b[0m\u001b[1;33m\u001b[0m\u001b[0m\n",
      "\u001b[1;31mAttributeError\u001b[0m: 'Model' object has no attribute 'merge_1_ib'"
     ]
    }
   ],
   "source": [
    "inter_models = []\n",
    "for layer in model.merge_1_ib-0:\n",
    "    if type(layer) == keras.engine.topology.Merge:\n",
    "        print layer.__dict__\n",
    "        print type(layer())\n",
    "        inter_models.append(Model(input=model.inputs, output=layer.output))"
   ]
  },
  {
   "cell_type": "code",
   "execution_count": 18,
   "metadata": {
    "collapsed": false
   },
   "outputs": [
    {
     "data": {
      "text/plain": [
       "theano.tensor.var.TensorVariable"
      ]
     },
     "execution_count": 18,
     "metadata": {},
     "output_type": "execute_result"
    }
   ],
   "source": [
    "test_layer = Input(shape=(None,60,44),name='test')\n",
    "type(test_layer)"
   ]
  },
  {
   "cell_type": "code",
   "execution_count": 20,
   "metadata": {
    "collapsed": false
   },
   "outputs": [
    {
     "ename": "Exception",
     "evalue": "Input 0 is incompatible with layer dense_1: expected ndim=2, found ndim=4",
     "output_type": "error",
     "traceback": [
      "\u001b[1;31m---------------------------------------------------------------------------\u001b[0m",
      "\u001b[1;31mException\u001b[0m                                 Traceback (most recent call last)",
      "\u001b[1;32m<ipython-input-20-09dd718ac33a>\u001b[0m in \u001b[0;36m<module>\u001b[1;34m()\u001b[0m\n\u001b[1;32m----> 1\u001b[1;33m \u001b[0mmask\u001b[0m \u001b[1;33m=\u001b[0m\u001b[0mDense\u001b[0m\u001b[1;33m(\u001b[0m\u001b[1;36m64\u001b[0m\u001b[1;33m,\u001b[0m \u001b[0mactivation\u001b[0m\u001b[1;33m=\u001b[0m\u001b[1;34m'relu'\u001b[0m\u001b[1;33m)\u001b[0m\u001b[1;33m(\u001b[0m\u001b[0mtest_layer\u001b[0m\u001b[1;33m)\u001b[0m\u001b[1;33m\u001b[0m\u001b[0m\n\u001b[0m\u001b[0;32m      2\u001b[0m \u001b[0mtype\u001b[0m\u001b[1;33m(\u001b[0m\u001b[0mmask\u001b[0m\u001b[1;33m)\u001b[0m\u001b[1;33m\u001b[0m\u001b[0m\n",
      "\u001b[1;32m/usr/local/lib/python2.7/dist-packages/keras/engine/topology.pyc\u001b[0m in \u001b[0;36m__call__\u001b[1;34m(self, x, mask)\u001b[0m\n\u001b[0;32m    439\u001b[0m             \u001b[1;31m# raise exceptions in case the input is not compatible\u001b[0m\u001b[1;33m\u001b[0m\u001b[1;33m\u001b[0m\u001b[0m\n\u001b[0;32m    440\u001b[0m             \u001b[1;31m# with the input_spec specified in the layer constructor\u001b[0m\u001b[1;33m\u001b[0m\u001b[1;33m\u001b[0m\u001b[0m\n\u001b[1;32m--> 441\u001b[1;33m             \u001b[0mself\u001b[0m\u001b[1;33m.\u001b[0m\u001b[0massert_input_compatibility\u001b[0m\u001b[1;33m(\u001b[0m\u001b[0mx\u001b[0m\u001b[1;33m)\u001b[0m\u001b[1;33m\u001b[0m\u001b[0m\n\u001b[0m\u001b[0;32m    442\u001b[0m \u001b[1;33m\u001b[0m\u001b[0m\n\u001b[0;32m    443\u001b[0m             \u001b[1;31m# collect input shapes to build layer\u001b[0m\u001b[1;33m\u001b[0m\u001b[1;33m\u001b[0m\u001b[0m\n",
      "\u001b[1;32m/usr/local/lib/python2.7/dist-packages/keras/engine/topology.pyc\u001b[0m in \u001b[0;36massert_input_compatibility\u001b[1;34m(self, input)\u001b[0m\n\u001b[0;32m    380\u001b[0m                                         \u001b[0mself\u001b[0m\u001b[1;33m.\u001b[0m\u001b[0mname\u001b[0m \u001b[1;33m+\u001b[0m \u001b[1;34m': expected ndim='\u001b[0m \u001b[1;33m+\u001b[0m\u001b[1;33m\u001b[0m\u001b[0m\n\u001b[0;32m    381\u001b[0m                                         \u001b[0mstr\u001b[0m\u001b[1;33m(\u001b[0m\u001b[0mspec\u001b[0m\u001b[1;33m.\u001b[0m\u001b[0mndim\u001b[0m\u001b[1;33m)\u001b[0m \u001b[1;33m+\u001b[0m \u001b[1;34m', found ndim='\u001b[0m \u001b[1;33m+\u001b[0m\u001b[1;33m\u001b[0m\u001b[0m\n\u001b[1;32m--> 382\u001b[1;33m                                         str(K.ndim(x)))\n\u001b[0m\u001b[0;32m    383\u001b[0m             \u001b[1;32mif\u001b[0m \u001b[0mspec\u001b[0m\u001b[1;33m.\u001b[0m\u001b[0mdtype\u001b[0m \u001b[1;32mis\u001b[0m \u001b[1;32mnot\u001b[0m \u001b[0mNone\u001b[0m\u001b[1;33m:\u001b[0m\u001b[1;33m\u001b[0m\u001b[0m\n\u001b[0;32m    384\u001b[0m                 \u001b[1;32mif\u001b[0m \u001b[0mK\u001b[0m\u001b[1;33m.\u001b[0m\u001b[0mdtype\u001b[0m\u001b[1;33m(\u001b[0m\u001b[0mx\u001b[0m\u001b[1;33m)\u001b[0m \u001b[1;33m!=\u001b[0m \u001b[0mspec\u001b[0m\u001b[1;33m.\u001b[0m\u001b[0mdtype\u001b[0m\u001b[1;33m:\u001b[0m\u001b[1;33m\u001b[0m\u001b[0m\n",
      "\u001b[1;31mException\u001b[0m: Input 0 is incompatible with layer dense_1: expected ndim=2, found ndim=4"
     ]
    }
   ],
   "source": [
    "mask = Masking(mask_value=0)(test_layer)\n",
    "type(mask)"
   ]
  },
  {
   "cell_type": "code",
   "execution_count": null,
   "metadata": {
    "collapsed": true
   },
   "outputs": [],
   "source": [
    "input_layer = Input(shape=(int(seq_len_param), 44),name='main_input')\n",
    "mask = Masking(mask_value=0)(input_layer)\n"
   ]
  }
 ],
 "metadata": {
  "kernelspec": {
   "display_name": "Python 2",
   "language": "python",
   "name": "python2"
  },
  "language_info": {
   "codemirror_mode": {
    "name": "ipython",
    "version": 2
   },
   "file_extension": ".py",
   "mimetype": "text/x-python",
   "name": "python",
   "nbconvert_exporter": "python",
   "pygments_lexer": "ipython2",
   "version": "2.7.6"
  }
 },
 "nbformat": 4,
 "nbformat_minor": 0
}
